{
 "cells": [
  {
   "cell_type": "code",
   "execution_count": 1,
   "id": "d9ec123b-58e1-4db7-b017-1b2b057994a1",
   "metadata": {},
   "outputs": [],
   "source": [
    "import numpy as np\n",
    "import pandas as pd\n",
    "import ast\n",
    "import nltk\n",
    "from rake_nltk import Rake\n",
    "from sklearn.feature_extraction.text import CountVectorizer\n",
    "from sklearn.metrics.pairwise import cosine_similarity\n",
    "import pickle"
   ]
  },
  {
   "cell_type": "code",
   "execution_count": 2,
   "id": "f8800ded-f9aa-4a2b-b28d-1584925dc102",
   "metadata": {},
   "outputs": [],
   "source": [
    "# Load datasets\n",
    "movies_df = pd.read_csv(\"datasets/tmdb_5000_movies.csv\")\n",
    "credits_df = pd.read_csv(\"datasets/tmdb_5000_credits.csv\")"
   ]
  },
  {
   "cell_type": "code",
   "execution_count": 3,
   "id": "fce61903-77ab-41d4-9b5d-035842ac8263",
   "metadata": {},
   "outputs": [
    {
     "data": {
      "text/html": [
       "<div>\n",
       "<style scoped>\n",
       "    .dataframe tbody tr th:only-of-type {\n",
       "        vertical-align: middle;\n",
       "    }\n",
       "\n",
       "    .dataframe tbody tr th {\n",
       "        vertical-align: top;\n",
       "    }\n",
       "\n",
       "    .dataframe thead th {\n",
       "        text-align: right;\n",
       "    }\n",
       "</style>\n",
       "<table border=\"1\" class=\"dataframe\">\n",
       "  <thead>\n",
       "    <tr style=\"text-align: right;\">\n",
       "      <th></th>\n",
       "      <th>budget</th>\n",
       "      <th>genres</th>\n",
       "      <th>homepage</th>\n",
       "      <th>id</th>\n",
       "      <th>keywords</th>\n",
       "      <th>original_language</th>\n",
       "      <th>original_title</th>\n",
       "      <th>overview</th>\n",
       "      <th>popularity</th>\n",
       "      <th>production_companies</th>\n",
       "      <th>production_countries</th>\n",
       "      <th>release_date</th>\n",
       "      <th>revenue</th>\n",
       "      <th>runtime</th>\n",
       "      <th>spoken_languages</th>\n",
       "      <th>status</th>\n",
       "      <th>tagline</th>\n",
       "      <th>title</th>\n",
       "      <th>vote_average</th>\n",
       "      <th>vote_count</th>\n",
       "    </tr>\n",
       "  </thead>\n",
       "  <tbody>\n",
       "    <tr>\n",
       "      <th>0</th>\n",
       "      <td>237000000</td>\n",
       "      <td>[{\"id\": 28, \"name\": \"Action\"}, {\"id\": 12, \"nam...</td>\n",
       "      <td>http://www.avatarmovie.com/</td>\n",
       "      <td>19995</td>\n",
       "      <td>[{\"id\": 1463, \"name\": \"culture clash\"}, {\"id\":...</td>\n",
       "      <td>en</td>\n",
       "      <td>Avatar</td>\n",
       "      <td>In the 22nd century, a paraplegic Marine is di...</td>\n",
       "      <td>150.437577</td>\n",
       "      <td>[{\"name\": \"Ingenious Film Partners\", \"id\": 289...</td>\n",
       "      <td>[{\"iso_3166_1\": \"US\", \"name\": \"United States o...</td>\n",
       "      <td>2009-12-10</td>\n",
       "      <td>2787965087</td>\n",
       "      <td>162.0</td>\n",
       "      <td>[{\"iso_639_1\": \"en\", \"name\": \"English\"}, {\"iso...</td>\n",
       "      <td>Released</td>\n",
       "      <td>Enter the World of Pandora.</td>\n",
       "      <td>Avatar</td>\n",
       "      <td>7.2</td>\n",
       "      <td>11800</td>\n",
       "    </tr>\n",
       "    <tr>\n",
       "      <th>1</th>\n",
       "      <td>300000000</td>\n",
       "      <td>[{\"id\": 12, \"name\": \"Adventure\"}, {\"id\": 14, \"...</td>\n",
       "      <td>http://disney.go.com/disneypictures/pirates/</td>\n",
       "      <td>285</td>\n",
       "      <td>[{\"id\": 270, \"name\": \"ocean\"}, {\"id\": 726, \"na...</td>\n",
       "      <td>en</td>\n",
       "      <td>Pirates of the Caribbean: At World's End</td>\n",
       "      <td>Captain Barbossa, long believed to be dead, ha...</td>\n",
       "      <td>139.082615</td>\n",
       "      <td>[{\"name\": \"Walt Disney Pictures\", \"id\": 2}, {\"...</td>\n",
       "      <td>[{\"iso_3166_1\": \"US\", \"name\": \"United States o...</td>\n",
       "      <td>2007-05-19</td>\n",
       "      <td>961000000</td>\n",
       "      <td>169.0</td>\n",
       "      <td>[{\"iso_639_1\": \"en\", \"name\": \"English\"}]</td>\n",
       "      <td>Released</td>\n",
       "      <td>At the end of the world, the adventure begins.</td>\n",
       "      <td>Pirates of the Caribbean: At World's End</td>\n",
       "      <td>6.9</td>\n",
       "      <td>4500</td>\n",
       "    </tr>\n",
       "    <tr>\n",
       "      <th>2</th>\n",
       "      <td>245000000</td>\n",
       "      <td>[{\"id\": 28, \"name\": \"Action\"}, {\"id\": 12, \"nam...</td>\n",
       "      <td>http://www.sonypictures.com/movies/spectre/</td>\n",
       "      <td>206647</td>\n",
       "      <td>[{\"id\": 470, \"name\": \"spy\"}, {\"id\": 818, \"name...</td>\n",
       "      <td>en</td>\n",
       "      <td>Spectre</td>\n",
       "      <td>A cryptic message from Bond’s past sends him o...</td>\n",
       "      <td>107.376788</td>\n",
       "      <td>[{\"name\": \"Columbia Pictures\", \"id\": 5}, {\"nam...</td>\n",
       "      <td>[{\"iso_3166_1\": \"GB\", \"name\": \"United Kingdom\"...</td>\n",
       "      <td>2015-10-26</td>\n",
       "      <td>880674609</td>\n",
       "      <td>148.0</td>\n",
       "      <td>[{\"iso_639_1\": \"fr\", \"name\": \"Fran\\u00e7ais\"},...</td>\n",
       "      <td>Released</td>\n",
       "      <td>A Plan No One Escapes</td>\n",
       "      <td>Spectre</td>\n",
       "      <td>6.3</td>\n",
       "      <td>4466</td>\n",
       "    </tr>\n",
       "    <tr>\n",
       "      <th>3</th>\n",
       "      <td>250000000</td>\n",
       "      <td>[{\"id\": 28, \"name\": \"Action\"}, {\"id\": 80, \"nam...</td>\n",
       "      <td>http://www.thedarkknightrises.com/</td>\n",
       "      <td>49026</td>\n",
       "      <td>[{\"id\": 849, \"name\": \"dc comics\"}, {\"id\": 853,...</td>\n",
       "      <td>en</td>\n",
       "      <td>The Dark Knight Rises</td>\n",
       "      <td>Following the death of District Attorney Harve...</td>\n",
       "      <td>112.312950</td>\n",
       "      <td>[{\"name\": \"Legendary Pictures\", \"id\": 923}, {\"...</td>\n",
       "      <td>[{\"iso_3166_1\": \"US\", \"name\": \"United States o...</td>\n",
       "      <td>2012-07-16</td>\n",
       "      <td>1084939099</td>\n",
       "      <td>165.0</td>\n",
       "      <td>[{\"iso_639_1\": \"en\", \"name\": \"English\"}]</td>\n",
       "      <td>Released</td>\n",
       "      <td>The Legend Ends</td>\n",
       "      <td>The Dark Knight Rises</td>\n",
       "      <td>7.6</td>\n",
       "      <td>9106</td>\n",
       "    </tr>\n",
       "    <tr>\n",
       "      <th>4</th>\n",
       "      <td>260000000</td>\n",
       "      <td>[{\"id\": 28, \"name\": \"Action\"}, {\"id\": 12, \"nam...</td>\n",
       "      <td>http://movies.disney.com/john-carter</td>\n",
       "      <td>49529</td>\n",
       "      <td>[{\"id\": 818, \"name\": \"based on novel\"}, {\"id\":...</td>\n",
       "      <td>en</td>\n",
       "      <td>John Carter</td>\n",
       "      <td>John Carter is a war-weary, former military ca...</td>\n",
       "      <td>43.926995</td>\n",
       "      <td>[{\"name\": \"Walt Disney Pictures\", \"id\": 2}]</td>\n",
       "      <td>[{\"iso_3166_1\": \"US\", \"name\": \"United States o...</td>\n",
       "      <td>2012-03-07</td>\n",
       "      <td>284139100</td>\n",
       "      <td>132.0</td>\n",
       "      <td>[{\"iso_639_1\": \"en\", \"name\": \"English\"}]</td>\n",
       "      <td>Released</td>\n",
       "      <td>Lost in our world, found in another.</td>\n",
       "      <td>John Carter</td>\n",
       "      <td>6.1</td>\n",
       "      <td>2124</td>\n",
       "    </tr>\n",
       "  </tbody>\n",
       "</table>\n",
       "</div>"
      ],
      "text/plain": [
       "      budget                                             genres  \\\n",
       "0  237000000  [{\"id\": 28, \"name\": \"Action\"}, {\"id\": 12, \"nam...   \n",
       "1  300000000  [{\"id\": 12, \"name\": \"Adventure\"}, {\"id\": 14, \"...   \n",
       "2  245000000  [{\"id\": 28, \"name\": \"Action\"}, {\"id\": 12, \"nam...   \n",
       "3  250000000  [{\"id\": 28, \"name\": \"Action\"}, {\"id\": 80, \"nam...   \n",
       "4  260000000  [{\"id\": 28, \"name\": \"Action\"}, {\"id\": 12, \"nam...   \n",
       "\n",
       "                                       homepage      id  \\\n",
       "0                   http://www.avatarmovie.com/   19995   \n",
       "1  http://disney.go.com/disneypictures/pirates/     285   \n",
       "2   http://www.sonypictures.com/movies/spectre/  206647   \n",
       "3            http://www.thedarkknightrises.com/   49026   \n",
       "4          http://movies.disney.com/john-carter   49529   \n",
       "\n",
       "                                            keywords original_language  \\\n",
       "0  [{\"id\": 1463, \"name\": \"culture clash\"}, {\"id\":...                en   \n",
       "1  [{\"id\": 270, \"name\": \"ocean\"}, {\"id\": 726, \"na...                en   \n",
       "2  [{\"id\": 470, \"name\": \"spy\"}, {\"id\": 818, \"name...                en   \n",
       "3  [{\"id\": 849, \"name\": \"dc comics\"}, {\"id\": 853,...                en   \n",
       "4  [{\"id\": 818, \"name\": \"based on novel\"}, {\"id\":...                en   \n",
       "\n",
       "                             original_title  \\\n",
       "0                                    Avatar   \n",
       "1  Pirates of the Caribbean: At World's End   \n",
       "2                                   Spectre   \n",
       "3                     The Dark Knight Rises   \n",
       "4                               John Carter   \n",
       "\n",
       "                                            overview  popularity  \\\n",
       "0  In the 22nd century, a paraplegic Marine is di...  150.437577   \n",
       "1  Captain Barbossa, long believed to be dead, ha...  139.082615   \n",
       "2  A cryptic message from Bond’s past sends him o...  107.376788   \n",
       "3  Following the death of District Attorney Harve...  112.312950   \n",
       "4  John Carter is a war-weary, former military ca...   43.926995   \n",
       "\n",
       "                                production_companies  \\\n",
       "0  [{\"name\": \"Ingenious Film Partners\", \"id\": 289...   \n",
       "1  [{\"name\": \"Walt Disney Pictures\", \"id\": 2}, {\"...   \n",
       "2  [{\"name\": \"Columbia Pictures\", \"id\": 5}, {\"nam...   \n",
       "3  [{\"name\": \"Legendary Pictures\", \"id\": 923}, {\"...   \n",
       "4        [{\"name\": \"Walt Disney Pictures\", \"id\": 2}]   \n",
       "\n",
       "                                production_countries release_date     revenue  \\\n",
       "0  [{\"iso_3166_1\": \"US\", \"name\": \"United States o...   2009-12-10  2787965087   \n",
       "1  [{\"iso_3166_1\": \"US\", \"name\": \"United States o...   2007-05-19   961000000   \n",
       "2  [{\"iso_3166_1\": \"GB\", \"name\": \"United Kingdom\"...   2015-10-26   880674609   \n",
       "3  [{\"iso_3166_1\": \"US\", \"name\": \"United States o...   2012-07-16  1084939099   \n",
       "4  [{\"iso_3166_1\": \"US\", \"name\": \"United States o...   2012-03-07   284139100   \n",
       "\n",
       "   runtime                                   spoken_languages    status  \\\n",
       "0    162.0  [{\"iso_639_1\": \"en\", \"name\": \"English\"}, {\"iso...  Released   \n",
       "1    169.0           [{\"iso_639_1\": \"en\", \"name\": \"English\"}]  Released   \n",
       "2    148.0  [{\"iso_639_1\": \"fr\", \"name\": \"Fran\\u00e7ais\"},...  Released   \n",
       "3    165.0           [{\"iso_639_1\": \"en\", \"name\": \"English\"}]  Released   \n",
       "4    132.0           [{\"iso_639_1\": \"en\", \"name\": \"English\"}]  Released   \n",
       "\n",
       "                                          tagline  \\\n",
       "0                     Enter the World of Pandora.   \n",
       "1  At the end of the world, the adventure begins.   \n",
       "2                           A Plan No One Escapes   \n",
       "3                                 The Legend Ends   \n",
       "4            Lost in our world, found in another.   \n",
       "\n",
       "                                      title  vote_average  vote_count  \n",
       "0                                    Avatar           7.2       11800  \n",
       "1  Pirates of the Caribbean: At World's End           6.9        4500  \n",
       "2                                   Spectre           6.3        4466  \n",
       "3                     The Dark Knight Rises           7.6        9106  \n",
       "4                               John Carter           6.1        2124  "
      ]
     },
     "execution_count": 3,
     "metadata": {},
     "output_type": "execute_result"
    }
   ],
   "source": [
    "movies_df.head()"
   ]
  },
  {
   "cell_type": "code",
   "execution_count": 4,
   "id": "b54b520f-ea79-4876-b46a-59eec23bb902",
   "metadata": {},
   "outputs": [
    {
     "data": {
      "text/html": [
       "<div>\n",
       "<style scoped>\n",
       "    .dataframe tbody tr th:only-of-type {\n",
       "        vertical-align: middle;\n",
       "    }\n",
       "\n",
       "    .dataframe tbody tr th {\n",
       "        vertical-align: top;\n",
       "    }\n",
       "\n",
       "    .dataframe thead th {\n",
       "        text-align: right;\n",
       "    }\n",
       "</style>\n",
       "<table border=\"1\" class=\"dataframe\">\n",
       "  <thead>\n",
       "    <tr style=\"text-align: right;\">\n",
       "      <th></th>\n",
       "      <th>movie_id</th>\n",
       "      <th>title</th>\n",
       "      <th>cast</th>\n",
       "      <th>crew</th>\n",
       "    </tr>\n",
       "  </thead>\n",
       "  <tbody>\n",
       "    <tr>\n",
       "      <th>0</th>\n",
       "      <td>19995</td>\n",
       "      <td>Avatar</td>\n",
       "      <td>[{\"cast_id\": 242, \"character\": \"Jake Sully\", \"...</td>\n",
       "      <td>[{\"credit_id\": \"52fe48009251416c750aca23\", \"de...</td>\n",
       "    </tr>\n",
       "    <tr>\n",
       "      <th>1</th>\n",
       "      <td>285</td>\n",
       "      <td>Pirates of the Caribbean: At World's End</td>\n",
       "      <td>[{\"cast_id\": 4, \"character\": \"Captain Jack Spa...</td>\n",
       "      <td>[{\"credit_id\": \"52fe4232c3a36847f800b579\", \"de...</td>\n",
       "    </tr>\n",
       "    <tr>\n",
       "      <th>2</th>\n",
       "      <td>206647</td>\n",
       "      <td>Spectre</td>\n",
       "      <td>[{\"cast_id\": 1, \"character\": \"James Bond\", \"cr...</td>\n",
       "      <td>[{\"credit_id\": \"54805967c3a36829b5002c41\", \"de...</td>\n",
       "    </tr>\n",
       "    <tr>\n",
       "      <th>3</th>\n",
       "      <td>49026</td>\n",
       "      <td>The Dark Knight Rises</td>\n",
       "      <td>[{\"cast_id\": 2, \"character\": \"Bruce Wayne / Ba...</td>\n",
       "      <td>[{\"credit_id\": \"52fe4781c3a36847f81398c3\", \"de...</td>\n",
       "    </tr>\n",
       "    <tr>\n",
       "      <th>4</th>\n",
       "      <td>49529</td>\n",
       "      <td>John Carter</td>\n",
       "      <td>[{\"cast_id\": 5, \"character\": \"John Carter\", \"c...</td>\n",
       "      <td>[{\"credit_id\": \"52fe479ac3a36847f813eaa3\", \"de...</td>\n",
       "    </tr>\n",
       "  </tbody>\n",
       "</table>\n",
       "</div>"
      ],
      "text/plain": [
       "   movie_id                                     title  \\\n",
       "0     19995                                    Avatar   \n",
       "1       285  Pirates of the Caribbean: At World's End   \n",
       "2    206647                                   Spectre   \n",
       "3     49026                     The Dark Knight Rises   \n",
       "4     49529                               John Carter   \n",
       "\n",
       "                                                cast  \\\n",
       "0  [{\"cast_id\": 242, \"character\": \"Jake Sully\", \"...   \n",
       "1  [{\"cast_id\": 4, \"character\": \"Captain Jack Spa...   \n",
       "2  [{\"cast_id\": 1, \"character\": \"James Bond\", \"cr...   \n",
       "3  [{\"cast_id\": 2, \"character\": \"Bruce Wayne / Ba...   \n",
       "4  [{\"cast_id\": 5, \"character\": \"John Carter\", \"c...   \n",
       "\n",
       "                                                crew  \n",
       "0  [{\"credit_id\": \"52fe48009251416c750aca23\", \"de...  \n",
       "1  [{\"credit_id\": \"52fe4232c3a36847f800b579\", \"de...  \n",
       "2  [{\"credit_id\": \"54805967c3a36829b5002c41\", \"de...  \n",
       "3  [{\"credit_id\": \"52fe4781c3a36847f81398c3\", \"de...  \n",
       "4  [{\"credit_id\": \"52fe479ac3a36847f813eaa3\", \"de...  "
      ]
     },
     "execution_count": 4,
     "metadata": {},
     "output_type": "execute_result"
    }
   ],
   "source": [
    "credits_df.head()"
   ]
  },
  {
   "cell_type": "code",
   "execution_count": 5,
   "id": "2c07c641-627e-4b5b-9d83-4ae99bda1187",
   "metadata": {},
   "outputs": [],
   "source": [
    "# Data cleaning and preparation for movies_df\n",
    "movies_df_clean = movies_df[[\n",
    "    \"genres\", \"id\", \"original_title\", \"overview\",\n",
    "    \"production_companies\", \"production_countries\",\n",
    "    \"release_date\", \"vote_average\", \"vote_count\"\n",
    "]]"
   ]
  },
  {
   "cell_type": "code",
   "execution_count": 6,
   "id": "5983fdf9-b19e-4269-bb6d-d5629afe0bd8",
   "metadata": {},
   "outputs": [],
   "source": [
    "movies_df_clean = movies_df_clean.dropna()"
   ]
  },
  {
   "cell_type": "code",
   "execution_count": 7,
   "id": "627f0020-edb3-4bf6-aca6-8e3ededeb2ae",
   "metadata": {},
   "outputs": [],
   "source": [
    "def extract_names_from_json(json_str):\n",
    "    try:\n",
    "        if not pd.isna(json_str):\n",
    "            names = [entry[\"name\"] for entry in ast.literal_eval(json_str)]\n",
    "            return \",\".join(names)\n",
    "        return np.nan\n",
    "    except:\n",
    "        return np.nan"
   ]
  },
  {
   "cell_type": "code",
   "execution_count": 8,
   "id": "0faa32fa-ac2a-42cb-9b7b-8f55b0258cd9",
   "metadata": {},
   "outputs": [],
   "source": [
    "movies_df_clean[\"genres\"] = movies_df_clean[\"genres\"].apply(extract_names_from_json)\n",
    "movies_df_clean[\"production_companies\"] = movies_df_clean[\"production_companies\"].apply(extract_names_from_json)\n",
    "movies_df_clean[\"production_countries\"] = movies_df_clean[\"production_countries\"].apply(extract_names_from_json)"
   ]
  },
  {
   "cell_type": "code",
   "execution_count": 9,
   "id": "bf929c63-5613-42c6-a8c4-0e1fe1b7725e",
   "metadata": {},
   "outputs": [],
   "source": [
    "# Data cleaning and preparation for credits_df\n",
    "def extract_cast_names(json_str):\n",
    "    names = [entry[\"name\"] for entry in ast.literal_eval(json_str)]\n",
    "    return \",\".join(names)"
   ]
  },
  {
   "cell_type": "code",
   "execution_count": 10,
   "id": "bd497f06-f530-4c3c-8304-bb4151bdba71",
   "metadata": {},
   "outputs": [],
   "source": [
    "def extract_crew_names(json_str):\n",
    "    crew_roles = [\"Producer\", \"Director\", \"Writer\", \"Novel\", \"Screenplay\"]\n",
    "    names = [entry[\"name\"] for entry in ast.literal_eval(json_str) if entry[\"job\"] in crew_roles]\n",
    "    return \",\".join(names)"
   ]
  },
  {
   "cell_type": "code",
   "execution_count": 11,
   "id": "0c422a44-025c-407d-8a9a-6c7a5ab33f91",
   "metadata": {},
   "outputs": [],
   "source": [
    "credits_df[\"cast_names\"] = credits_df[\"cast\"].apply(extract_cast_names)\n",
    "credits_df[\"crew_names\"] = credits_df[\"crew\"].apply(extract_crew_names)"
   ]
  },
  {
   "cell_type": "code",
   "execution_count": 12,
   "id": "18b46009-5499-4fd0-b891-9d7cb7e25a5b",
   "metadata": {},
   "outputs": [
    {
     "name": "stderr",
     "output_type": "stream",
     "text": [
      "C:\\Users\\alain\\AppData\\Local\\Temp\\ipykernel_9628\\1093904581.py:2: SettingWithCopyWarning: \n",
      "A value is trying to be set on a copy of a slice from a DataFrame\n",
      "\n",
      "See the caveats in the documentation: https://pandas.pydata.org/pandas-docs/stable/user_guide/indexing.html#returning-a-view-versus-a-copy\n",
      "  credits_df_clean.rename(columns={\"movie_id\": \"id\"}, inplace=True)\n"
     ]
    }
   ],
   "source": [
    "credits_df_clean = credits_df[[\"movie_id\", \"cast_names\", \"crew_names\"]]\n",
    "credits_df_clean.rename(columns={\"movie_id\": \"id\"}, inplace=True)"
   ]
  },
  {
   "cell_type": "code",
   "execution_count": 13,
   "id": "50443170-01e7-4adc-a06c-90578e944249",
   "metadata": {},
   "outputs": [],
   "source": [
    "# Merge datasets\n",
    "merged_df = pd.merge(movies_df_clean, credits_df_clean, on='id', how='inner')"
   ]
  },
  {
   "cell_type": "code",
   "execution_count": 14,
   "id": "598a4089-2382-4b20-9192-2cd433e301d7",
   "metadata": {},
   "outputs": [
    {
     "name": "stderr",
     "output_type": "stream",
     "text": [
      "[nltk_data] Downloading package stopwords to\n",
      "[nltk_data]     C:\\Users\\alain\\AppData\\Roaming\\nltk_data...\n",
      "[nltk_data]   Package stopwords is already up-to-date!\n",
      "[nltk_data] Downloading package punkt to\n",
      "[nltk_data]     C:\\Users\\alain\\AppData\\Roaming\\nltk_data...\n",
      "[nltk_data]   Package punkt is already up-to-date!\n"
     ]
    },
    {
     "data": {
      "text/plain": [
       "True"
      ]
     },
     "execution_count": 14,
     "metadata": {},
     "output_type": "execute_result"
    }
   ],
   "source": [
    "# Data preparation for content-based recommendations\n",
    "nltk.download(\"stopwords\")\n",
    "nltk.download(\"punkt\")"
   ]
  },
  {
   "cell_type": "code",
   "execution_count": 15,
   "id": "c6947d75-e1fe-478e-b09a-2ff2f6b31c3c",
   "metadata": {},
   "outputs": [],
   "source": [
    "content_df = merged_df[[\n",
    "    \"genres\", \"original_title\", \"overview\",\n",
    "    \"production_companies\", \"production_countries\",\n",
    "    \"cast_names\", \"crew_names\"\n",
    "]]\n"
   ]
  },
  {
   "cell_type": "code",
   "execution_count": 16,
   "id": "fa576332-63a8-4dc4-88b4-f66cad6b7062",
   "metadata": {},
   "outputs": [],
   "source": [
    "def tokenize_column(column):\n",
    "    return str(column).lower().split(\",\") if not pd.isna(column) else \"\""
   ]
  },
  {
   "cell_type": "code",
   "execution_count": 17,
   "id": "33b66677-ead0-4d96-bfa5-465f20b710c7",
   "metadata": {},
   "outputs": [
    {
     "name": "stderr",
     "output_type": "stream",
     "text": [
      "C:\\Users\\alain\\AppData\\Local\\Temp\\ipykernel_9628\\1527636400.py:1: SettingWithCopyWarning: \n",
      "A value is trying to be set on a copy of a slice from a DataFrame.\n",
      "Try using .loc[row_indexer,col_indexer] = value instead\n",
      "\n",
      "See the caveats in the documentation: https://pandas.pydata.org/pandas-docs/stable/user_guide/indexing.html#returning-a-view-versus-a-copy\n",
      "  content_df[\"genres\"] = content_df[\"genres\"].apply(tokenize_column)\n",
      "C:\\Users\\alain\\AppData\\Local\\Temp\\ipykernel_9628\\1527636400.py:2: SettingWithCopyWarning: \n",
      "A value is trying to be set on a copy of a slice from a DataFrame.\n",
      "Try using .loc[row_indexer,col_indexer] = value instead\n",
      "\n",
      "See the caveats in the documentation: https://pandas.pydata.org/pandas-docs/stable/user_guide/indexing.html#returning-a-view-versus-a-copy\n",
      "  content_df[\"overview\"] = content_df[\"overview\"].apply(tokenize_column)\n",
      "C:\\Users\\alain\\AppData\\Local\\Temp\\ipykernel_9628\\1527636400.py:3: SettingWithCopyWarning: \n",
      "A value is trying to be set on a copy of a slice from a DataFrame.\n",
      "Try using .loc[row_indexer,col_indexer] = value instead\n",
      "\n",
      "See the caveats in the documentation: https://pandas.pydata.org/pandas-docs/stable/user_guide/indexing.html#returning-a-view-versus-a-copy\n",
      "  content_df[\"production_companies\"] = content_df[\"production_companies\"].apply(tokenize_column)\n",
      "C:\\Users\\alain\\AppData\\Local\\Temp\\ipykernel_9628\\1527636400.py:4: SettingWithCopyWarning: \n",
      "A value is trying to be set on a copy of a slice from a DataFrame.\n",
      "Try using .loc[row_indexer,col_indexer] = value instead\n",
      "\n",
      "See the caveats in the documentation: https://pandas.pydata.org/pandas-docs/stable/user_guide/indexing.html#returning-a-view-versus-a-copy\n",
      "  content_df[\"production_countries\"] = content_df[\"production_countries\"].apply(tokenize_column)\n",
      "C:\\Users\\alain\\AppData\\Local\\Temp\\ipykernel_9628\\1527636400.py:5: SettingWithCopyWarning: \n",
      "A value is trying to be set on a copy of a slice from a DataFrame.\n",
      "Try using .loc[row_indexer,col_indexer] = value instead\n",
      "\n",
      "See the caveats in the documentation: https://pandas.pydata.org/pandas-docs/stable/user_guide/indexing.html#returning-a-view-versus-a-copy\n",
      "  content_df[\"cast_names\"] = content_df[\"cast_names\"].apply(tokenize_column)\n",
      "C:\\Users\\alain\\AppData\\Local\\Temp\\ipykernel_9628\\1527636400.py:6: SettingWithCopyWarning: \n",
      "A value is trying to be set on a copy of a slice from a DataFrame.\n",
      "Try using .loc[row_indexer,col_indexer] = value instead\n",
      "\n",
      "See the caveats in the documentation: https://pandas.pydata.org/pandas-docs/stable/user_guide/indexing.html#returning-a-view-versus-a-copy\n",
      "  content_df[\"crew_names\"] = content_df[\"crew_names\"].apply(tokenize_column)\n"
     ]
    }
   ],
   "source": [
    "content_df[\"genres\"] = content_df[\"genres\"].apply(tokenize_column)\n",
    "content_df[\"overview\"] = content_df[\"overview\"].apply(tokenize_column)\n",
    "content_df[\"production_companies\"] = content_df[\"production_companies\"].apply(tokenize_column)\n",
    "content_df[\"production_countries\"] = content_df[\"production_countries\"].apply(tokenize_column)\n",
    "content_df[\"cast_names\"] = content_df[\"cast_names\"].apply(tokenize_column)\n",
    "content_df[\"crew_names\"] = content_df[\"crew_names\"].apply(tokenize_column)"
   ]
  },
  {
   "cell_type": "code",
   "execution_count": 18,
   "id": "f06a87b3-bf50-4386-a897-f9559259dcc0",
   "metadata": {},
   "outputs": [],
   "source": [
    "def clean_names(name_list):\n",
    "    return [name.replace(\" \", \"\") for name in name_list]"
   ]
  },
  {
   "cell_type": "code",
   "execution_count": 19,
   "id": "5363de81-94c6-4898-8e06-a00c45392aba",
   "metadata": {},
   "outputs": [
    {
     "name": "stderr",
     "output_type": "stream",
     "text": [
      "C:\\Users\\alain\\AppData\\Local\\Temp\\ipykernel_9628\\3861062229.py:1: SettingWithCopyWarning: \n",
      "A value is trying to be set on a copy of a slice from a DataFrame.\n",
      "Try using .loc[row_indexer,col_indexer] = value instead\n",
      "\n",
      "See the caveats in the documentation: https://pandas.pydata.org/pandas-docs/stable/user_guide/indexing.html#returning-a-view-versus-a-copy\n",
      "  content_df[\"cast_names\"] = content_df[\"cast_names\"].apply(clean_names)\n",
      "C:\\Users\\alain\\AppData\\Local\\Temp\\ipykernel_9628\\3861062229.py:2: SettingWithCopyWarning: \n",
      "A value is trying to be set on a copy of a slice from a DataFrame.\n",
      "Try using .loc[row_indexer,col_indexer] = value instead\n",
      "\n",
      "See the caveats in the documentation: https://pandas.pydata.org/pandas-docs/stable/user_guide/indexing.html#returning-a-view-versus-a-copy\n",
      "  content_df[\"crew_names\"] = content_df[\"crew_names\"].apply(clean_names)\n",
      "C:\\Users\\alain\\AppData\\Local\\Temp\\ipykernel_9628\\3861062229.py:3: SettingWithCopyWarning: \n",
      "A value is trying to be set on a copy of a slice from a DataFrame.\n",
      "Try using .loc[row_indexer,col_indexer] = value instead\n",
      "\n",
      "See the caveats in the documentation: https://pandas.pydata.org/pandas-docs/stable/user_guide/indexing.html#returning-a-view-versus-a-copy\n",
      "  content_df[\"production_companies\"] = content_df[\"production_companies\"].apply(clean_names)\n",
      "C:\\Users\\alain\\AppData\\Local\\Temp\\ipykernel_9628\\3861062229.py:4: SettingWithCopyWarning: \n",
      "A value is trying to be set on a copy of a slice from a DataFrame.\n",
      "Try using .loc[row_indexer,col_indexer] = value instead\n",
      "\n",
      "See the caveats in the documentation: https://pandas.pydata.org/pandas-docs/stable/user_guide/indexing.html#returning-a-view-versus-a-copy\n",
      "  content_df[\"production_countries\"] = content_df[\"production_countries\"].apply(clean_names)\n"
     ]
    }
   ],
   "source": [
    "content_df[\"cast_names\"] = content_df[\"cast_names\"].apply(clean_names)\n",
    "content_df[\"crew_names\"] = content_df[\"crew_names\"].apply(clean_names)\n",
    "content_df[\"production_companies\"] = content_df[\"production_companies\"].apply(clean_names)\n",
    "content_df[\"production_countries\"] = content_df[\"production_countries\"].apply(clean_names)"
   ]
  },
  {
   "cell_type": "code",
   "execution_count": 20,
   "id": "0786861a-ceff-455d-856d-4fa38f540053",
   "metadata": {},
   "outputs": [],
   "source": [
    "def extract_keywords(text):\n",
    "    if isinstance(text, str):  # Check if text is a string\n",
    "        rake = Rake()\n",
    "        rake.extract_keywords_from_text(text)\n",
    "        return list(rake.get_word_degrees().keys())\n",
    "    return []"
   ]
  },
  {
   "cell_type": "code",
   "execution_count": 21,
   "id": "55dfd9d7-ac46-432c-b701-dfa8e6d4e37d",
   "metadata": {},
   "outputs": [
    {
     "name": "stderr",
     "output_type": "stream",
     "text": [
      "C:\\Users\\alain\\AppData\\Local\\Temp\\ipykernel_9628\\3365607971.py:1: SettingWithCopyWarning: \n",
      "A value is trying to be set on a copy of a slice from a DataFrame.\n",
      "Try using .loc[row_indexer,col_indexer] = value instead\n",
      "\n",
      "See the caveats in the documentation: https://pandas.pydata.org/pandas-docs/stable/user_guide/indexing.html#returning-a-view-versus-a-copy\n",
      "  content_df[\"overview\"] = content_df[\"overview\"].apply(lambda x: ' '.join(x) if isinstance(x, list) else x)\n",
      "C:\\Users\\alain\\AppData\\Local\\Temp\\ipykernel_9628\\3365607971.py:2: SettingWithCopyWarning: \n",
      "A value is trying to be set on a copy of a slice from a DataFrame.\n",
      "Try using .loc[row_indexer,col_indexer] = value instead\n",
      "\n",
      "See the caveats in the documentation: https://pandas.pydata.org/pandas-docs/stable/user_guide/indexing.html#returning-a-view-versus-a-copy\n",
      "  content_df[\"overview\"] = content_df[\"overview\"].apply(extract_keywords)\n"
     ]
    }
   ],
   "source": [
    "content_df[\"overview\"] = content_df[\"overview\"].apply(lambda x: ' '.join(x) if isinstance(x, list) else x)\n",
    "content_df[\"overview\"] = content_df[\"overview\"].apply(extract_keywords)"
   ]
  },
  {
   "cell_type": "code",
   "execution_count": 22,
   "id": "7ee4a329-c321-441f-a01a-34168b6628d7",
   "metadata": {},
   "outputs": [],
   "source": [
    "content_df.set_index('original_title', inplace=True)"
   ]
  },
  {
   "cell_type": "code",
   "execution_count": 23,
   "id": "b82ebab4-34d4-4519-9fa2-65c28bfc5c95",
   "metadata": {},
   "outputs": [
    {
     "name": "stderr",
     "output_type": "stream",
     "text": [
      "C:\\Users\\alain\\AppData\\Local\\Temp\\ipykernel_9628\\1378841955.py:1: SettingWithCopyWarning: \n",
      "A value is trying to be set on a copy of a slice from a DataFrame.\n",
      "Try using .loc[row_indexer,col_indexer] = value instead\n",
      "\n",
      "See the caveats in the documentation: https://pandas.pydata.org/pandas-docs/stable/user_guide/indexing.html#returning-a-view-versus-a-copy\n",
      "  content_df[\"combined_features\"] = content_df.apply(lambda row: [item for sublist in row for item in sublist], axis=1)\n",
      "C:\\Users\\alain\\AppData\\Local\\Temp\\ipykernel_9628\\1378841955.py:2: SettingWithCopyWarning: \n",
      "A value is trying to be set on a copy of a slice from a DataFrame.\n",
      "Try using .loc[row_indexer,col_indexer] = value instead\n",
      "\n",
      "See the caveats in the documentation: https://pandas.pydata.org/pandas-docs/stable/user_guide/indexing.html#returning-a-view-versus-a-copy\n",
      "  content_df[\"combined_features\"] = content_df[\"combined_features\"].apply(lambda x: \" \".join(x))\n"
     ]
    }
   ],
   "source": [
    "content_df[\"combined_features\"] = content_df.apply(lambda row: [item for sublist in row for item in sublist], axis=1)\n",
    "content_df[\"combined_features\"] = content_df[\"combined_features\"].apply(lambda x: \" \".join(x))"
   ]
  },
  {
   "cell_type": "code",
   "execution_count": 24,
   "id": "79e86581-524f-42af-8ba6-8c53953c780a",
   "metadata": {},
   "outputs": [
    {
     "data": {
      "text/html": [
       "<div>\n",
       "<style scoped>\n",
       "    .dataframe tbody tr th:only-of-type {\n",
       "        vertical-align: middle;\n",
       "    }\n",
       "\n",
       "    .dataframe tbody tr th {\n",
       "        vertical-align: top;\n",
       "    }\n",
       "\n",
       "    .dataframe thead th {\n",
       "        text-align: right;\n",
       "    }\n",
       "</style>\n",
       "<table border=\"1\" class=\"dataframe\">\n",
       "  <thead>\n",
       "    <tr style=\"text-align: right;\">\n",
       "      <th></th>\n",
       "      <th>genres</th>\n",
       "      <th>overview</th>\n",
       "      <th>production_companies</th>\n",
       "      <th>production_countries</th>\n",
       "      <th>cast_names</th>\n",
       "      <th>crew_names</th>\n",
       "      <th>combined_features</th>\n",
       "    </tr>\n",
       "    <tr>\n",
       "      <th>original_title</th>\n",
       "      <th></th>\n",
       "      <th></th>\n",
       "      <th></th>\n",
       "      <th></th>\n",
       "      <th></th>\n",
       "      <th></th>\n",
       "      <th></th>\n",
       "    </tr>\n",
       "  </thead>\n",
       "  <tbody>\n",
       "    <tr>\n",
       "      <th>Avatar</th>\n",
       "      <td>[action, adventure, fantasy, science fiction]</td>\n",
       "      <td>[22nd, century, paraplegic, marine, dispatched...</td>\n",
       "      <td>[ingeniousfilmpartners, twentiethcenturyfoxfil...</td>\n",
       "      <td>[unitedstatesofamerica, unitedkingdom]</td>\n",
       "      <td>[samworthington, zoesaldana, sigourneyweaver, ...</td>\n",
       "      <td>[jamescameron, jamescameron, jamescameron, jam...</td>\n",
       "      <td>action adventure fantasy science fiction 22nd ...</td>\n",
       "    </tr>\n",
       "    <tr>\n",
       "      <th>Pirates of the Caribbean: At World's End</th>\n",
       "      <td>[adventure, fantasy, action]</td>\n",
       "      <td>[captain, barbossa, long, believed, dead, come...</td>\n",
       "      <td>[waltdisneypictures, jerrybruckheimerfilms, se...</td>\n",
       "      <td>[unitedstatesofamerica]</td>\n",
       "      <td>[johnnydepp, orlandobloom, keiraknightley, ste...</td>\n",
       "      <td>[goreverbinski, jerrybruckheimer, tedelliott, ...</td>\n",
       "      <td>adventure fantasy action captain barbossa long...</td>\n",
       "    </tr>\n",
       "    <tr>\n",
       "      <th>Spectre</th>\n",
       "      <td>[action, adventure, crime]</td>\n",
       "      <td>[cryptic, message, bond, ’, past, sends, trail...</td>\n",
       "      <td>[columbiapictures, danjaq, b24]</td>\n",
       "      <td>[unitedkingdom, unitedstatesofamerica]</td>\n",
       "      <td>[danielcraig, christophwaltz, léaseydoux, ralp...</td>\n",
       "      <td>[sammendes, johnlogan, barbarabroccoli, robert...</td>\n",
       "      <td>action adventure crime cryptic message bond ’ ...</td>\n",
       "    </tr>\n",
       "    <tr>\n",
       "      <th>The Dark Knight Rises</th>\n",
       "      <td>[action, crime, drama, thriller]</td>\n",
       "      <td>[following, death, district, attorney, harvey,...</td>\n",
       "      <td>[legendarypictures, warnerbros., dcentertainme...</td>\n",
       "      <td>[unitedstatesofamerica]</td>\n",
       "      <td>[christianbale, michaelcaine, garyoldman, anne...</td>\n",
       "      <td>[charlesroven, christophernolan, christopherno...</td>\n",
       "      <td>action crime drama thriller following death di...</td>\n",
       "    </tr>\n",
       "    <tr>\n",
       "      <th>John Carter</th>\n",
       "      <td>[action, adventure, science fiction]</td>\n",
       "      <td>[john, carter, war, weary, former, military, c...</td>\n",
       "      <td>[waltdisneypictures]</td>\n",
       "      <td>[unitedstatesofamerica]</td>\n",
       "      <td>[taylorkitsch, lynncollins, samanthamorton, wi...</td>\n",
       "      <td>[andrewstanton, andrewstanton, colinwilson, ji...</td>\n",
       "      <td>action adventure science fiction john carter w...</td>\n",
       "    </tr>\n",
       "    <tr>\n",
       "      <th>...</th>\n",
       "      <td>...</td>\n",
       "      <td>...</td>\n",
       "      <td>...</td>\n",
       "      <td>...</td>\n",
       "      <td>...</td>\n",
       "      <td>...</td>\n",
       "      <td>...</td>\n",
       "    </tr>\n",
       "    <tr>\n",
       "      <th>El Mariachi</th>\n",
       "      <td>[action, crime, thriller]</td>\n",
       "      <td>[el, mariachi, wants, play, guitar, carry, fam...</td>\n",
       "      <td>[columbiapictures]</td>\n",
       "      <td>[mexico, unitedstatesofamerica]</td>\n",
       "      <td>[carlosgallardo, jaimedehoyos, petermarquardt,...</td>\n",
       "      <td>[robertrodriguez, robertrodriguez, carlosgalla...</td>\n",
       "      <td>action crime thriller el mariachi wants play g...</td>\n",
       "    </tr>\n",
       "    <tr>\n",
       "      <th>Newlyweds</th>\n",
       "      <td>[comedy, romance]</td>\n",
       "      <td>[newlywed, couple, honeymoon, upended, arrival...</td>\n",
       "      <td>[]</td>\n",
       "      <td>[]</td>\n",
       "      <td>[edwardburns, kerrybishé, marshadietlein, cait...</td>\n",
       "      <td>[edwardburns, edwardburns, edwardburns, willia...</td>\n",
       "      <td>comedy romance newlywed couple honeymoon upend...</td>\n",
       "    </tr>\n",
       "    <tr>\n",
       "      <th>Signed, Sealed, Delivered</th>\n",
       "      <td>[comedy, drama, romance, tv movie]</td>\n",
       "      <td>[signed, sealed, delivered, introduces, dedica...</td>\n",
       "      <td>[frontstreetpictures, museentertainmententerpr...</td>\n",
       "      <td>[unitedstatesofamerica]</td>\n",
       "      <td>[ericmabius, kristinbooth, crystallowe, geoffg...</td>\n",
       "      <td>[harveykahn, marthawilliamson, scottsmith]</td>\n",
       "      <td>comedy drama romance tv movie signed sealed de...</td>\n",
       "    </tr>\n",
       "    <tr>\n",
       "      <th>Shanghai Calling</th>\n",
       "      <td>[]</td>\n",
       "      <td>[ambitious, new, york, attorney, sam, sent, sh...</td>\n",
       "      <td>[]</td>\n",
       "      <td>[unitedstatesofamerica, china]</td>\n",
       "      <td>[danielhenney, elizacoupe, billpaxton, alanruc...</td>\n",
       "      <td>[danielhsia, danielhsia]</td>\n",
       "      <td>ambitious new york attorney sam sent shanghai...</td>\n",
       "    </tr>\n",
       "    <tr>\n",
       "      <th>My Date with Drew</th>\n",
       "      <td>[documentary]</td>\n",
       "      <td>[ever, since, second, grade, first, saw, e, ex...</td>\n",
       "      <td>[rustybearentertainment, luckycrowfilms]</td>\n",
       "      <td>[unitedstatesofamerica]</td>\n",
       "      <td>[drewbarrymore, brianherzlinger, coreyfeldman,...</td>\n",
       "      <td>[brianherzlinger, jongunn, brettwinn]</td>\n",
       "      <td>documentary ever since second grade first saw ...</td>\n",
       "    </tr>\n",
       "  </tbody>\n",
       "</table>\n",
       "<p>4799 rows × 7 columns</p>\n",
       "</div>"
      ],
      "text/plain": [
       "                                                                                 genres  \\\n",
       "original_title                                                                            \n",
       "Avatar                                    [action, adventure, fantasy, science fiction]   \n",
       "Pirates of the Caribbean: At World's End                   [adventure, fantasy, action]   \n",
       "Spectre                                                      [action, adventure, crime]   \n",
       "The Dark Knight Rises                                  [action, crime, drama, thriller]   \n",
       "John Carter                                        [action, adventure, science fiction]   \n",
       "...                                                                                 ...   \n",
       "El Mariachi                                                   [action, crime, thriller]   \n",
       "Newlyweds                                                             [comedy, romance]   \n",
       "Signed, Sealed, Delivered                            [comedy, drama, romance, tv movie]   \n",
       "Shanghai Calling                                                                     []   \n",
       "My Date with Drew                                                         [documentary]   \n",
       "\n",
       "                                                                                   overview  \\\n",
       "original_title                                                                                \n",
       "Avatar                                    [22nd, century, paraplegic, marine, dispatched...   \n",
       "Pirates of the Caribbean: At World's End  [captain, barbossa, long, believed, dead, come...   \n",
       "Spectre                                   [cryptic, message, bond, ’, past, sends, trail...   \n",
       "The Dark Knight Rises                     [following, death, district, attorney, harvey,...   \n",
       "John Carter                               [john, carter, war, weary, former, military, c...   \n",
       "...                                                                                     ...   \n",
       "El Mariachi                               [el, mariachi, wants, play, guitar, carry, fam...   \n",
       "Newlyweds                                 [newlywed, couple, honeymoon, upended, arrival...   \n",
       "Signed, Sealed, Delivered                 [signed, sealed, delivered, introduces, dedica...   \n",
       "Shanghai Calling                          [ambitious, new, york, attorney, sam, sent, sh...   \n",
       "My Date with Drew                         [ever, since, second, grade, first, saw, e, ex...   \n",
       "\n",
       "                                                                       production_companies  \\\n",
       "original_title                                                                                \n",
       "Avatar                                    [ingeniousfilmpartners, twentiethcenturyfoxfil...   \n",
       "Pirates of the Caribbean: At World's End  [waltdisneypictures, jerrybruckheimerfilms, se...   \n",
       "Spectre                                                     [columbiapictures, danjaq, b24]   \n",
       "The Dark Knight Rises                     [legendarypictures, warnerbros., dcentertainme...   \n",
       "John Carter                                                            [waltdisneypictures]   \n",
       "...                                                                                     ...   \n",
       "El Mariachi                                                              [columbiapictures]   \n",
       "Newlyweds                                                                                []   \n",
       "Signed, Sealed, Delivered                 [frontstreetpictures, museentertainmententerpr...   \n",
       "Shanghai Calling                                                                         []   \n",
       "My Date with Drew                                  [rustybearentertainment, luckycrowfilms]   \n",
       "\n",
       "                                                            production_countries  \\\n",
       "original_title                                                                     \n",
       "Avatar                                    [unitedstatesofamerica, unitedkingdom]   \n",
       "Pirates of the Caribbean: At World's End                 [unitedstatesofamerica]   \n",
       "Spectre                                   [unitedkingdom, unitedstatesofamerica]   \n",
       "The Dark Knight Rises                                    [unitedstatesofamerica]   \n",
       "John Carter                                              [unitedstatesofamerica]   \n",
       "...                                                                          ...   \n",
       "El Mariachi                                      [mexico, unitedstatesofamerica]   \n",
       "Newlyweds                                                                     []   \n",
       "Signed, Sealed, Delivered                                [unitedstatesofamerica]   \n",
       "Shanghai Calling                                  [unitedstatesofamerica, china]   \n",
       "My Date with Drew                                        [unitedstatesofamerica]   \n",
       "\n",
       "                                                                                 cast_names  \\\n",
       "original_title                                                                                \n",
       "Avatar                                    [samworthington, zoesaldana, sigourneyweaver, ...   \n",
       "Pirates of the Caribbean: At World's End  [johnnydepp, orlandobloom, keiraknightley, ste...   \n",
       "Spectre                                   [danielcraig, christophwaltz, léaseydoux, ralp...   \n",
       "The Dark Knight Rises                     [christianbale, michaelcaine, garyoldman, anne...   \n",
       "John Carter                               [taylorkitsch, lynncollins, samanthamorton, wi...   \n",
       "...                                                                                     ...   \n",
       "El Mariachi                               [carlosgallardo, jaimedehoyos, petermarquardt,...   \n",
       "Newlyweds                                 [edwardburns, kerrybishé, marshadietlein, cait...   \n",
       "Signed, Sealed, Delivered                 [ericmabius, kristinbooth, crystallowe, geoffg...   \n",
       "Shanghai Calling                          [danielhenney, elizacoupe, billpaxton, alanruc...   \n",
       "My Date with Drew                         [drewbarrymore, brianherzlinger, coreyfeldman,...   \n",
       "\n",
       "                                                                                 crew_names  \\\n",
       "original_title                                                                                \n",
       "Avatar                                    [jamescameron, jamescameron, jamescameron, jam...   \n",
       "Pirates of the Caribbean: At World's End  [goreverbinski, jerrybruckheimer, tedelliott, ...   \n",
       "Spectre                                   [sammendes, johnlogan, barbarabroccoli, robert...   \n",
       "The Dark Knight Rises                     [charlesroven, christophernolan, christopherno...   \n",
       "John Carter                               [andrewstanton, andrewstanton, colinwilson, ji...   \n",
       "...                                                                                     ...   \n",
       "El Mariachi                               [robertrodriguez, robertrodriguez, carlosgalla...   \n",
       "Newlyweds                                 [edwardburns, edwardburns, edwardburns, willia...   \n",
       "Signed, Sealed, Delivered                        [harveykahn, marthawilliamson, scottsmith]   \n",
       "Shanghai Calling                                                   [danielhsia, danielhsia]   \n",
       "My Date with Drew                                     [brianherzlinger, jongunn, brettwinn]   \n",
       "\n",
       "                                                                          combined_features  \n",
       "original_title                                                                               \n",
       "Avatar                                    action adventure fantasy science fiction 22nd ...  \n",
       "Pirates of the Caribbean: At World's End  adventure fantasy action captain barbossa long...  \n",
       "Spectre                                   action adventure crime cryptic message bond ’ ...  \n",
       "The Dark Knight Rises                     action crime drama thriller following death di...  \n",
       "John Carter                               action adventure science fiction john carter w...  \n",
       "...                                                                                     ...  \n",
       "El Mariachi                               action crime thriller el mariachi wants play g...  \n",
       "Newlyweds                                 comedy romance newlywed couple honeymoon upend...  \n",
       "Signed, Sealed, Delivered                 comedy drama romance tv movie signed sealed de...  \n",
       "Shanghai Calling                           ambitious new york attorney sam sent shanghai...  \n",
       "My Date with Drew                         documentary ever since second grade first saw ...  \n",
       "\n",
       "[4799 rows x 7 columns]"
      ]
     },
     "execution_count": 24,
     "metadata": {},
     "output_type": "execute_result"
    }
   ],
   "source": [
    "content_df"
   ]
  },
  {
   "cell_type": "code",
   "execution_count": 25,
   "id": "fde5ae95-7ec5-4fc2-a9b0-f07af90fbc2c",
   "metadata": {},
   "outputs": [
    {
     "data": {
      "text/plain": [
       "'action adventure fantasy science fiction 22nd century paraplegic marine dispatched moon pandora unique mission becomes torn following orders protecting alien civilization ingeniousfilmpartners twentiethcenturyfoxfilmcorporation duneentertainment lightstormentertainment unitedstatesofamerica unitedkingdom samworthington zoesaldana sigourneyweaver stephenlang michellerodriguez giovanniribisi joeldavidmoore cchpounder wesstudi lazalonso dileeprao mattgerald seananthonymoran jasonwhyte scottlawrence kellykilgour jamespatrickpitt seanpatrickmurphy peterdillon kevindorman kelsonhenderson davidvanhorn jacobtomuri michaelblain-rozgay joncurry lukehawker woodyschultz petermensah soniayee jahnelcurfman ilramchoi kylawarren lisaroumain debrawilson chrismala taylorkibby jodielandau julielamm cullenb.madden josephbradymadden frankietorres austinwilson sarawilson tamicawashington-miller lucybriant nathanmeister gerryblair matthewchamberlain paulyates wraywilson jamesgaylyn melvinlenoclarkiii carvonfutrell brandonjelkes micahmoch hanniyahmuhammad christophernolen christaoliver aprilmariethomas bravitaa.threatt colinbleasdale mikebodnar mattclayton nicoledionne jamieharrison allanhenry anthonyingruber ashleyjeffery deanknowsley josephmika-hunt terrynotary kaipantano loganpithyou stuartpollock raja garethruck rhiansheehan t.j.storm jodietaylor aliciavela-bailey richardwhiteside nikiezambo julenerenee jamescameron jamescameron jamescameron jamescameron jonlandau'"
      ]
     },
     "execution_count": 25,
     "metadata": {},
     "output_type": "execute_result"
    }
   ],
   "source": [
    "content_df[\"combined_features\"].iloc[0]"
   ]
  },
  {
   "cell_type": "code",
   "execution_count": 36,
   "id": "afbcfa73-bd20-4d20-95e3-b5e00576487a",
   "metadata": {},
   "outputs": [],
   "source": [
    "# Build content-based recommendation model\n",
    "features_df = pd.DataFrame(content_df[\"combined_features\"])\n",
    "vectorizer = CountVectorizer()\n",
    "feature_matrix = vectorizer.fit_transform(features_df[\"combined_features\"])\n",
    "cosine_sim_matrix = cosine_similarity(feature_matrix, feature_matrix)"
   ]
  },
  {
   "cell_type": "code",
   "execution_count": 37,
   "id": "4d827ada-f9fb-4b4f-a19a-dc5b997f5da2",
   "metadata": {},
   "outputs": [],
   "source": [
    "with open('models/cosine_sim.pkl', 'wb') as file:\n",
    "    pickle.dump(cosine_sim_matrix, file)"
   ]
  },
  {
   "cell_type": "code",
   "execution_count": 38,
   "id": "7c9bbc71-ccf5-46cd-98d3-b813dac5f111",
   "metadata": {},
   "outputs": [],
   "source": [
    "title_indices = pd.Series(features_df.index)"
   ]
  },
  {
   "cell_type": "code",
   "execution_count": 39,
   "id": "8272fc36-ffad-473e-a661-bdc2eacfa119",
   "metadata": {},
   "outputs": [],
   "source": [
    "def get_content_based_recommendations(title, cosine_sim_matrix=cosine_sim_matrix):\n",
    "    idx = title_indices[title_indices == title].index[0]\n",
    "    similarity_scores = pd.Series(cosine_sim_matrix[idx]).sort_values(ascending=False)\n",
    "    top_10_indices = list(similarity_scores.iloc[1:11].index)\n",
    "    return [features_df.index[i] for i in top_10_indices]"
   ]
  },
  {
   "cell_type": "code",
   "execution_count": 40,
   "id": "b69be32d-162b-4156-8c03-d4662eacde65",
   "metadata": {},
   "outputs": [
    {
     "name": "stdout",
     "output_type": "stream",
     "text": [
      "['The Immigrant', \"Amidst the Devil's Wings\", 'We Own the Night', 'The Way of the Gun', 'Double Jeopardy', 'Romeo Is Bleeding', 'Broken City', 'Two Lovers', 'Kiss of Death', 'Blood Ties']\n"
     ]
    }
   ],
   "source": [
    "print(get_content_based_recommendations(\"The Yards\"))"
   ]
  },
  {
   "cell_type": "code",
   "execution_count": null,
   "id": "9bfc5585-6eb9-480d-b9a9-7184c8a7fcad",
   "metadata": {},
   "outputs": [],
   "source": []
  },
  {
   "cell_type": "code",
   "execution_count": 47,
   "id": "bc6bc7fa-1ad7-4aaf-9b41-36d52fa96e3b",
   "metadata": {},
   "outputs": [],
   "source": [
    "# Based on production companies\n",
    "df_production = merged_df[[\n",
    "    \"original_title\", \"id\", \"production_companies\",\n",
    "    \"vote_average\", \"vote_count\"\n",
    "]]"
   ]
  },
  {
   "cell_type": "code",
   "execution_count": 49,
   "id": "de9f3c38-6c39-432c-9614-c2c7b025c77a",
   "metadata": {},
   "outputs": [],
   "source": [
    "def clean_production_names(name_str):\n",
    "    if pd.isna(name_str):\n",
    "        return \"\"\n",
    "    else:\n",
    "        return \" \".join([name.replace(\" \", \"\") for name in name_str.split(\",\")])"
   ]
  },
  {
   "cell_type": "code",
   "execution_count": 51,
   "id": "349b79e0-4b76-4d4e-85af-d6cc09df9835",
   "metadata": {},
   "outputs": [
    {
     "name": "stderr",
     "output_type": "stream",
     "text": [
      "C:\\Users\\alain\\AppData\\Local\\Temp\\ipykernel_9628\\1288881494.py:1: SettingWithCopyWarning: \n",
      "A value is trying to be set on a copy of a slice from a DataFrame.\n",
      "Try using .loc[row_indexer,col_indexer] = value instead\n",
      "\n",
      "See the caveats in the documentation: https://pandas.pydata.org/pandas-docs/stable/user_guide/indexing.html#returning-a-view-versus-a-copy\n",
      "  df_production[\"production_companies\"] = df_production[\"production_companies\"].apply(clean_production_names)\n"
     ]
    }
   ],
   "source": [
    "df_production[\"production_companies\"] = df_production[\"production_companies\"].apply(clean_production_names)"
   ]
  },
  {
   "cell_type": "code",
   "execution_count": 53,
   "id": "01993e02-e832-497f-aa25-ec3f4e8fd27d",
   "metadata": {},
   "outputs": [],
   "source": [
    "# Compute weighted rating\n",
    "mean_vote = df_production['vote_average'].mean()\n",
    "vote_threshold = df_production['vote_count'].quantile(0.75)"
   ]
  },
  {
   "cell_type": "code",
   "execution_count": 55,
   "id": "c4f3c328-de33-4c38-ace1-1df76e1e3090",
   "metadata": {},
   "outputs": [],
   "source": [
    "def compute_weighted_rating(row, vote_threshold=vote_threshold, mean_vote=mean_vote):\n",
    "    votes = row['vote_count']\n",
    "    rating = row['vote_average']\n",
    "    return (votes/(votes + vote_threshold) * rating) + (vote_threshold/(vote_threshold + votes) * mean_vote)"
   ]
  },
  {
   "cell_type": "code",
   "execution_count": 57,
   "id": "5a4c303e-ace3-409e-a27b-d465716b0e40",
   "metadata": {},
   "outputs": [
    {
     "name": "stderr",
     "output_type": "stream",
     "text": [
      "C:\\Users\\alain\\AppData\\Local\\Temp\\ipykernel_9628\\2885379736.py:1: SettingWithCopyWarning: \n",
      "A value is trying to be set on a copy of a slice from a DataFrame.\n",
      "Try using .loc[row_indexer,col_indexer] = value instead\n",
      "\n",
      "See the caveats in the documentation: https://pandas.pydata.org/pandas-docs/stable/user_guide/indexing.html#returning-a-view-versus-a-copy\n",
      "  df_production['weighted_rating'] = df_production.apply(compute_weighted_rating, axis=1)\n"
     ]
    }
   ],
   "source": [
    "df_production['weighted_rating'] = df_production.apply(compute_weighted_rating, axis=1)"
   ]
  },
  {
   "cell_type": "code",
   "execution_count": 59,
   "id": "da44f4c0-4e26-487e-bef6-6fdb4001b06d",
   "metadata": {},
   "outputs": [],
   "source": [
    "vectorizer_prod = CountVectorizer()\n",
    "prod_feature_matrix = vectorizer_prod.fit_transform(df_production['production_companies'])\n",
    "cosine_sim_prod_matrix = cosine_similarity(prod_feature_matrix, prod_feature_matrix)"
   ]
  },
  {
   "cell_type": "code",
   "execution_count": 61,
   "id": "ba7e5e3f-e6ab-4d49-b965-36b9c3188e1c",
   "metadata": {},
   "outputs": [],
   "source": [
    "with open('models/cosine_sim_prod.pkl', 'wb') as file:\n",
    "    pickle.dump(cosine_sim_prod_matrix, file)"
   ]
  },
  {
   "cell_type": "code",
   "execution_count": 63,
   "id": "e151f4d0-3762-46a8-9a74-7d77023b61d9",
   "metadata": {},
   "outputs": [],
   "source": [
    "df_weighted_ratings = df_production[[\"original_title\", \"id\", \"weighted_rating\"]]"
   ]
  },
  {
   "cell_type": "code",
   "execution_count": 65,
   "id": "1f550450-0fb8-4361-86ea-54a4c88c753e",
   "metadata": {},
   "outputs": [],
   "source": [
    "df_weighted_ratings.to_csv(\"datasets/main_df.csv\", index = False)"
   ]
  },
  {
   "cell_type": "code",
   "execution_count": 67,
   "id": "8f139fb7-0e48-44e2-9e61-e02c82fcf7cf",
   "metadata": {},
   "outputs": [],
   "source": [
    "def get_combined_recommendations(title, cosine_sim_prod_matrix=cosine_sim_prod_matrix, df_production=df_weighted_ratings):\n",
    "    idx = df_production.index[df_production['original_title'] == title][0]\n",
    "    sim_scores = list(enumerate(cosine_sim_prod_matrix[idx]))\n",
    "    sim_scores = sorted(sim_scores, key=lambda x: x[1], reverse=True)[1:50]  # Get top 50 similar movies\n",
    "\n",
    "    # Adjust scores based on weighted rating\n",
    "    movie_indices = [i[0] for i in sim_scores]\n",
    "    movies = df_production.iloc[movie_indices].copy()\n",
    "    \n",
    "    movies = movies.sort_values('weighted_rating', ascending=False)\n",
    "    movies = movies[movies[\"original_title\"] != title]\n",
    "    movies = movies[movies[\"weighted_rating\"] > 5.8]\n",
    "    movies = movies[['original_title', \"id\", 'weighted_rating']]\n",
    "    random_movies = df_production.sample(n=10)\n",
    "    return list(random_movies[\"original_title\"]), list(random_movies[\"id\"])"
   ]
  },
  {
   "cell_type": "code",
   "execution_count": 69,
   "id": "e1cb10de-a655-4f50-9e9e-07c29204c85d",
   "metadata": {},
   "outputs": [
    {
     "name": "stdout",
     "output_type": "stream",
     "text": [
      "(['The Thief and the Cobbler', 'Dreamgirls', 'The Pet', 'The Postman', 'Inescapable', '4: Rise of the Silver Surfer', 'Civil Brand', 'A Streetcar Named Desire', 'Last Action Hero', 'Free Style'], [26672, 1125, 52462, 9922, 121676, 1979, 30246, 702, 9593, 39055])\n"
     ]
    }
   ],
   "source": [
    "print(get_combined_recommendations(\"The Avengers\", df_production=df_weighted_ratings))"
   ]
  }
 ],
 "metadata": {
  "kernelspec": {
   "display_name": "Python 3 (ipykernel)",
   "language": "python",
   "name": "python3"
  },
  "language_info": {
   "codemirror_mode": {
    "name": "ipython",
    "version": 3
   },
   "file_extension": ".py",
   "mimetype": "text/x-python",
   "name": "python",
   "nbconvert_exporter": "python",
   "pygments_lexer": "ipython3",
   "version": "3.11.7"
  }
 },
 "nbformat": 4,
 "nbformat_minor": 5
}
