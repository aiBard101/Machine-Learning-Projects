{
 "cells": [
  {
   "cell_type": "code",
   "execution_count": 179,
   "id": "83da3dd7-d334-4f0e-b4a0-8159d3c851e1",
   "metadata": {},
   "outputs": [],
   "source": [
    "import pandas as pd\n",
    "import numpy as np\n",
    "import nltk\n",
    "from rake_nltk import Rake\n",
    "from sklearn.feature_extraction.text import CountVectorizer\n",
    "from sklearn.metrics.pairwise import cosine_similarity\n",
    "import pickle"
   ]
  },
  {
   "cell_type": "code",
   "execution_count": 2,
   "id": "c9ca5146-e7cd-424d-b71e-e8904e8163e4",
   "metadata": {},
   "outputs": [
    {
     "name": "stderr",
     "output_type": "stream",
     "text": [
      "[nltk_data] Downloading package stopwords to\n",
      "[nltk_data]     C:\\Users\\alain\\AppData\\Roaming\\nltk_data...\n",
      "[nltk_data]   Package stopwords is already up-to-date!\n",
      "[nltk_data] Downloading package punkt to\n",
      "[nltk_data]     C:\\Users\\alain\\AppData\\Roaming\\nltk_data...\n",
      "[nltk_data]   Package punkt is already up-to-date!\n"
     ]
    },
    {
     "data": {
      "text/plain": [
       "True"
      ]
     },
     "execution_count": 2,
     "metadata": {},
     "output_type": "execute_result"
    }
   ],
   "source": [
    "nltk.download(\"stopwords\")\n",
    "nltk.download(\"punkt\")"
   ]
  },
  {
   "cell_type": "code",
   "execution_count": 3,
   "id": "a5b88f41-c5b6-4828-afd6-2d4a97f8f116",
   "metadata": {},
   "outputs": [],
   "source": [
    "df = pd.read_csv(\"datasets/model_data.csv\")"
   ]
  },
  {
   "cell_type": "code",
   "execution_count": 4,
   "id": "0d7454f6-eaff-41a5-8b5b-790405aa12cb",
   "metadata": {},
   "outputs": [
    {
     "data": {
      "text/html": [
       "<div>\n",
       "<style scoped>\n",
       "    .dataframe tbody tr th:only-of-type {\n",
       "        vertical-align: middle;\n",
       "    }\n",
       "\n",
       "    .dataframe tbody tr th {\n",
       "        vertical-align: top;\n",
       "    }\n",
       "\n",
       "    .dataframe thead th {\n",
       "        text-align: right;\n",
       "    }\n",
       "</style>\n",
       "<table border=\"1\" class=\"dataframe\">\n",
       "  <thead>\n",
       "    <tr style=\"text-align: right;\">\n",
       "      <th></th>\n",
       "      <th>genres</th>\n",
       "      <th>id</th>\n",
       "      <th>original_title</th>\n",
       "      <th>overview</th>\n",
       "      <th>production_companies</th>\n",
       "      <th>production_countries</th>\n",
       "      <th>release_date</th>\n",
       "      <th>vote_average</th>\n",
       "      <th>vote_count</th>\n",
       "      <th>cast_names</th>\n",
       "      <th>crew_names</th>\n",
       "    </tr>\n",
       "  </thead>\n",
       "  <tbody>\n",
       "    <tr>\n",
       "      <th>0</th>\n",
       "      <td>Action,Adventure,Fantasy,Science Fiction</td>\n",
       "      <td>19995</td>\n",
       "      <td>Avatar</td>\n",
       "      <td>In the 22nd century, a paraplegic Marine is di...</td>\n",
       "      <td>Ingenious Film Partners,Twentieth Century Fox ...</td>\n",
       "      <td>United States of America,United Kingdom</td>\n",
       "      <td>2009-12-10</td>\n",
       "      <td>7.2</td>\n",
       "      <td>11800</td>\n",
       "      <td>Sam Worthington,Zoe Saldana,Sigourney Weaver,S...</td>\n",
       "      <td>James Cameron,Jon Landau</td>\n",
       "    </tr>\n",
       "    <tr>\n",
       "      <th>1</th>\n",
       "      <td>Adventure,Fantasy,Action</td>\n",
       "      <td>285</td>\n",
       "      <td>Pirates of the Caribbean: At World's End</td>\n",
       "      <td>Captain Barbossa, long believed to be dead, ha...</td>\n",
       "      <td>Walt Disney Pictures,Jerry Bruckheimer Films,S...</td>\n",
       "      <td>United States of America</td>\n",
       "      <td>2007-05-19</td>\n",
       "      <td>6.9</td>\n",
       "      <td>4500</td>\n",
       "      <td>Johnny Depp,Orlando Bloom,Keira Knightley,Stel...</td>\n",
       "      <td>Gore Verbinski,Jerry Bruckheimer,Ted Elliott,T...</td>\n",
       "    </tr>\n",
       "    <tr>\n",
       "      <th>2</th>\n",
       "      <td>Action,Adventure,Crime</td>\n",
       "      <td>206647</td>\n",
       "      <td>Spectre</td>\n",
       "      <td>A cryptic message from Bond’s past sends him o...</td>\n",
       "      <td>Columbia Pictures,Danjaq,B24</td>\n",
       "      <td>United Kingdom,United States of America</td>\n",
       "      <td>2015-10-26</td>\n",
       "      <td>6.3</td>\n",
       "      <td>4466</td>\n",
       "      <td>Daniel Craig,Christoph Waltz,Léa Seydoux,Ralph...</td>\n",
       "      <td>Sam Mendes,John Logan,Barbara Broccoli,Robert ...</td>\n",
       "    </tr>\n",
       "    <tr>\n",
       "      <th>3</th>\n",
       "      <td>Action,Crime,Drama,Thriller</td>\n",
       "      <td>49026</td>\n",
       "      <td>The Dark Knight Rises</td>\n",
       "      <td>Following the death of District Attorney Harve...</td>\n",
       "      <td>Legendary Pictures,Warner Bros.,DC Entertainme...</td>\n",
       "      <td>United States of America</td>\n",
       "      <td>2012-07-16</td>\n",
       "      <td>7.6</td>\n",
       "      <td>9106</td>\n",
       "      <td>Christian Bale,Michael Caine,Gary Oldman,Anne ...</td>\n",
       "      <td>Charles Roven,Christopher Nolan,Jonathan Nolan...</td>\n",
       "    </tr>\n",
       "    <tr>\n",
       "      <th>4</th>\n",
       "      <td>Action,Adventure,Science Fiction</td>\n",
       "      <td>49529</td>\n",
       "      <td>John Carter</td>\n",
       "      <td>John Carter is a war-weary, former military ca...</td>\n",
       "      <td>Walt Disney Pictures</td>\n",
       "      <td>United States of America</td>\n",
       "      <td>2012-03-07</td>\n",
       "      <td>6.1</td>\n",
       "      <td>2124</td>\n",
       "      <td>Taylor Kitsch,Lynn Collins,Samantha Morton,Wil...</td>\n",
       "      <td>Andrew Stanton,Colin Wilson,Jim Morris,Lindsey...</td>\n",
       "    </tr>\n",
       "  </tbody>\n",
       "</table>\n",
       "</div>"
      ],
      "text/plain": [
       "                                     genres      id  \\\n",
       "0  Action,Adventure,Fantasy,Science Fiction   19995   \n",
       "1                  Adventure,Fantasy,Action     285   \n",
       "2                    Action,Adventure,Crime  206647   \n",
       "3               Action,Crime,Drama,Thriller   49026   \n",
       "4          Action,Adventure,Science Fiction   49529   \n",
       "\n",
       "                             original_title  \\\n",
       "0                                    Avatar   \n",
       "1  Pirates of the Caribbean: At World's End   \n",
       "2                                   Spectre   \n",
       "3                     The Dark Knight Rises   \n",
       "4                               John Carter   \n",
       "\n",
       "                                            overview  \\\n",
       "0  In the 22nd century, a paraplegic Marine is di...   \n",
       "1  Captain Barbossa, long believed to be dead, ha...   \n",
       "2  A cryptic message from Bond’s past sends him o...   \n",
       "3  Following the death of District Attorney Harve...   \n",
       "4  John Carter is a war-weary, former military ca...   \n",
       "\n",
       "                                production_companies  \\\n",
       "0  Ingenious Film Partners,Twentieth Century Fox ...   \n",
       "1  Walt Disney Pictures,Jerry Bruckheimer Films,S...   \n",
       "2                       Columbia Pictures,Danjaq,B24   \n",
       "3  Legendary Pictures,Warner Bros.,DC Entertainme...   \n",
       "4                               Walt Disney Pictures   \n",
       "\n",
       "                      production_countries release_date  vote_average  \\\n",
       "0  United States of America,United Kingdom   2009-12-10           7.2   \n",
       "1                 United States of America   2007-05-19           6.9   \n",
       "2  United Kingdom,United States of America   2015-10-26           6.3   \n",
       "3                 United States of America   2012-07-16           7.6   \n",
       "4                 United States of America   2012-03-07           6.1   \n",
       "\n",
       "   vote_count                                         cast_names  \\\n",
       "0       11800  Sam Worthington,Zoe Saldana,Sigourney Weaver,S...   \n",
       "1        4500  Johnny Depp,Orlando Bloom,Keira Knightley,Stel...   \n",
       "2        4466  Daniel Craig,Christoph Waltz,Léa Seydoux,Ralph...   \n",
       "3        9106  Christian Bale,Michael Caine,Gary Oldman,Anne ...   \n",
       "4        2124  Taylor Kitsch,Lynn Collins,Samantha Morton,Wil...   \n",
       "\n",
       "                                          crew_names  \n",
       "0                           James Cameron,Jon Landau  \n",
       "1  Gore Verbinski,Jerry Bruckheimer,Ted Elliott,T...  \n",
       "2  Sam Mendes,John Logan,Barbara Broccoli,Robert ...  \n",
       "3  Charles Roven,Christopher Nolan,Jonathan Nolan...  \n",
       "4  Andrew Stanton,Colin Wilson,Jim Morris,Lindsey...  "
      ]
     },
     "execution_count": 4,
     "metadata": {},
     "output_type": "execute_result"
    }
   ],
   "source": [
    "df.head()"
   ]
  },
  {
   "cell_type": "code",
   "execution_count": 5,
   "id": "276e0159-d976-4038-98c8-3c67a276e330",
   "metadata": {},
   "outputs": [
    {
     "data": {
      "text/plain": [
       "genres                   27\n",
       "id                        0\n",
       "original_title            0\n",
       "overview                  0\n",
       "production_companies    349\n",
       "production_countries    172\n",
       "release_date              0\n",
       "vote_average              0\n",
       "vote_count                0\n",
       "cast_names               41\n",
       "crew_names               28\n",
       "dtype: int64"
      ]
     },
     "execution_count": 5,
     "metadata": {},
     "output_type": "execute_result"
    }
   ],
   "source": [
    "df.isna().sum()"
   ]
  },
  {
   "cell_type": "code",
   "execution_count": 6,
   "id": "585ac1a2-1922-4f97-9204-1028be1f3dd2",
   "metadata": {},
   "outputs": [
    {
     "data": {
      "text/plain": [
       "(4799, 11)"
      ]
     },
     "execution_count": 6,
     "metadata": {},
     "output_type": "execute_result"
    }
   ],
   "source": [
    "df.shape"
   ]
  },
  {
   "cell_type": "code",
   "execution_count": 7,
   "id": "12835ec5-73aa-445b-be30-656e32d28aad",
   "metadata": {},
   "outputs": [],
   "source": [
    "df = df.dropna()"
   ]
  },
  {
   "cell_type": "code",
   "execution_count": 8,
   "id": "c7aff83e-212d-4d60-b254-928bd9fafafd",
   "metadata": {},
   "outputs": [],
   "source": [
    "### content based"
   ]
  },
  {
   "cell_type": "code",
   "execution_count": 9,
   "id": "ad137e91-d77f-4403-ba45-52916cb48618",
   "metadata": {},
   "outputs": [],
   "source": [
    "data1 = df[[\"genres\", \"original_title\", \"overview\", \"production_companies\", \"production_countries\", \"cast_names\", \"crew_names\"]]\n",
    "# data1 = df[[\"genres\", \"original_title\", \"overview\", \"production_companies\", \"production_countries\", \"cast_names\"]]"
   ]
  },
  {
   "cell_type": "code",
   "execution_count": 10,
   "id": "cad0238d-3622-4bdc-9771-db9558cb88c7",
   "metadata": {},
   "outputs": [
    {
     "data": {
      "text/html": [
       "<div>\n",
       "<style scoped>\n",
       "    .dataframe tbody tr th:only-of-type {\n",
       "        vertical-align: middle;\n",
       "    }\n",
       "\n",
       "    .dataframe tbody tr th {\n",
       "        vertical-align: top;\n",
       "    }\n",
       "\n",
       "    .dataframe thead th {\n",
       "        text-align: right;\n",
       "    }\n",
       "</style>\n",
       "<table border=\"1\" class=\"dataframe\">\n",
       "  <thead>\n",
       "    <tr style=\"text-align: right;\">\n",
       "      <th></th>\n",
       "      <th>genres</th>\n",
       "      <th>original_title</th>\n",
       "      <th>overview</th>\n",
       "      <th>production_companies</th>\n",
       "      <th>production_countries</th>\n",
       "      <th>cast_names</th>\n",
       "      <th>crew_names</th>\n",
       "    </tr>\n",
       "  </thead>\n",
       "  <tbody>\n",
       "    <tr>\n",
       "      <th>0</th>\n",
       "      <td>Action,Adventure,Fantasy,Science Fiction</td>\n",
       "      <td>Avatar</td>\n",
       "      <td>In the 22nd century, a paraplegic Marine is di...</td>\n",
       "      <td>Ingenious Film Partners,Twentieth Century Fox ...</td>\n",
       "      <td>United States of America,United Kingdom</td>\n",
       "      <td>Sam Worthington,Zoe Saldana,Sigourney Weaver,S...</td>\n",
       "      <td>James Cameron,Jon Landau</td>\n",
       "    </tr>\n",
       "    <tr>\n",
       "      <th>1</th>\n",
       "      <td>Adventure,Fantasy,Action</td>\n",
       "      <td>Pirates of the Caribbean: At World's End</td>\n",
       "      <td>Captain Barbossa, long believed to be dead, ha...</td>\n",
       "      <td>Walt Disney Pictures,Jerry Bruckheimer Films,S...</td>\n",
       "      <td>United States of America</td>\n",
       "      <td>Johnny Depp,Orlando Bloom,Keira Knightley,Stel...</td>\n",
       "      <td>Gore Verbinski,Jerry Bruckheimer,Ted Elliott,T...</td>\n",
       "    </tr>\n",
       "    <tr>\n",
       "      <th>2</th>\n",
       "      <td>Action,Adventure,Crime</td>\n",
       "      <td>Spectre</td>\n",
       "      <td>A cryptic message from Bond’s past sends him o...</td>\n",
       "      <td>Columbia Pictures,Danjaq,B24</td>\n",
       "      <td>United Kingdom,United States of America</td>\n",
       "      <td>Daniel Craig,Christoph Waltz,Léa Seydoux,Ralph...</td>\n",
       "      <td>Sam Mendes,John Logan,Barbara Broccoli,Robert ...</td>\n",
       "    </tr>\n",
       "    <tr>\n",
       "      <th>3</th>\n",
       "      <td>Action,Crime,Drama,Thriller</td>\n",
       "      <td>The Dark Knight Rises</td>\n",
       "      <td>Following the death of District Attorney Harve...</td>\n",
       "      <td>Legendary Pictures,Warner Bros.,DC Entertainme...</td>\n",
       "      <td>United States of America</td>\n",
       "      <td>Christian Bale,Michael Caine,Gary Oldman,Anne ...</td>\n",
       "      <td>Charles Roven,Christopher Nolan,Jonathan Nolan...</td>\n",
       "    </tr>\n",
       "    <tr>\n",
       "      <th>4</th>\n",
       "      <td>Action,Adventure,Science Fiction</td>\n",
       "      <td>John Carter</td>\n",
       "      <td>John Carter is a war-weary, former military ca...</td>\n",
       "      <td>Walt Disney Pictures</td>\n",
       "      <td>United States of America</td>\n",
       "      <td>Taylor Kitsch,Lynn Collins,Samantha Morton,Wil...</td>\n",
       "      <td>Andrew Stanton,Colin Wilson,Jim Morris,Lindsey...</td>\n",
       "    </tr>\n",
       "  </tbody>\n",
       "</table>\n",
       "</div>"
      ],
      "text/plain": [
       "                                     genres  \\\n",
       "0  Action,Adventure,Fantasy,Science Fiction   \n",
       "1                  Adventure,Fantasy,Action   \n",
       "2                    Action,Adventure,Crime   \n",
       "3               Action,Crime,Drama,Thriller   \n",
       "4          Action,Adventure,Science Fiction   \n",
       "\n",
       "                             original_title  \\\n",
       "0                                    Avatar   \n",
       "1  Pirates of the Caribbean: At World's End   \n",
       "2                                   Spectre   \n",
       "3                     The Dark Knight Rises   \n",
       "4                               John Carter   \n",
       "\n",
       "                                            overview  \\\n",
       "0  In the 22nd century, a paraplegic Marine is di...   \n",
       "1  Captain Barbossa, long believed to be dead, ha...   \n",
       "2  A cryptic message from Bond’s past sends him o...   \n",
       "3  Following the death of District Attorney Harve...   \n",
       "4  John Carter is a war-weary, former military ca...   \n",
       "\n",
       "                                production_companies  \\\n",
       "0  Ingenious Film Partners,Twentieth Century Fox ...   \n",
       "1  Walt Disney Pictures,Jerry Bruckheimer Films,S...   \n",
       "2                       Columbia Pictures,Danjaq,B24   \n",
       "3  Legendary Pictures,Warner Bros.,DC Entertainme...   \n",
       "4                               Walt Disney Pictures   \n",
       "\n",
       "                      production_countries  \\\n",
       "0  United States of America,United Kingdom   \n",
       "1                 United States of America   \n",
       "2  United Kingdom,United States of America   \n",
       "3                 United States of America   \n",
       "4                 United States of America   \n",
       "\n",
       "                                          cast_names  \\\n",
       "0  Sam Worthington,Zoe Saldana,Sigourney Weaver,S...   \n",
       "1  Johnny Depp,Orlando Bloom,Keira Knightley,Stel...   \n",
       "2  Daniel Craig,Christoph Waltz,Léa Seydoux,Ralph...   \n",
       "3  Christian Bale,Michael Caine,Gary Oldman,Anne ...   \n",
       "4  Taylor Kitsch,Lynn Collins,Samantha Morton,Wil...   \n",
       "\n",
       "                                          crew_names  \n",
       "0                           James Cameron,Jon Landau  \n",
       "1  Gore Verbinski,Jerry Bruckheimer,Ted Elliott,T...  \n",
       "2  Sam Mendes,John Logan,Barbara Broccoli,Robert ...  \n",
       "3  Charles Roven,Christopher Nolan,Jonathan Nolan...  \n",
       "4  Andrew Stanton,Colin Wilson,Jim Morris,Lindsey...  "
      ]
     },
     "execution_count": 10,
     "metadata": {},
     "output_type": "execute_result"
    }
   ],
   "source": [
    "data1.head()"
   ]
  },
  {
   "cell_type": "code",
   "execution_count": 11,
   "id": "48458118-1c9c-4fc1-8116-8787beb38269",
   "metadata": {},
   "outputs": [],
   "source": [
    "def convert(x):\n",
    "    if pd.isna(x) == False:\n",
    "        return str(x).lower().split(\",\")\n",
    "    else:\n",
    "        return \"\""
   ]
  },
  {
   "cell_type": "code",
   "execution_count": 12,
   "id": "21552657-3ef7-4878-b096-8d5711c85837",
   "metadata": {},
   "outputs": [
    {
     "name": "stderr",
     "output_type": "stream",
     "text": [
      "C:\\Users\\alain\\AppData\\Local\\Temp\\ipykernel_23024\\3432001044.py:1: SettingWithCopyWarning: \n",
      "A value is trying to be set on a copy of a slice from a DataFrame.\n",
      "Try using .loc[row_indexer,col_indexer] = value instead\n",
      "\n",
      "See the caveats in the documentation: https://pandas.pydata.org/pandas-docs/stable/user_guide/indexing.html#returning-a-view-versus-a-copy\n",
      "  data1[\"genres\"] = data1[\"genres\"].apply(convert)\n"
     ]
    }
   ],
   "source": [
    "data1[\"genres\"] = data1[\"genres\"].apply(convert)"
   ]
  },
  {
   "cell_type": "code",
   "execution_count": 13,
   "id": "3162102e-2b4d-4e2b-8a53-b49e94b1cbb9",
   "metadata": {},
   "outputs": [
    {
     "name": "stderr",
     "output_type": "stream",
     "text": [
      "C:\\Users\\alain\\AppData\\Local\\Temp\\ipykernel_23024\\1709033294.py:1: SettingWithCopyWarning: \n",
      "A value is trying to be set on a copy of a slice from a DataFrame.\n",
      "Try using .loc[row_indexer,col_indexer] = value instead\n",
      "\n",
      "See the caveats in the documentation: https://pandas.pydata.org/pandas-docs/stable/user_guide/indexing.html#returning-a-view-versus-a-copy\n",
      "  data1[\"overview\"] = data1[\"overview\"].apply(convert)\n"
     ]
    }
   ],
   "source": [
    "data1[\"overview\"] = data1[\"overview\"].apply(convert)"
   ]
  },
  {
   "cell_type": "code",
   "execution_count": 14,
   "id": "baf5f2cf-8634-4a85-a035-834983c0d1c0",
   "metadata": {},
   "outputs": [
    {
     "name": "stderr",
     "output_type": "stream",
     "text": [
      "C:\\Users\\alain\\AppData\\Local\\Temp\\ipykernel_23024\\3119289111.py:1: SettingWithCopyWarning: \n",
      "A value is trying to be set on a copy of a slice from a DataFrame.\n",
      "Try using .loc[row_indexer,col_indexer] = value instead\n",
      "\n",
      "See the caveats in the documentation: https://pandas.pydata.org/pandas-docs/stable/user_guide/indexing.html#returning-a-view-versus-a-copy\n",
      "  data1[\"production_companies\"] = data1[\"production_companies\"].apply(convert)\n"
     ]
    }
   ],
   "source": [
    "data1[\"production_companies\"] = data1[\"production_companies\"].apply(convert)"
   ]
  },
  {
   "cell_type": "code",
   "execution_count": 15,
   "id": "5bb854d1-eded-4363-b0e0-2eabb0bfd652",
   "metadata": {},
   "outputs": [
    {
     "name": "stderr",
     "output_type": "stream",
     "text": [
      "C:\\Users\\alain\\AppData\\Local\\Temp\\ipykernel_23024\\637867445.py:1: SettingWithCopyWarning: \n",
      "A value is trying to be set on a copy of a slice from a DataFrame.\n",
      "Try using .loc[row_indexer,col_indexer] = value instead\n",
      "\n",
      "See the caveats in the documentation: https://pandas.pydata.org/pandas-docs/stable/user_guide/indexing.html#returning-a-view-versus-a-copy\n",
      "  data1[\"production_countries\"] = data1[\"production_countries\"].apply(convert)\n"
     ]
    }
   ],
   "source": [
    "data1[\"production_countries\"] = data1[\"production_countries\"].apply(convert)"
   ]
  },
  {
   "cell_type": "code",
   "execution_count": 16,
   "id": "7f07b5af-139b-4f04-bf19-d264ecbd065b",
   "metadata": {},
   "outputs": [
    {
     "name": "stderr",
     "output_type": "stream",
     "text": [
      "C:\\Users\\alain\\AppData\\Local\\Temp\\ipykernel_23024\\3964670989.py:1: SettingWithCopyWarning: \n",
      "A value is trying to be set on a copy of a slice from a DataFrame.\n",
      "Try using .loc[row_indexer,col_indexer] = value instead\n",
      "\n",
      "See the caveats in the documentation: https://pandas.pydata.org/pandas-docs/stable/user_guide/indexing.html#returning-a-view-versus-a-copy\n",
      "  data1[\"cast_names\"] = data1[\"cast_names\"].apply(convert)\n"
     ]
    }
   ],
   "source": [
    "data1[\"cast_names\"] = data1[\"cast_names\"].apply(convert)"
   ]
  },
  {
   "cell_type": "code",
   "execution_count": 17,
   "id": "d3e0820d-70b8-4b3b-9099-f8fb66f104bc",
   "metadata": {},
   "outputs": [
    {
     "name": "stderr",
     "output_type": "stream",
     "text": [
      "C:\\Users\\alain\\AppData\\Local\\Temp\\ipykernel_23024\\1711649332.py:1: SettingWithCopyWarning: \n",
      "A value is trying to be set on a copy of a slice from a DataFrame.\n",
      "Try using .loc[row_indexer,col_indexer] = value instead\n",
      "\n",
      "See the caveats in the documentation: https://pandas.pydata.org/pandas-docs/stable/user_guide/indexing.html#returning-a-view-versus-a-copy\n",
      "  data1[\"crew_names\"] = data1[\"crew_names\"].apply(convert)\n"
     ]
    }
   ],
   "source": [
    "data1[\"crew_names\"] = data1[\"crew_names\"].apply(convert)"
   ]
  },
  {
   "cell_type": "code",
   "execution_count": 18,
   "id": "eddddd85-0454-474c-b653-8cdb2c8cbccf",
   "metadata": {},
   "outputs": [
    {
     "data": {
      "text/html": [
       "<div>\n",
       "<style scoped>\n",
       "    .dataframe tbody tr th:only-of-type {\n",
       "        vertical-align: middle;\n",
       "    }\n",
       "\n",
       "    .dataframe tbody tr th {\n",
       "        vertical-align: top;\n",
       "    }\n",
       "\n",
       "    .dataframe thead th {\n",
       "        text-align: right;\n",
       "    }\n",
       "</style>\n",
       "<table border=\"1\" class=\"dataframe\">\n",
       "  <thead>\n",
       "    <tr style=\"text-align: right;\">\n",
       "      <th></th>\n",
       "      <th>genres</th>\n",
       "      <th>original_title</th>\n",
       "      <th>overview</th>\n",
       "      <th>production_companies</th>\n",
       "      <th>production_countries</th>\n",
       "      <th>cast_names</th>\n",
       "      <th>crew_names</th>\n",
       "    </tr>\n",
       "  </thead>\n",
       "  <tbody>\n",
       "    <tr>\n",
       "      <th>0</th>\n",
       "      <td>[action, adventure, fantasy, science fiction]</td>\n",
       "      <td>Avatar</td>\n",
       "      <td>[in the 22nd century,  a paraplegic marine is ...</td>\n",
       "      <td>[ingenious film partners, twentieth century fo...</td>\n",
       "      <td>[united states of america, united kingdom]</td>\n",
       "      <td>[sam worthington, zoe saldana, sigourney weave...</td>\n",
       "      <td>[james cameron, jon landau]</td>\n",
       "    </tr>\n",
       "    <tr>\n",
       "      <th>1</th>\n",
       "      <td>[adventure, fantasy, action]</td>\n",
       "      <td>Pirates of the Caribbean: At World's End</td>\n",
       "      <td>[captain barbossa,  long believed to be dead, ...</td>\n",
       "      <td>[walt disney pictures, jerry bruckheimer films...</td>\n",
       "      <td>[united states of america]</td>\n",
       "      <td>[johnny depp, orlando bloom, keira knightley, ...</td>\n",
       "      <td>[gore verbinski, jerry bruckheimer, ted elliot...</td>\n",
       "    </tr>\n",
       "    <tr>\n",
       "      <th>2</th>\n",
       "      <td>[action, adventure, crime]</td>\n",
       "      <td>Spectre</td>\n",
       "      <td>[a cryptic message from bond’s past sends him ...</td>\n",
       "      <td>[columbia pictures, danjaq, b24]</td>\n",
       "      <td>[united kingdom, united states of america]</td>\n",
       "      <td>[daniel craig, christoph waltz, léa seydoux, r...</td>\n",
       "      <td>[sam mendes, john logan, barbara broccoli, rob...</td>\n",
       "    </tr>\n",
       "    <tr>\n",
       "      <th>3</th>\n",
       "      <td>[action, crime, drama, thriller]</td>\n",
       "      <td>The Dark Knight Rises</td>\n",
       "      <td>[following the death of district attorney harv...</td>\n",
       "      <td>[legendary pictures, warner bros., dc entertai...</td>\n",
       "      <td>[united states of america]</td>\n",
       "      <td>[christian bale, michael caine, gary oldman, a...</td>\n",
       "      <td>[charles roven, christopher nolan, jonathan no...</td>\n",
       "    </tr>\n",
       "    <tr>\n",
       "      <th>4</th>\n",
       "      <td>[action, adventure, science fiction]</td>\n",
       "      <td>John Carter</td>\n",
       "      <td>[john carter is a war-weary,  former military ...</td>\n",
       "      <td>[walt disney pictures]</td>\n",
       "      <td>[united states of america]</td>\n",
       "      <td>[taylor kitsch, lynn collins, samantha morton,...</td>\n",
       "      <td>[andrew stanton, colin wilson, jim morris, lin...</td>\n",
       "    </tr>\n",
       "  </tbody>\n",
       "</table>\n",
       "</div>"
      ],
      "text/plain": [
       "                                          genres  \\\n",
       "0  [action, adventure, fantasy, science fiction]   \n",
       "1                   [adventure, fantasy, action]   \n",
       "2                     [action, adventure, crime]   \n",
       "3               [action, crime, drama, thriller]   \n",
       "4           [action, adventure, science fiction]   \n",
       "\n",
       "                             original_title  \\\n",
       "0                                    Avatar   \n",
       "1  Pirates of the Caribbean: At World's End   \n",
       "2                                   Spectre   \n",
       "3                     The Dark Knight Rises   \n",
       "4                               John Carter   \n",
       "\n",
       "                                            overview  \\\n",
       "0  [in the 22nd century,  a paraplegic marine is ...   \n",
       "1  [captain barbossa,  long believed to be dead, ...   \n",
       "2  [a cryptic message from bond’s past sends him ...   \n",
       "3  [following the death of district attorney harv...   \n",
       "4  [john carter is a war-weary,  former military ...   \n",
       "\n",
       "                                production_companies  \\\n",
       "0  [ingenious film partners, twentieth century fo...   \n",
       "1  [walt disney pictures, jerry bruckheimer films...   \n",
       "2                   [columbia pictures, danjaq, b24]   \n",
       "3  [legendary pictures, warner bros., dc entertai...   \n",
       "4                             [walt disney pictures]   \n",
       "\n",
       "                         production_countries  \\\n",
       "0  [united states of america, united kingdom]   \n",
       "1                  [united states of america]   \n",
       "2  [united kingdom, united states of america]   \n",
       "3                  [united states of america]   \n",
       "4                  [united states of america]   \n",
       "\n",
       "                                          cast_names  \\\n",
       "0  [sam worthington, zoe saldana, sigourney weave...   \n",
       "1  [johnny depp, orlando bloom, keira knightley, ...   \n",
       "2  [daniel craig, christoph waltz, léa seydoux, r...   \n",
       "3  [christian bale, michael caine, gary oldman, a...   \n",
       "4  [taylor kitsch, lynn collins, samantha morton,...   \n",
       "\n",
       "                                          crew_names  \n",
       "0                        [james cameron, jon landau]  \n",
       "1  [gore verbinski, jerry bruckheimer, ted elliot...  \n",
       "2  [sam mendes, john logan, barbara broccoli, rob...  \n",
       "3  [charles roven, christopher nolan, jonathan no...  \n",
       "4  [andrew stanton, colin wilson, jim morris, lin...  "
      ]
     },
     "execution_count": 18,
     "metadata": {},
     "output_type": "execute_result"
    }
   ],
   "source": [
    "data1.head()"
   ]
  },
  {
   "cell_type": "code",
   "execution_count": 19,
   "id": "edafba4e-5d2e-41f4-a857-17411b36b9a4",
   "metadata": {},
   "outputs": [],
   "source": [
    "def join_names(x):\n",
    "    return [name.replace(\" \", \"\") for name in x]"
   ]
  },
  {
   "cell_type": "code",
   "execution_count": 20,
   "id": "4c45bec7-c29e-49e6-965b-4aff71eb4278",
   "metadata": {},
   "outputs": [
    {
     "name": "stderr",
     "output_type": "stream",
     "text": [
      "C:\\Users\\alain\\AppData\\Local\\Temp\\ipykernel_23024\\3819760842.py:1: SettingWithCopyWarning: \n",
      "A value is trying to be set on a copy of a slice from a DataFrame.\n",
      "Try using .loc[row_indexer,col_indexer] = value instead\n",
      "\n",
      "See the caveats in the documentation: https://pandas.pydata.org/pandas-docs/stable/user_guide/indexing.html#returning-a-view-versus-a-copy\n",
      "  data1[\"cast_names\"] = data1[\"cast_names\"].apply(join_names)\n"
     ]
    }
   ],
   "source": [
    "data1[\"cast_names\"] = data1[\"cast_names\"].apply(join_names)"
   ]
  },
  {
   "cell_type": "code",
   "execution_count": 21,
   "id": "fbfcc1dc-1150-4fe4-87b3-dfe910134a10",
   "metadata": {},
   "outputs": [
    {
     "name": "stderr",
     "output_type": "stream",
     "text": [
      "C:\\Users\\alain\\AppData\\Local\\Temp\\ipykernel_23024\\2455027506.py:1: SettingWithCopyWarning: \n",
      "A value is trying to be set on a copy of a slice from a DataFrame.\n",
      "Try using .loc[row_indexer,col_indexer] = value instead\n",
      "\n",
      "See the caveats in the documentation: https://pandas.pydata.org/pandas-docs/stable/user_guide/indexing.html#returning-a-view-versus-a-copy\n",
      "  data1[\"crew_names\"] = data1[\"crew_names\"].apply(join_names)\n"
     ]
    }
   ],
   "source": [
    "data1[\"crew_names\"] = data1[\"crew_names\"].apply(join_names)"
   ]
  },
  {
   "cell_type": "code",
   "execution_count": 22,
   "id": "f5a57967-76ef-427f-96ea-1eaf869eea4d",
   "metadata": {},
   "outputs": [
    {
     "name": "stderr",
     "output_type": "stream",
     "text": [
      "C:\\Users\\alain\\AppData\\Local\\Temp\\ipykernel_23024\\3995409750.py:1: SettingWithCopyWarning: \n",
      "A value is trying to be set on a copy of a slice from a DataFrame.\n",
      "Try using .loc[row_indexer,col_indexer] = value instead\n",
      "\n",
      "See the caveats in the documentation: https://pandas.pydata.org/pandas-docs/stable/user_guide/indexing.html#returning-a-view-versus-a-copy\n",
      "  data1[\"production_companies\"] = data1[\"production_companies\"].apply(join_names)\n"
     ]
    }
   ],
   "source": [
    "data1[\"production_companies\"] = data1[\"production_companies\"].apply(join_names)"
   ]
  },
  {
   "cell_type": "code",
   "execution_count": 23,
   "id": "58c3d3f7-7901-401b-a7ef-68bbebfd464a",
   "metadata": {},
   "outputs": [
    {
     "name": "stderr",
     "output_type": "stream",
     "text": [
      "C:\\Users\\alain\\AppData\\Local\\Temp\\ipykernel_23024\\1829858849.py:1: SettingWithCopyWarning: \n",
      "A value is trying to be set on a copy of a slice from a DataFrame.\n",
      "Try using .loc[row_indexer,col_indexer] = value instead\n",
      "\n",
      "See the caveats in the documentation: https://pandas.pydata.org/pandas-docs/stable/user_guide/indexing.html#returning-a-view-versus-a-copy\n",
      "  data1[\"production_countries\"] = data1[\"production_countries\"].apply(join_names)\n"
     ]
    }
   ],
   "source": [
    "data1[\"production_countries\"] = data1[\"production_countries\"].apply(join_names)"
   ]
  },
  {
   "cell_type": "code",
   "execution_count": 24,
   "id": "52b469e7-bbe9-4a91-a22e-becc6aa0161e",
   "metadata": {},
   "outputs": [
    {
     "data": {
      "text/html": [
       "<div>\n",
       "<style scoped>\n",
       "    .dataframe tbody tr th:only-of-type {\n",
       "        vertical-align: middle;\n",
       "    }\n",
       "\n",
       "    .dataframe tbody tr th {\n",
       "        vertical-align: top;\n",
       "    }\n",
       "\n",
       "    .dataframe thead th {\n",
       "        text-align: right;\n",
       "    }\n",
       "</style>\n",
       "<table border=\"1\" class=\"dataframe\">\n",
       "  <thead>\n",
       "    <tr style=\"text-align: right;\">\n",
       "      <th></th>\n",
       "      <th>genres</th>\n",
       "      <th>original_title</th>\n",
       "      <th>overview</th>\n",
       "      <th>production_companies</th>\n",
       "      <th>production_countries</th>\n",
       "      <th>cast_names</th>\n",
       "      <th>crew_names</th>\n",
       "    </tr>\n",
       "  </thead>\n",
       "  <tbody>\n",
       "    <tr>\n",
       "      <th>0</th>\n",
       "      <td>[action, adventure, fantasy, science fiction]</td>\n",
       "      <td>Avatar</td>\n",
       "      <td>[in the 22nd century,  a paraplegic marine is ...</td>\n",
       "      <td>[ingeniousfilmpartners, twentiethcenturyfoxfil...</td>\n",
       "      <td>[unitedstatesofamerica, unitedkingdom]</td>\n",
       "      <td>[samworthington, zoesaldana, sigourneyweaver, ...</td>\n",
       "      <td>[jamescameron, jonlandau]</td>\n",
       "    </tr>\n",
       "    <tr>\n",
       "      <th>1</th>\n",
       "      <td>[adventure, fantasy, action]</td>\n",
       "      <td>Pirates of the Caribbean: At World's End</td>\n",
       "      <td>[captain barbossa,  long believed to be dead, ...</td>\n",
       "      <td>[waltdisneypictures, jerrybruckheimerfilms, se...</td>\n",
       "      <td>[unitedstatesofamerica]</td>\n",
       "      <td>[johnnydepp, orlandobloom, keiraknightley, ste...</td>\n",
       "      <td>[goreverbinski, jerrybruckheimer, tedelliott, ...</td>\n",
       "    </tr>\n",
       "    <tr>\n",
       "      <th>2</th>\n",
       "      <td>[action, adventure, crime]</td>\n",
       "      <td>Spectre</td>\n",
       "      <td>[a cryptic message from bond’s past sends him ...</td>\n",
       "      <td>[columbiapictures, danjaq, b24]</td>\n",
       "      <td>[unitedkingdom, unitedstatesofamerica]</td>\n",
       "      <td>[danielcraig, christophwaltz, léaseydoux, ralp...</td>\n",
       "      <td>[sammendes, johnlogan, barbarabroccoli, robert...</td>\n",
       "    </tr>\n",
       "    <tr>\n",
       "      <th>3</th>\n",
       "      <td>[action, crime, drama, thriller]</td>\n",
       "      <td>The Dark Knight Rises</td>\n",
       "      <td>[following the death of district attorney harv...</td>\n",
       "      <td>[legendarypictures, warnerbros., dcentertainme...</td>\n",
       "      <td>[unitedstatesofamerica]</td>\n",
       "      <td>[christianbale, michaelcaine, garyoldman, anne...</td>\n",
       "      <td>[charlesroven, christophernolan, jonathannolan...</td>\n",
       "    </tr>\n",
       "    <tr>\n",
       "      <th>4</th>\n",
       "      <td>[action, adventure, science fiction]</td>\n",
       "      <td>John Carter</td>\n",
       "      <td>[john carter is a war-weary,  former military ...</td>\n",
       "      <td>[waltdisneypictures]</td>\n",
       "      <td>[unitedstatesofamerica]</td>\n",
       "      <td>[taylorkitsch, lynncollins, samanthamorton, wi...</td>\n",
       "      <td>[andrewstanton, colinwilson, jimmorris, lindse...</td>\n",
       "    </tr>\n",
       "  </tbody>\n",
       "</table>\n",
       "</div>"
      ],
      "text/plain": [
       "                                          genres  \\\n",
       "0  [action, adventure, fantasy, science fiction]   \n",
       "1                   [adventure, fantasy, action]   \n",
       "2                     [action, adventure, crime]   \n",
       "3               [action, crime, drama, thriller]   \n",
       "4           [action, adventure, science fiction]   \n",
       "\n",
       "                             original_title  \\\n",
       "0                                    Avatar   \n",
       "1  Pirates of the Caribbean: At World's End   \n",
       "2                                   Spectre   \n",
       "3                     The Dark Knight Rises   \n",
       "4                               John Carter   \n",
       "\n",
       "                                            overview  \\\n",
       "0  [in the 22nd century,  a paraplegic marine is ...   \n",
       "1  [captain barbossa,  long believed to be dead, ...   \n",
       "2  [a cryptic message from bond’s past sends him ...   \n",
       "3  [following the death of district attorney harv...   \n",
       "4  [john carter is a war-weary,  former military ...   \n",
       "\n",
       "                                production_companies  \\\n",
       "0  [ingeniousfilmpartners, twentiethcenturyfoxfil...   \n",
       "1  [waltdisneypictures, jerrybruckheimerfilms, se...   \n",
       "2                    [columbiapictures, danjaq, b24]   \n",
       "3  [legendarypictures, warnerbros., dcentertainme...   \n",
       "4                               [waltdisneypictures]   \n",
       "\n",
       "                     production_countries  \\\n",
       "0  [unitedstatesofamerica, unitedkingdom]   \n",
       "1                 [unitedstatesofamerica]   \n",
       "2  [unitedkingdom, unitedstatesofamerica]   \n",
       "3                 [unitedstatesofamerica]   \n",
       "4                 [unitedstatesofamerica]   \n",
       "\n",
       "                                          cast_names  \\\n",
       "0  [samworthington, zoesaldana, sigourneyweaver, ...   \n",
       "1  [johnnydepp, orlandobloom, keiraknightley, ste...   \n",
       "2  [danielcraig, christophwaltz, léaseydoux, ralp...   \n",
       "3  [christianbale, michaelcaine, garyoldman, anne...   \n",
       "4  [taylorkitsch, lynncollins, samanthamorton, wi...   \n",
       "\n",
       "                                          crew_names  \n",
       "0                          [jamescameron, jonlandau]  \n",
       "1  [goreverbinski, jerrybruckheimer, tedelliott, ...  \n",
       "2  [sammendes, johnlogan, barbarabroccoli, robert...  \n",
       "3  [charlesroven, christophernolan, jonathannolan...  \n",
       "4  [andrewstanton, colinwilson, jimmorris, lindse...  "
      ]
     },
     "execution_count": 24,
     "metadata": {},
     "output_type": "execute_result"
    }
   ],
   "source": [
    "data1.head()"
   ]
  },
  {
   "cell_type": "code",
   "execution_count": 25,
   "id": "63f6167e-6cad-42c7-bb68-66923bba8371",
   "metadata": {},
   "outputs": [],
   "source": [
    "def key_words(x):\n",
    "    r = Rake()\n",
    "    r.extract_keywords_from_text(x[0])\n",
    "    key_words_scores = r.get_word_degrees()\n",
    "    return list(key_words_scores.keys())"
   ]
  },
  {
   "cell_type": "code",
   "execution_count": 26,
   "id": "7de7c5ed-22c8-4551-8a95-afccc133ef6f",
   "metadata": {},
   "outputs": [
    {
     "name": "stderr",
     "output_type": "stream",
     "text": [
      "C:\\Users\\alain\\AppData\\Local\\Temp\\ipykernel_23024\\1243523397.py:1: SettingWithCopyWarning: \n",
      "A value is trying to be set on a copy of a slice from a DataFrame.\n",
      "Try using .loc[row_indexer,col_indexer] = value instead\n",
      "\n",
      "See the caveats in the documentation: https://pandas.pydata.org/pandas-docs/stable/user_guide/indexing.html#returning-a-view-versus-a-copy\n",
      "  data1[\"overview\"] = data1[\"overview\"].apply(key_words)\n"
     ]
    }
   ],
   "source": [
    "data1[\"overview\"] = data1[\"overview\"].apply(key_words)"
   ]
  },
  {
   "cell_type": "code",
   "execution_count": 27,
   "id": "3d3c92ca-e1d1-4fb9-93ca-18f8c191655c",
   "metadata": {},
   "outputs": [],
   "source": [
    "data1.set_index('original_title', inplace=True)"
   ]
  },
  {
   "cell_type": "code",
   "execution_count": 28,
   "id": "74e4db39-b4c8-4ccc-b5f8-9e98afa5a779",
   "metadata": {},
   "outputs": [
    {
     "data": {
      "text/html": [
       "<div>\n",
       "<style scoped>\n",
       "    .dataframe tbody tr th:only-of-type {\n",
       "        vertical-align: middle;\n",
       "    }\n",
       "\n",
       "    .dataframe tbody tr th {\n",
       "        vertical-align: top;\n",
       "    }\n",
       "\n",
       "    .dataframe thead th {\n",
       "        text-align: right;\n",
       "    }\n",
       "</style>\n",
       "<table border=\"1\" class=\"dataframe\">\n",
       "  <thead>\n",
       "    <tr style=\"text-align: right;\">\n",
       "      <th></th>\n",
       "      <th>genres</th>\n",
       "      <th>overview</th>\n",
       "      <th>production_companies</th>\n",
       "      <th>production_countries</th>\n",
       "      <th>cast_names</th>\n",
       "      <th>crew_names</th>\n",
       "    </tr>\n",
       "    <tr>\n",
       "      <th>original_title</th>\n",
       "      <th></th>\n",
       "      <th></th>\n",
       "      <th></th>\n",
       "      <th></th>\n",
       "      <th></th>\n",
       "      <th></th>\n",
       "    </tr>\n",
       "  </thead>\n",
       "  <tbody>\n",
       "    <tr>\n",
       "      <th>Avatar</th>\n",
       "      <td>[action, adventure, fantasy, science fiction]</td>\n",
       "      <td>[22nd, century]</td>\n",
       "      <td>[ingeniousfilmpartners, twentiethcenturyfoxfil...</td>\n",
       "      <td>[unitedstatesofamerica, unitedkingdom]</td>\n",
       "      <td>[samworthington, zoesaldana, sigourneyweaver, ...</td>\n",
       "      <td>[jamescameron, jonlandau]</td>\n",
       "    </tr>\n",
       "    <tr>\n",
       "      <th>Pirates of the Caribbean: At World's End</th>\n",
       "      <td>[adventure, fantasy, action]</td>\n",
       "      <td>[captain, barbossa]</td>\n",
       "      <td>[waltdisneypictures, jerrybruckheimerfilms, se...</td>\n",
       "      <td>[unitedstatesofamerica]</td>\n",
       "      <td>[johnnydepp, orlandobloom, keiraknightley, ste...</td>\n",
       "      <td>[goreverbinski, jerrybruckheimer, tedelliott, ...</td>\n",
       "    </tr>\n",
       "    <tr>\n",
       "      <th>Spectre</th>\n",
       "      <td>[action, adventure, crime]</td>\n",
       "      <td>[cryptic, message, bond, ’, past, sends, trail...</td>\n",
       "      <td>[columbiapictures, danjaq, b24]</td>\n",
       "      <td>[unitedkingdom, unitedstatesofamerica]</td>\n",
       "      <td>[danielcraig, christophwaltz, léaseydoux, ralp...</td>\n",
       "      <td>[sammendes, johnlogan, barbarabroccoli, robert...</td>\n",
       "    </tr>\n",
       "    <tr>\n",
       "      <th>The Dark Knight Rises</th>\n",
       "      <td>[action, crime, drama, thriller]</td>\n",
       "      <td>[following, death, district, attorney, harvey,...</td>\n",
       "      <td>[legendarypictures, warnerbros., dcentertainme...</td>\n",
       "      <td>[unitedstatesofamerica]</td>\n",
       "      <td>[christianbale, michaelcaine, garyoldman, anne...</td>\n",
       "      <td>[charlesroven, christophernolan, jonathannolan...</td>\n",
       "    </tr>\n",
       "    <tr>\n",
       "      <th>John Carter</th>\n",
       "      <td>[action, adventure, science fiction]</td>\n",
       "      <td>[john, carter, war, weary]</td>\n",
       "      <td>[waltdisneypictures]</td>\n",
       "      <td>[unitedstatesofamerica]</td>\n",
       "      <td>[taylorkitsch, lynncollins, samanthamorton, wi...</td>\n",
       "      <td>[andrewstanton, colinwilson, jimmorris, lindse...</td>\n",
       "    </tr>\n",
       "  </tbody>\n",
       "</table>\n",
       "</div>"
      ],
      "text/plain": [
       "                                                                                 genres  \\\n",
       "original_title                                                                            \n",
       "Avatar                                    [action, adventure, fantasy, science fiction]   \n",
       "Pirates of the Caribbean: At World's End                   [adventure, fantasy, action]   \n",
       "Spectre                                                      [action, adventure, crime]   \n",
       "The Dark Knight Rises                                  [action, crime, drama, thriller]   \n",
       "John Carter                                        [action, adventure, science fiction]   \n",
       "\n",
       "                                                                                   overview  \\\n",
       "original_title                                                                                \n",
       "Avatar                                                                      [22nd, century]   \n",
       "Pirates of the Caribbean: At World's End                                [captain, barbossa]   \n",
       "Spectre                                   [cryptic, message, bond, ’, past, sends, trail...   \n",
       "The Dark Knight Rises                     [following, death, district, attorney, harvey,...   \n",
       "John Carter                                                      [john, carter, war, weary]   \n",
       "\n",
       "                                                                       production_companies  \\\n",
       "original_title                                                                                \n",
       "Avatar                                    [ingeniousfilmpartners, twentiethcenturyfoxfil...   \n",
       "Pirates of the Caribbean: At World's End  [waltdisneypictures, jerrybruckheimerfilms, se...   \n",
       "Spectre                                                     [columbiapictures, danjaq, b24]   \n",
       "The Dark Knight Rises                     [legendarypictures, warnerbros., dcentertainme...   \n",
       "John Carter                                                            [waltdisneypictures]   \n",
       "\n",
       "                                                            production_countries  \\\n",
       "original_title                                                                     \n",
       "Avatar                                    [unitedstatesofamerica, unitedkingdom]   \n",
       "Pirates of the Caribbean: At World's End                 [unitedstatesofamerica]   \n",
       "Spectre                                   [unitedkingdom, unitedstatesofamerica]   \n",
       "The Dark Knight Rises                                    [unitedstatesofamerica]   \n",
       "John Carter                                              [unitedstatesofamerica]   \n",
       "\n",
       "                                                                                 cast_names  \\\n",
       "original_title                                                                                \n",
       "Avatar                                    [samworthington, zoesaldana, sigourneyweaver, ...   \n",
       "Pirates of the Caribbean: At World's End  [johnnydepp, orlandobloom, keiraknightley, ste...   \n",
       "Spectre                                   [danielcraig, christophwaltz, léaseydoux, ralp...   \n",
       "The Dark Knight Rises                     [christianbale, michaelcaine, garyoldman, anne...   \n",
       "John Carter                               [taylorkitsch, lynncollins, samanthamorton, wi...   \n",
       "\n",
       "                                                                                 crew_names  \n",
       "original_title                                                                               \n",
       "Avatar                                                            [jamescameron, jonlandau]  \n",
       "Pirates of the Caribbean: At World's End  [goreverbinski, jerrybruckheimer, tedelliott, ...  \n",
       "Spectre                                   [sammendes, johnlogan, barbarabroccoli, robert...  \n",
       "The Dark Knight Rises                     [charlesroven, christophernolan, jonathannolan...  \n",
       "John Carter                               [andrewstanton, colinwilson, jimmorris, lindse...  "
      ]
     },
     "execution_count": 28,
     "metadata": {},
     "output_type": "execute_result"
    }
   ],
   "source": [
    "data1.head()"
   ]
  },
  {
   "cell_type": "code",
   "execution_count": 29,
   "id": "839777d3-e3e9-42c8-a545-9727ded0ae0f",
   "metadata": {},
   "outputs": [
    {
     "name": "stderr",
     "output_type": "stream",
     "text": [
      "C:\\Users\\alain\\AppData\\Local\\Temp\\ipykernel_23024\\469440472.py:1: SettingWithCopyWarning: \n",
      "A value is trying to be set on a copy of a slice from a DataFrame.\n",
      "Try using .loc[row_indexer,col_indexer] = value instead\n",
      "\n",
      "See the caveats in the documentation: https://pandas.pydata.org/pandas-docs/stable/user_guide/indexing.html#returning-a-view-versus-a-copy\n",
      "  data1[\"combined_data\"] = data1.apply(lambda row: [item for sublist in row for item in sublist], axis=1)\n"
     ]
    }
   ],
   "source": [
    "data1[\"combined_data\"] = data1.apply(lambda row: [item for sublist in row for item in sublist], axis=1)"
   ]
  },
  {
   "cell_type": "code",
   "execution_count": 30,
   "id": "b443e55f-25bb-4bfc-be42-0b27c1022875",
   "metadata": {},
   "outputs": [
    {
     "name": "stderr",
     "output_type": "stream",
     "text": [
      "C:\\Users\\alain\\AppData\\Local\\Temp\\ipykernel_23024\\3782013469.py:1: SettingWithCopyWarning: \n",
      "A value is trying to be set on a copy of a slice from a DataFrame.\n",
      "Try using .loc[row_indexer,col_indexer] = value instead\n",
      "\n",
      "See the caveats in the documentation: https://pandas.pydata.org/pandas-docs/stable/user_guide/indexing.html#returning-a-view-versus-a-copy\n",
      "  data1[\"combined_data\"] = data1[\"combined_data\"].apply(lambda x: \" \".join(x))\n"
     ]
    }
   ],
   "source": [
    "data1[\"combined_data\"] = data1[\"combined_data\"].apply(lambda x: \" \".join(x))"
   ]
  },
  {
   "cell_type": "code",
   "execution_count": 31,
   "id": "ba6f47c2-483a-48ed-8979-0e4da39e0370",
   "metadata": {},
   "outputs": [
    {
     "data": {
      "text/html": [
       "<div>\n",
       "<style scoped>\n",
       "    .dataframe tbody tr th:only-of-type {\n",
       "        vertical-align: middle;\n",
       "    }\n",
       "\n",
       "    .dataframe tbody tr th {\n",
       "        vertical-align: top;\n",
       "    }\n",
       "\n",
       "    .dataframe thead th {\n",
       "        text-align: right;\n",
       "    }\n",
       "</style>\n",
       "<table border=\"1\" class=\"dataframe\">\n",
       "  <thead>\n",
       "    <tr style=\"text-align: right;\">\n",
       "      <th></th>\n",
       "      <th>genres</th>\n",
       "      <th>overview</th>\n",
       "      <th>production_companies</th>\n",
       "      <th>production_countries</th>\n",
       "      <th>cast_names</th>\n",
       "      <th>crew_names</th>\n",
       "      <th>combined_data</th>\n",
       "    </tr>\n",
       "    <tr>\n",
       "      <th>original_title</th>\n",
       "      <th></th>\n",
       "      <th></th>\n",
       "      <th></th>\n",
       "      <th></th>\n",
       "      <th></th>\n",
       "      <th></th>\n",
       "      <th></th>\n",
       "    </tr>\n",
       "  </thead>\n",
       "  <tbody>\n",
       "    <tr>\n",
       "      <th>Avatar</th>\n",
       "      <td>[action, adventure, fantasy, science fiction]</td>\n",
       "      <td>[22nd, century]</td>\n",
       "      <td>[ingeniousfilmpartners, twentiethcenturyfoxfil...</td>\n",
       "      <td>[unitedstatesofamerica, unitedkingdom]</td>\n",
       "      <td>[samworthington, zoesaldana, sigourneyweaver, ...</td>\n",
       "      <td>[jamescameron, jonlandau]</td>\n",
       "      <td>action adventure fantasy science fiction 22nd ...</td>\n",
       "    </tr>\n",
       "    <tr>\n",
       "      <th>Pirates of the Caribbean: At World's End</th>\n",
       "      <td>[adventure, fantasy, action]</td>\n",
       "      <td>[captain, barbossa]</td>\n",
       "      <td>[waltdisneypictures, jerrybruckheimerfilms, se...</td>\n",
       "      <td>[unitedstatesofamerica]</td>\n",
       "      <td>[johnnydepp, orlandobloom, keiraknightley, ste...</td>\n",
       "      <td>[goreverbinski, jerrybruckheimer, tedelliott, ...</td>\n",
       "      <td>adventure fantasy action captain barbossa walt...</td>\n",
       "    </tr>\n",
       "    <tr>\n",
       "      <th>Spectre</th>\n",
       "      <td>[action, adventure, crime]</td>\n",
       "      <td>[cryptic, message, bond, ’, past, sends, trail...</td>\n",
       "      <td>[columbiapictures, danjaq, b24]</td>\n",
       "      <td>[unitedkingdom, unitedstatesofamerica]</td>\n",
       "      <td>[danielcraig, christophwaltz, léaseydoux, ralp...</td>\n",
       "      <td>[sammendes, johnlogan, barbarabroccoli, robert...</td>\n",
       "      <td>action adventure crime cryptic message bond ’ ...</td>\n",
       "    </tr>\n",
       "    <tr>\n",
       "      <th>The Dark Knight Rises</th>\n",
       "      <td>[action, crime, drama, thriller]</td>\n",
       "      <td>[following, death, district, attorney, harvey,...</td>\n",
       "      <td>[legendarypictures, warnerbros., dcentertainme...</td>\n",
       "      <td>[unitedstatesofamerica]</td>\n",
       "      <td>[christianbale, michaelcaine, garyoldman, anne...</td>\n",
       "      <td>[charlesroven, christophernolan, jonathannolan...</td>\n",
       "      <td>action crime drama thriller following death di...</td>\n",
       "    </tr>\n",
       "    <tr>\n",
       "      <th>John Carter</th>\n",
       "      <td>[action, adventure, science fiction]</td>\n",
       "      <td>[john, carter, war, weary]</td>\n",
       "      <td>[waltdisneypictures]</td>\n",
       "      <td>[unitedstatesofamerica]</td>\n",
       "      <td>[taylorkitsch, lynncollins, samanthamorton, wi...</td>\n",
       "      <td>[andrewstanton, colinwilson, jimmorris, lindse...</td>\n",
       "      <td>action adventure science fiction john carter w...</td>\n",
       "    </tr>\n",
       "    <tr>\n",
       "      <th>...</th>\n",
       "      <td>...</td>\n",
       "      <td>...</td>\n",
       "      <td>...</td>\n",
       "      <td>...</td>\n",
       "      <td>...</td>\n",
       "      <td>...</td>\n",
       "      <td>...</td>\n",
       "    </tr>\n",
       "    <tr>\n",
       "      <th>Bang</th>\n",
       "      <td>[drama]</td>\n",
       "      <td>[young, woman, l, bad, day, evicted]</td>\n",
       "      <td>[asylumfilms, fmentertainment, eagleeyefilmsinc.]</td>\n",
       "      <td>[unitedstatesofamerica]</td>\n",
       "      <td>[darlingnarita, petergreene, michaelnewland, e...</td>\n",
       "      <td>[ashbaron-cohen, danielm.berger, laddvance]</td>\n",
       "      <td>drama young woman l bad day evicted asylumfilm...</td>\n",
       "    </tr>\n",
       "    <tr>\n",
       "      <th>Primer</th>\n",
       "      <td>[science fiction, drama, thriller]</td>\n",
       "      <td>[friends, fledgling, entrepreneurs, invent, de...</td>\n",
       "      <td>[thinkfilm]</td>\n",
       "      <td>[unitedstatesofamerica]</td>\n",
       "      <td>[shanecarruth, davidsullivan, caseygooden, ana...</td>\n",
       "      <td>[shanecarruth]</td>\n",
       "      <td>science fiction drama thriller friends fledgli...</td>\n",
       "    </tr>\n",
       "    <tr>\n",
       "      <th>El Mariachi</th>\n",
       "      <td>[action, crime, thriller]</td>\n",
       "      <td>[el, mariachi, wants, play, guitar, carry, fam...</td>\n",
       "      <td>[columbiapictures]</td>\n",
       "      <td>[mexico, unitedstatesofamerica]</td>\n",
       "      <td>[carlosgallardo, jaimedehoyos, petermarquardt,...</td>\n",
       "      <td>[robertrodriguez, carlosgallardo]</td>\n",
       "      <td>action crime thriller el mariachi wants play g...</td>\n",
       "    </tr>\n",
       "    <tr>\n",
       "      <th>Signed, Sealed, Delivered</th>\n",
       "      <td>[comedy, drama, romance, tv movie]</td>\n",
       "      <td>[signed]</td>\n",
       "      <td>[frontstreetpictures, museentertainmententerpr...</td>\n",
       "      <td>[unitedstatesofamerica]</td>\n",
       "      <td>[ericmabius, kristinbooth, crystallowe, geoffg...</td>\n",
       "      <td>[harveykahn, marthawilliamson, scottsmith]</td>\n",
       "      <td>comedy drama romance tv movie signed frontstre...</td>\n",
       "    </tr>\n",
       "    <tr>\n",
       "      <th>My Date with Drew</th>\n",
       "      <td>[documentary]</td>\n",
       "      <td>[ever, since, second, grade, first, saw, e, ex...</td>\n",
       "      <td>[rustybearentertainment, luckycrowfilms]</td>\n",
       "      <td>[unitedstatesofamerica]</td>\n",
       "      <td>[drewbarrymore, brianherzlinger, coreyfeldman,...</td>\n",
       "      <td>[brianherzlinger, jongunn, brettwinn]</td>\n",
       "      <td>documentary ever since second grade first saw ...</td>\n",
       "    </tr>\n",
       "  </tbody>\n",
       "</table>\n",
       "<p>4421 rows × 7 columns</p>\n",
       "</div>"
      ],
      "text/plain": [
       "                                                                                 genres  \\\n",
       "original_title                                                                            \n",
       "Avatar                                    [action, adventure, fantasy, science fiction]   \n",
       "Pirates of the Caribbean: At World's End                   [adventure, fantasy, action]   \n",
       "Spectre                                                      [action, adventure, crime]   \n",
       "The Dark Knight Rises                                  [action, crime, drama, thriller]   \n",
       "John Carter                                        [action, adventure, science fiction]   \n",
       "...                                                                                 ...   \n",
       "Bang                                                                            [drama]   \n",
       "Primer                                               [science fiction, drama, thriller]   \n",
       "El Mariachi                                                   [action, crime, thriller]   \n",
       "Signed, Sealed, Delivered                            [comedy, drama, romance, tv movie]   \n",
       "My Date with Drew                                                         [documentary]   \n",
       "\n",
       "                                                                                   overview  \\\n",
       "original_title                                                                                \n",
       "Avatar                                                                      [22nd, century]   \n",
       "Pirates of the Caribbean: At World's End                                [captain, barbossa]   \n",
       "Spectre                                   [cryptic, message, bond, ’, past, sends, trail...   \n",
       "The Dark Knight Rises                     [following, death, district, attorney, harvey,...   \n",
       "John Carter                                                      [john, carter, war, weary]   \n",
       "...                                                                                     ...   \n",
       "Bang                                                   [young, woman, l, bad, day, evicted]   \n",
       "Primer                                    [friends, fledgling, entrepreneurs, invent, de...   \n",
       "El Mariachi                               [el, mariachi, wants, play, guitar, carry, fam...   \n",
       "Signed, Sealed, Delivered                                                          [signed]   \n",
       "My Date with Drew                         [ever, since, second, grade, first, saw, e, ex...   \n",
       "\n",
       "                                                                       production_companies  \\\n",
       "original_title                                                                                \n",
       "Avatar                                    [ingeniousfilmpartners, twentiethcenturyfoxfil...   \n",
       "Pirates of the Caribbean: At World's End  [waltdisneypictures, jerrybruckheimerfilms, se...   \n",
       "Spectre                                                     [columbiapictures, danjaq, b24]   \n",
       "The Dark Knight Rises                     [legendarypictures, warnerbros., dcentertainme...   \n",
       "John Carter                                                            [waltdisneypictures]   \n",
       "...                                                                                     ...   \n",
       "Bang                                      [asylumfilms, fmentertainment, eagleeyefilmsinc.]   \n",
       "Primer                                                                          [thinkfilm]   \n",
       "El Mariachi                                                              [columbiapictures]   \n",
       "Signed, Sealed, Delivered                 [frontstreetpictures, museentertainmententerpr...   \n",
       "My Date with Drew                                  [rustybearentertainment, luckycrowfilms]   \n",
       "\n",
       "                                                            production_countries  \\\n",
       "original_title                                                                     \n",
       "Avatar                                    [unitedstatesofamerica, unitedkingdom]   \n",
       "Pirates of the Caribbean: At World's End                 [unitedstatesofamerica]   \n",
       "Spectre                                   [unitedkingdom, unitedstatesofamerica]   \n",
       "The Dark Knight Rises                                    [unitedstatesofamerica]   \n",
       "John Carter                                              [unitedstatesofamerica]   \n",
       "...                                                                          ...   \n",
       "Bang                                                     [unitedstatesofamerica]   \n",
       "Primer                                                   [unitedstatesofamerica]   \n",
       "El Mariachi                                      [mexico, unitedstatesofamerica]   \n",
       "Signed, Sealed, Delivered                                [unitedstatesofamerica]   \n",
       "My Date with Drew                                        [unitedstatesofamerica]   \n",
       "\n",
       "                                                                                 cast_names  \\\n",
       "original_title                                                                                \n",
       "Avatar                                    [samworthington, zoesaldana, sigourneyweaver, ...   \n",
       "Pirates of the Caribbean: At World's End  [johnnydepp, orlandobloom, keiraknightley, ste...   \n",
       "Spectre                                   [danielcraig, christophwaltz, léaseydoux, ralp...   \n",
       "The Dark Knight Rises                     [christianbale, michaelcaine, garyoldman, anne...   \n",
       "John Carter                               [taylorkitsch, lynncollins, samanthamorton, wi...   \n",
       "...                                                                                     ...   \n",
       "Bang                                      [darlingnarita, petergreene, michaelnewland, e...   \n",
       "Primer                                    [shanecarruth, davidsullivan, caseygooden, ana...   \n",
       "El Mariachi                               [carlosgallardo, jaimedehoyos, petermarquardt,...   \n",
       "Signed, Sealed, Delivered                 [ericmabius, kristinbooth, crystallowe, geoffg...   \n",
       "My Date with Drew                         [drewbarrymore, brianherzlinger, coreyfeldman,...   \n",
       "\n",
       "                                                                                 crew_names  \\\n",
       "original_title                                                                                \n",
       "Avatar                                                            [jamescameron, jonlandau]   \n",
       "Pirates of the Caribbean: At World's End  [goreverbinski, jerrybruckheimer, tedelliott, ...   \n",
       "Spectre                                   [sammendes, johnlogan, barbarabroccoli, robert...   \n",
       "The Dark Knight Rises                     [charlesroven, christophernolan, jonathannolan...   \n",
       "John Carter                               [andrewstanton, colinwilson, jimmorris, lindse...   \n",
       "...                                                                                     ...   \n",
       "Bang                                            [ashbaron-cohen, danielm.berger, laddvance]   \n",
       "Primer                                                                       [shanecarruth]   \n",
       "El Mariachi                                               [robertrodriguez, carlosgallardo]   \n",
       "Signed, Sealed, Delivered                        [harveykahn, marthawilliamson, scottsmith]   \n",
       "My Date with Drew                                     [brianherzlinger, jongunn, brettwinn]   \n",
       "\n",
       "                                                                              combined_data  \n",
       "original_title                                                                               \n",
       "Avatar                                    action adventure fantasy science fiction 22nd ...  \n",
       "Pirates of the Caribbean: At World's End  adventure fantasy action captain barbossa walt...  \n",
       "Spectre                                   action adventure crime cryptic message bond ’ ...  \n",
       "The Dark Knight Rises                     action crime drama thriller following death di...  \n",
       "John Carter                               action adventure science fiction john carter w...  \n",
       "...                                                                                     ...  \n",
       "Bang                                      drama young woman l bad day evicted asylumfilm...  \n",
       "Primer                                    science fiction drama thriller friends fledgli...  \n",
       "El Mariachi                               action crime thriller el mariachi wants play g...  \n",
       "Signed, Sealed, Delivered                 comedy drama romance tv movie signed frontstre...  \n",
       "My Date with Drew                         documentary ever since second grade first saw ...  \n",
       "\n",
       "[4421 rows x 7 columns]"
      ]
     },
     "execution_count": 31,
     "metadata": {},
     "output_type": "execute_result"
    }
   ],
   "source": [
    "data1"
   ]
  },
  {
   "cell_type": "code",
   "execution_count": 32,
   "id": "6f40f5b6-e255-4da4-9b18-a9e681818dd1",
   "metadata": {},
   "outputs": [],
   "source": [
    "data1_main = data1[\"combined_data\"]"
   ]
  },
  {
   "cell_type": "code",
   "execution_count": 33,
   "id": "c53837c3-dd42-4756-b8e7-935aadc9059d",
   "metadata": {},
   "outputs": [],
   "source": [
    "data1_main = pd.DataFrame(data1_main)"
   ]
  },
  {
   "cell_type": "code",
   "execution_count": 34,
   "id": "fb880981-ee08-4eec-939e-6dd6de7ec51d",
   "metadata": {},
   "outputs": [
    {
     "data": {
      "text/html": [
       "<div>\n",
       "<style scoped>\n",
       "    .dataframe tbody tr th:only-of-type {\n",
       "        vertical-align: middle;\n",
       "    }\n",
       "\n",
       "    .dataframe tbody tr th {\n",
       "        vertical-align: top;\n",
       "    }\n",
       "\n",
       "    .dataframe thead th {\n",
       "        text-align: right;\n",
       "    }\n",
       "</style>\n",
       "<table border=\"1\" class=\"dataframe\">\n",
       "  <thead>\n",
       "    <tr style=\"text-align: right;\">\n",
       "      <th></th>\n",
       "      <th>combined_data</th>\n",
       "    </tr>\n",
       "    <tr>\n",
       "      <th>original_title</th>\n",
       "      <th></th>\n",
       "    </tr>\n",
       "  </thead>\n",
       "  <tbody>\n",
       "    <tr>\n",
       "      <th>Avatar</th>\n",
       "      <td>action adventure fantasy science fiction 22nd ...</td>\n",
       "    </tr>\n",
       "    <tr>\n",
       "      <th>Pirates of the Caribbean: At World's End</th>\n",
       "      <td>adventure fantasy action captain barbossa walt...</td>\n",
       "    </tr>\n",
       "    <tr>\n",
       "      <th>Spectre</th>\n",
       "      <td>action adventure crime cryptic message bond ’ ...</td>\n",
       "    </tr>\n",
       "    <tr>\n",
       "      <th>The Dark Knight Rises</th>\n",
       "      <td>action crime drama thriller following death di...</td>\n",
       "    </tr>\n",
       "    <tr>\n",
       "      <th>John Carter</th>\n",
       "      <td>action adventure science fiction john carter w...</td>\n",
       "    </tr>\n",
       "  </tbody>\n",
       "</table>\n",
       "</div>"
      ],
      "text/plain": [
       "                                                                              combined_data\n",
       "original_title                                                                             \n",
       "Avatar                                    action adventure fantasy science fiction 22nd ...\n",
       "Pirates of the Caribbean: At World's End  adventure fantasy action captain barbossa walt...\n",
       "Spectre                                   action adventure crime cryptic message bond ’ ...\n",
       "The Dark Knight Rises                     action crime drama thriller following death di...\n",
       "John Carter                               action adventure science fiction john carter w..."
      ]
     },
     "execution_count": 34,
     "metadata": {},
     "output_type": "execute_result"
    }
   ],
   "source": [
    "data1_main.head()"
   ]
  },
  {
   "cell_type": "code",
   "execution_count": 35,
   "id": "b0bbab99-c4c4-46c3-b755-dbef595368a9",
   "metadata": {},
   "outputs": [],
   "source": [
    "# data1_main = data1_main[:5000]"
   ]
  },
  {
   "cell_type": "code",
   "execution_count": null,
   "id": "6b6a9f31-4004-4691-bd17-fef7f8b74b5b",
   "metadata": {},
   "outputs": [],
   "source": []
  },
  {
   "cell_type": "code",
   "execution_count": 36,
   "id": "fd0a067a-5c6f-4fcc-b29b-20bc7da3a467",
   "metadata": {},
   "outputs": [],
   "source": [
    "count = CountVectorizer()"
   ]
  },
  {
   "cell_type": "code",
   "execution_count": 37,
   "id": "d4e11006-2d22-400f-8d4c-8450eeb770cb",
   "metadata": {},
   "outputs": [],
   "source": [
    "count_matrix = count.fit_transform(data1_main[\"combined_data\"])"
   ]
  },
  {
   "cell_type": "code",
   "execution_count": 38,
   "id": "5303327c-6cf9-4486-888d-695577157836",
   "metadata": {},
   "outputs": [
    {
     "data": {
      "text/plain": [
       "<4421x77818 sparse matrix of type '<class 'numpy.int64'>'\n",
       "\twith 201635 stored elements in Compressed Sparse Row format>"
      ]
     },
     "execution_count": 38,
     "metadata": {},
     "output_type": "execute_result"
    }
   ],
   "source": [
    "count_matrix"
   ]
  },
  {
   "cell_type": "code",
   "execution_count": 39,
   "id": "c94cba65-82a9-4f8f-8252-a7fc5c14a548",
   "metadata": {},
   "outputs": [],
   "source": [
    "cosine_sim = cosine_similarity(count_matrix,count_matrix)"
   ]
  },
  {
   "cell_type": "code",
   "execution_count": 40,
   "id": "12b340ba-04da-41da-9d25-4d79faa7704b",
   "metadata": {},
   "outputs": [
    {
     "data": {
      "text/plain": [
       "array([[1.        , 0.05195243, 0.03641785, ..., 0.03846154, 0.02249606,\n",
       "        0.01923077],\n",
       "       [0.05195243, 1.        , 0.0491919 , ..., 0.05195243, 0.03038686,\n",
       "        0.02597622],\n",
       "       [0.03641785, 0.0491919 , 1.        , ..., 0.0728357 , 0.02130072,\n",
       "        0.01820893],\n",
       "       ...,\n",
       "       [0.03846154, 0.05195243, 0.0728357 , ..., 1.        , 0.04499213,\n",
       "        0.03846154],\n",
       "       [0.02249606, 0.03038686, 0.02130072, ..., 0.04499213, 1.        ,\n",
       "        0.04499213],\n",
       "       [0.01923077, 0.02597622, 0.01820893, ..., 0.03846154, 0.04499213,\n",
       "        1.        ]])"
      ]
     },
     "execution_count": 40,
     "metadata": {},
     "output_type": "execute_result"
    }
   ],
   "source": [
    "cosine_sim"
   ]
  },
  {
   "cell_type": "code",
   "execution_count": 181,
   "id": "227c24d7-cb9a-461b-aea8-2f1a689b5b8f",
   "metadata": {},
   "outputs": [],
   "source": [
    "with open('cosine_sim.pkl', 'wb') as file:\n",
    "    pickle.dump(cosine_sim, file)"
   ]
  },
  {
   "cell_type": "code",
   "execution_count": 131,
   "id": "4e3d0eb0-2f8d-4c8c-b93f-eb3685cfd222",
   "metadata": {},
   "outputs": [],
   "source": [
    "indices = pd.Series(data1_main.index)"
   ]
  },
  {
   "cell_type": "code",
   "execution_count": 42,
   "id": "e63869b9-4583-4f47-b952-891ca44c4cba",
   "metadata": {},
   "outputs": [],
   "source": [
    "ndf = df[[\"id\", \"original_title\"]]"
   ]
  },
  {
   "cell_type": "code",
   "execution_count": 197,
   "id": "d64f3678-bc1e-46ce-82ac-e4d9f69598da",
   "metadata": {},
   "outputs": [],
   "source": [
    "ndf.to_csv(\"datasets/content_based_data.csv\", index = False)"
   ]
  },
  {
   "cell_type": "code",
   "execution_count": 43,
   "id": "199ba27e-3c1f-489b-aa10-c7a02db89b94",
   "metadata": {
    "scrolled": true
   },
   "outputs": [
    {
     "data": {
      "text/plain": [
       "0                                      Avatar\n",
       "1    Pirates of the Caribbean: At World's End\n",
       "2                                     Spectre\n",
       "3                       The Dark Knight Rises\n",
       "4                                 John Carter\n",
       "5                                Spider-Man 3\n",
       "6                                     Tangled\n",
       "7                     Avengers: Age of Ultron\n",
       "8      Harry Potter and the Half-Blood Prince\n",
       "9          Batman v Superman: Dawn of Justice\n",
       "Name: original_title, dtype: object"
      ]
     },
     "execution_count": 43,
     "metadata": {},
     "output_type": "execute_result"
    }
   ],
   "source": [
    "indices[:10]"
   ]
  },
  {
   "cell_type": "code",
   "execution_count": 44,
   "id": "d2ca654a-26f1-484e-9d5c-859113d710bb",
   "metadata": {},
   "outputs": [],
   "source": [
    "def recommendation(title, cosine_sim = cosine_sim):\n",
    "    recommended_movies = []\n",
    "\n",
    "    idx = indices[indices == title].index[0]\n",
    "    scores = pd.Series(cosine_sim[idx]).sort_values(ascending = False)\n",
    "    top_10_idx = list(scores.iloc[1:11].index)\n",
    "    for i in top_10_idx:\n",
    "        recommended_movies.append(data1_main.index[i])\n",
    "    return recommended_movies, "
   ]
  },
  {
   "cell_type": "code",
   "execution_count": 175,
   "id": "bb2ecce7-0ceb-4692-8502-43482ab7365c",
   "metadata": {},
   "outputs": [
    {
     "data": {
      "text/plain": [
       "(['The Hunted',\n",
       "  'Kiss of Death',\n",
       "  'We Own the Night',\n",
       "  'Contraband',\n",
       "  'Shooter',\n",
       "  'Ladder 49',\n",
       "  'Broken City',\n",
       "  'Nueve Reinas',\n",
       "  'Black Water Transit',\n",
       "  'Payback'],)"
      ]
     },
     "execution_count": 175,
     "metadata": {},
     "output_type": "execute_result"
    }
   ],
   "source": [
    "recommendation(\"The Yards\")"
   ]
  },
  {
   "cell_type": "code",
   "execution_count": 189,
   "id": "65a955b5-f626-4670-a426-dd7e1372b4f7",
   "metadata": {},
   "outputs": [],
   "source": [
    "def recommendation2(title, df, cosine_sim = cosine_sim):\n",
    "    recommended_movies = []\n",
    "    ids = []\n",
    "    \n",
    "    d1 = df.set_index('original_title')\n",
    "    indices = pd.Series(d1.index)\n",
    "    idx = indices[indices == title].index[0]\n",
    "    scores = pd.Series(cosine_sim[idx]).sort_values(ascending = False)\n",
    "    top_10_idx = list(scores.iloc[1:11].index)\n",
    "\n",
    "    for i in top_10_idx:\n",
    "        recommended_movies.append(df[\"original_title\"].iloc[i])\n",
    "        ids.append(df[\"id\"].iloc[i])\n",
    "\n",
    "    return recommended_movies, ids"
   ]
  },
  {
   "cell_type": "code",
   "execution_count": 191,
   "id": "35e0eb11-425c-453a-8558-dfd550e4ea42",
   "metadata": {},
   "outputs": [
    {
     "data": {
      "text/plain": [
       "(['The Hunted',\n",
       "  'Kiss of Death',\n",
       "  'We Own the Night',\n",
       "  'Contraband',\n",
       "  'Shooter',\n",
       "  'Ladder 49',\n",
       "  'Broken City',\n",
       "  'Nueve Reinas',\n",
       "  'Black Water Transit',\n",
       "  'Payback'],\n",
       " [10632, 6071, 2001, 77866, 7485, 11128, 98357, 18079, 310706, 2112])"
      ]
     },
     "execution_count": 191,
     "metadata": {},
     "output_type": "execute_result"
    }
   ],
   "source": [
    "recommendation2(\"The Yards\",ndf, cosine_sim)"
   ]
  }
 ],
 "metadata": {
  "kernelspec": {
   "display_name": "Python 3 (ipykernel)",
   "language": "python",
   "name": "python3"
  },
  "language_info": {
   "codemirror_mode": {
    "name": "ipython",
    "version": 3
   },
   "file_extension": ".py",
   "mimetype": "text/x-python",
   "name": "python",
   "nbconvert_exporter": "python",
   "pygments_lexer": "ipython3",
   "version": "3.11.7"
  }
 },
 "nbformat": 4,
 "nbformat_minor": 5
}
