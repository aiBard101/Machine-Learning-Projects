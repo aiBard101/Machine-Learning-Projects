{
 "cells": [
  {
   "cell_type": "code",
   "execution_count": 1,
   "id": "c69dcf8f-30b0-473f-94c9-8ce556b992cb",
   "metadata": {},
   "outputs": [],
   "source": [
    "import numpy as np\n",
    "import pandas as pd\n",
    "import ast\n",
    "import nltk\n",
    "from rake_nltk import Rake\n",
    "from sklearn.feature_extraction.text import CountVectorizer\n",
    "from sklearn.metrics.pairwise import cosine_similarity\n",
    "import pickle"
   ]
  },
  {
   "cell_type": "code",
   "execution_count": 2,
   "id": "fb8dfefa-05e3-4721-a899-b2b14e940089",
   "metadata": {},
   "outputs": [],
   "source": [
    "df = pd.read_csv(\"datasets/tmdb_5000_movies.csv\")"
   ]
  },
  {
   "cell_type": "code",
   "execution_count": 3,
   "id": "ba0ff5dc-9eda-4174-8528-2f401cabb3c9",
   "metadata": {},
   "outputs": [
    {
     "data": {
      "text/html": [
       "<div>\n",
       "<style scoped>\n",
       "    .dataframe tbody tr th:only-of-type {\n",
       "        vertical-align: middle;\n",
       "    }\n",
       "\n",
       "    .dataframe tbody tr th {\n",
       "        vertical-align: top;\n",
       "    }\n",
       "\n",
       "    .dataframe thead th {\n",
       "        text-align: right;\n",
       "    }\n",
       "</style>\n",
       "<table border=\"1\" class=\"dataframe\">\n",
       "  <thead>\n",
       "    <tr style=\"text-align: right;\">\n",
       "      <th></th>\n",
       "      <th>budget</th>\n",
       "      <th>genres</th>\n",
       "      <th>homepage</th>\n",
       "      <th>id</th>\n",
       "      <th>keywords</th>\n",
       "      <th>original_language</th>\n",
       "      <th>original_title</th>\n",
       "      <th>overview</th>\n",
       "      <th>popularity</th>\n",
       "      <th>production_companies</th>\n",
       "      <th>production_countries</th>\n",
       "      <th>release_date</th>\n",
       "      <th>revenue</th>\n",
       "      <th>runtime</th>\n",
       "      <th>spoken_languages</th>\n",
       "      <th>status</th>\n",
       "      <th>tagline</th>\n",
       "      <th>title</th>\n",
       "      <th>vote_average</th>\n",
       "      <th>vote_count</th>\n",
       "    </tr>\n",
       "  </thead>\n",
       "  <tbody>\n",
       "    <tr>\n",
       "      <th>0</th>\n",
       "      <td>237000000</td>\n",
       "      <td>[{\"id\": 28, \"name\": \"Action\"}, {\"id\": 12, \"nam...</td>\n",
       "      <td>http://www.avatarmovie.com/</td>\n",
       "      <td>19995</td>\n",
       "      <td>[{\"id\": 1463, \"name\": \"culture clash\"}, {\"id\":...</td>\n",
       "      <td>en</td>\n",
       "      <td>Avatar</td>\n",
       "      <td>In the 22nd century, a paraplegic Marine is di...</td>\n",
       "      <td>150.437577</td>\n",
       "      <td>[{\"name\": \"Ingenious Film Partners\", \"id\": 289...</td>\n",
       "      <td>[{\"iso_3166_1\": \"US\", \"name\": \"United States o...</td>\n",
       "      <td>2009-12-10</td>\n",
       "      <td>2787965087</td>\n",
       "      <td>162.0</td>\n",
       "      <td>[{\"iso_639_1\": \"en\", \"name\": \"English\"}, {\"iso...</td>\n",
       "      <td>Released</td>\n",
       "      <td>Enter the World of Pandora.</td>\n",
       "      <td>Avatar</td>\n",
       "      <td>7.2</td>\n",
       "      <td>11800</td>\n",
       "    </tr>\n",
       "    <tr>\n",
       "      <th>1</th>\n",
       "      <td>300000000</td>\n",
       "      <td>[{\"id\": 12, \"name\": \"Adventure\"}, {\"id\": 14, \"...</td>\n",
       "      <td>http://disney.go.com/disneypictures/pirates/</td>\n",
       "      <td>285</td>\n",
       "      <td>[{\"id\": 270, \"name\": \"ocean\"}, {\"id\": 726, \"na...</td>\n",
       "      <td>en</td>\n",
       "      <td>Pirates of the Caribbean: At World's End</td>\n",
       "      <td>Captain Barbossa, long believed to be dead, ha...</td>\n",
       "      <td>139.082615</td>\n",
       "      <td>[{\"name\": \"Walt Disney Pictures\", \"id\": 2}, {\"...</td>\n",
       "      <td>[{\"iso_3166_1\": \"US\", \"name\": \"United States o...</td>\n",
       "      <td>2007-05-19</td>\n",
       "      <td>961000000</td>\n",
       "      <td>169.0</td>\n",
       "      <td>[{\"iso_639_1\": \"en\", \"name\": \"English\"}]</td>\n",
       "      <td>Released</td>\n",
       "      <td>At the end of the world, the adventure begins.</td>\n",
       "      <td>Pirates of the Caribbean: At World's End</td>\n",
       "      <td>6.9</td>\n",
       "      <td>4500</td>\n",
       "    </tr>\n",
       "    <tr>\n",
       "      <th>2</th>\n",
       "      <td>245000000</td>\n",
       "      <td>[{\"id\": 28, \"name\": \"Action\"}, {\"id\": 12, \"nam...</td>\n",
       "      <td>http://www.sonypictures.com/movies/spectre/</td>\n",
       "      <td>206647</td>\n",
       "      <td>[{\"id\": 470, \"name\": \"spy\"}, {\"id\": 818, \"name...</td>\n",
       "      <td>en</td>\n",
       "      <td>Spectre</td>\n",
       "      <td>A cryptic message from Bond’s past sends him o...</td>\n",
       "      <td>107.376788</td>\n",
       "      <td>[{\"name\": \"Columbia Pictures\", \"id\": 5}, {\"nam...</td>\n",
       "      <td>[{\"iso_3166_1\": \"GB\", \"name\": \"United Kingdom\"...</td>\n",
       "      <td>2015-10-26</td>\n",
       "      <td>880674609</td>\n",
       "      <td>148.0</td>\n",
       "      <td>[{\"iso_639_1\": \"fr\", \"name\": \"Fran\\u00e7ais\"},...</td>\n",
       "      <td>Released</td>\n",
       "      <td>A Plan No One Escapes</td>\n",
       "      <td>Spectre</td>\n",
       "      <td>6.3</td>\n",
       "      <td>4466</td>\n",
       "    </tr>\n",
       "    <tr>\n",
       "      <th>3</th>\n",
       "      <td>250000000</td>\n",
       "      <td>[{\"id\": 28, \"name\": \"Action\"}, {\"id\": 80, \"nam...</td>\n",
       "      <td>http://www.thedarkknightrises.com/</td>\n",
       "      <td>49026</td>\n",
       "      <td>[{\"id\": 849, \"name\": \"dc comics\"}, {\"id\": 853,...</td>\n",
       "      <td>en</td>\n",
       "      <td>The Dark Knight Rises</td>\n",
       "      <td>Following the death of District Attorney Harve...</td>\n",
       "      <td>112.312950</td>\n",
       "      <td>[{\"name\": \"Legendary Pictures\", \"id\": 923}, {\"...</td>\n",
       "      <td>[{\"iso_3166_1\": \"US\", \"name\": \"United States o...</td>\n",
       "      <td>2012-07-16</td>\n",
       "      <td>1084939099</td>\n",
       "      <td>165.0</td>\n",
       "      <td>[{\"iso_639_1\": \"en\", \"name\": \"English\"}]</td>\n",
       "      <td>Released</td>\n",
       "      <td>The Legend Ends</td>\n",
       "      <td>The Dark Knight Rises</td>\n",
       "      <td>7.6</td>\n",
       "      <td>9106</td>\n",
       "    </tr>\n",
       "    <tr>\n",
       "      <th>4</th>\n",
       "      <td>260000000</td>\n",
       "      <td>[{\"id\": 28, \"name\": \"Action\"}, {\"id\": 12, \"nam...</td>\n",
       "      <td>http://movies.disney.com/john-carter</td>\n",
       "      <td>49529</td>\n",
       "      <td>[{\"id\": 818, \"name\": \"based on novel\"}, {\"id\":...</td>\n",
       "      <td>en</td>\n",
       "      <td>John Carter</td>\n",
       "      <td>John Carter is a war-weary, former military ca...</td>\n",
       "      <td>43.926995</td>\n",
       "      <td>[{\"name\": \"Walt Disney Pictures\", \"id\": 2}]</td>\n",
       "      <td>[{\"iso_3166_1\": \"US\", \"name\": \"United States o...</td>\n",
       "      <td>2012-03-07</td>\n",
       "      <td>284139100</td>\n",
       "      <td>132.0</td>\n",
       "      <td>[{\"iso_639_1\": \"en\", \"name\": \"English\"}]</td>\n",
       "      <td>Released</td>\n",
       "      <td>Lost in our world, found in another.</td>\n",
       "      <td>John Carter</td>\n",
       "      <td>6.1</td>\n",
       "      <td>2124</td>\n",
       "    </tr>\n",
       "  </tbody>\n",
       "</table>\n",
       "</div>"
      ],
      "text/plain": [
       "      budget                                             genres  \\\n",
       "0  237000000  [{\"id\": 28, \"name\": \"Action\"}, {\"id\": 12, \"nam...   \n",
       "1  300000000  [{\"id\": 12, \"name\": \"Adventure\"}, {\"id\": 14, \"...   \n",
       "2  245000000  [{\"id\": 28, \"name\": \"Action\"}, {\"id\": 12, \"nam...   \n",
       "3  250000000  [{\"id\": 28, \"name\": \"Action\"}, {\"id\": 80, \"nam...   \n",
       "4  260000000  [{\"id\": 28, \"name\": \"Action\"}, {\"id\": 12, \"nam...   \n",
       "\n",
       "                                       homepage      id  \\\n",
       "0                   http://www.avatarmovie.com/   19995   \n",
       "1  http://disney.go.com/disneypictures/pirates/     285   \n",
       "2   http://www.sonypictures.com/movies/spectre/  206647   \n",
       "3            http://www.thedarkknightrises.com/   49026   \n",
       "4          http://movies.disney.com/john-carter   49529   \n",
       "\n",
       "                                            keywords original_language  \\\n",
       "0  [{\"id\": 1463, \"name\": \"culture clash\"}, {\"id\":...                en   \n",
       "1  [{\"id\": 270, \"name\": \"ocean\"}, {\"id\": 726, \"na...                en   \n",
       "2  [{\"id\": 470, \"name\": \"spy\"}, {\"id\": 818, \"name...                en   \n",
       "3  [{\"id\": 849, \"name\": \"dc comics\"}, {\"id\": 853,...                en   \n",
       "4  [{\"id\": 818, \"name\": \"based on novel\"}, {\"id\":...                en   \n",
       "\n",
       "                             original_title  \\\n",
       "0                                    Avatar   \n",
       "1  Pirates of the Caribbean: At World's End   \n",
       "2                                   Spectre   \n",
       "3                     The Dark Knight Rises   \n",
       "4                               John Carter   \n",
       "\n",
       "                                            overview  popularity  \\\n",
       "0  In the 22nd century, a paraplegic Marine is di...  150.437577   \n",
       "1  Captain Barbossa, long believed to be dead, ha...  139.082615   \n",
       "2  A cryptic message from Bond’s past sends him o...  107.376788   \n",
       "3  Following the death of District Attorney Harve...  112.312950   \n",
       "4  John Carter is a war-weary, former military ca...   43.926995   \n",
       "\n",
       "                                production_companies  \\\n",
       "0  [{\"name\": \"Ingenious Film Partners\", \"id\": 289...   \n",
       "1  [{\"name\": \"Walt Disney Pictures\", \"id\": 2}, {\"...   \n",
       "2  [{\"name\": \"Columbia Pictures\", \"id\": 5}, {\"nam...   \n",
       "3  [{\"name\": \"Legendary Pictures\", \"id\": 923}, {\"...   \n",
       "4        [{\"name\": \"Walt Disney Pictures\", \"id\": 2}]   \n",
       "\n",
       "                                production_countries release_date     revenue  \\\n",
       "0  [{\"iso_3166_1\": \"US\", \"name\": \"United States o...   2009-12-10  2787965087   \n",
       "1  [{\"iso_3166_1\": \"US\", \"name\": \"United States o...   2007-05-19   961000000   \n",
       "2  [{\"iso_3166_1\": \"GB\", \"name\": \"United Kingdom\"...   2015-10-26   880674609   \n",
       "3  [{\"iso_3166_1\": \"US\", \"name\": \"United States o...   2012-07-16  1084939099   \n",
       "4  [{\"iso_3166_1\": \"US\", \"name\": \"United States o...   2012-03-07   284139100   \n",
       "\n",
       "   runtime                                   spoken_languages    status  \\\n",
       "0    162.0  [{\"iso_639_1\": \"en\", \"name\": \"English\"}, {\"iso...  Released   \n",
       "1    169.0           [{\"iso_639_1\": \"en\", \"name\": \"English\"}]  Released   \n",
       "2    148.0  [{\"iso_639_1\": \"fr\", \"name\": \"Fran\\u00e7ais\"},...  Released   \n",
       "3    165.0           [{\"iso_639_1\": \"en\", \"name\": \"English\"}]  Released   \n",
       "4    132.0           [{\"iso_639_1\": \"en\", \"name\": \"English\"}]  Released   \n",
       "\n",
       "                                          tagline  \\\n",
       "0                     Enter the World of Pandora.   \n",
       "1  At the end of the world, the adventure begins.   \n",
       "2                           A Plan No One Escapes   \n",
       "3                                 The Legend Ends   \n",
       "4            Lost in our world, found in another.   \n",
       "\n",
       "                                      title  vote_average  vote_count  \n",
       "0                                    Avatar           7.2       11800  \n",
       "1  Pirates of the Caribbean: At World's End           6.9        4500  \n",
       "2                                   Spectre           6.3        4466  \n",
       "3                     The Dark Knight Rises           7.6        9106  \n",
       "4                               John Carter           6.1        2124  "
      ]
     },
     "execution_count": 3,
     "metadata": {},
     "output_type": "execute_result"
    }
   ],
   "source": [
    "df.head()"
   ]
  },
  {
   "cell_type": "code",
   "execution_count": 4,
   "id": "1bb23496-68f8-4e5d-a570-b9b8ec263e9b",
   "metadata": {},
   "outputs": [
    {
     "data": {
      "text/plain": [
       "budget                     0\n",
       "genres                     0\n",
       "homepage                3091\n",
       "id                         0\n",
       "keywords                   0\n",
       "original_language          0\n",
       "original_title             0\n",
       "overview                   3\n",
       "popularity                 0\n",
       "production_companies       0\n",
       "production_countries       0\n",
       "release_date               1\n",
       "revenue                    0\n",
       "runtime                    2\n",
       "spoken_languages           0\n",
       "status                     0\n",
       "tagline                  844\n",
       "title                      0\n",
       "vote_average               0\n",
       "vote_count                 0\n",
       "dtype: int64"
      ]
     },
     "execution_count": 4,
     "metadata": {},
     "output_type": "execute_result"
    }
   ],
   "source": [
    "df.isna().sum()"
   ]
  },
  {
   "cell_type": "code",
   "execution_count": 5,
   "id": "c6579e12-5d38-46b8-9693-eed66bf25ec8",
   "metadata": {},
   "outputs": [],
   "source": [
    "df_main = df[[\"genres\",\"id\",\"original_title\",\"overview\",\"production_companies\", \"production_countries\", \"release_date\",\"vote_average\",\"vote_count\"]]"
   ]
  },
  {
   "cell_type": "code",
   "execution_count": 6,
   "id": "efd4e374-ba88-4c78-b225-d9a66e391cfe",
   "metadata": {},
   "outputs": [
    {
     "data": {
      "text/html": [
       "<div>\n",
       "<style scoped>\n",
       "    .dataframe tbody tr th:only-of-type {\n",
       "        vertical-align: middle;\n",
       "    }\n",
       "\n",
       "    .dataframe tbody tr th {\n",
       "        vertical-align: top;\n",
       "    }\n",
       "\n",
       "    .dataframe thead th {\n",
       "        text-align: right;\n",
       "    }\n",
       "</style>\n",
       "<table border=\"1\" class=\"dataframe\">\n",
       "  <thead>\n",
       "    <tr style=\"text-align: right;\">\n",
       "      <th></th>\n",
       "      <th>genres</th>\n",
       "      <th>id</th>\n",
       "      <th>original_title</th>\n",
       "      <th>overview</th>\n",
       "      <th>production_companies</th>\n",
       "      <th>production_countries</th>\n",
       "      <th>release_date</th>\n",
       "      <th>vote_average</th>\n",
       "      <th>vote_count</th>\n",
       "    </tr>\n",
       "  </thead>\n",
       "  <tbody>\n",
       "    <tr>\n",
       "      <th>0</th>\n",
       "      <td>[{\"id\": 28, \"name\": \"Action\"}, {\"id\": 12, \"nam...</td>\n",
       "      <td>19995</td>\n",
       "      <td>Avatar</td>\n",
       "      <td>In the 22nd century, a paraplegic Marine is di...</td>\n",
       "      <td>[{\"name\": \"Ingenious Film Partners\", \"id\": 289...</td>\n",
       "      <td>[{\"iso_3166_1\": \"US\", \"name\": \"United States o...</td>\n",
       "      <td>2009-12-10</td>\n",
       "      <td>7.2</td>\n",
       "      <td>11800</td>\n",
       "    </tr>\n",
       "    <tr>\n",
       "      <th>1</th>\n",
       "      <td>[{\"id\": 12, \"name\": \"Adventure\"}, {\"id\": 14, \"...</td>\n",
       "      <td>285</td>\n",
       "      <td>Pirates of the Caribbean: At World's End</td>\n",
       "      <td>Captain Barbossa, long believed to be dead, ha...</td>\n",
       "      <td>[{\"name\": \"Walt Disney Pictures\", \"id\": 2}, {\"...</td>\n",
       "      <td>[{\"iso_3166_1\": \"US\", \"name\": \"United States o...</td>\n",
       "      <td>2007-05-19</td>\n",
       "      <td>6.9</td>\n",
       "      <td>4500</td>\n",
       "    </tr>\n",
       "    <tr>\n",
       "      <th>2</th>\n",
       "      <td>[{\"id\": 28, \"name\": \"Action\"}, {\"id\": 12, \"nam...</td>\n",
       "      <td>206647</td>\n",
       "      <td>Spectre</td>\n",
       "      <td>A cryptic message from Bond’s past sends him o...</td>\n",
       "      <td>[{\"name\": \"Columbia Pictures\", \"id\": 5}, {\"nam...</td>\n",
       "      <td>[{\"iso_3166_1\": \"GB\", \"name\": \"United Kingdom\"...</td>\n",
       "      <td>2015-10-26</td>\n",
       "      <td>6.3</td>\n",
       "      <td>4466</td>\n",
       "    </tr>\n",
       "    <tr>\n",
       "      <th>3</th>\n",
       "      <td>[{\"id\": 28, \"name\": \"Action\"}, {\"id\": 80, \"nam...</td>\n",
       "      <td>49026</td>\n",
       "      <td>The Dark Knight Rises</td>\n",
       "      <td>Following the death of District Attorney Harve...</td>\n",
       "      <td>[{\"name\": \"Legendary Pictures\", \"id\": 923}, {\"...</td>\n",
       "      <td>[{\"iso_3166_1\": \"US\", \"name\": \"United States o...</td>\n",
       "      <td>2012-07-16</td>\n",
       "      <td>7.6</td>\n",
       "      <td>9106</td>\n",
       "    </tr>\n",
       "    <tr>\n",
       "      <th>4</th>\n",
       "      <td>[{\"id\": 28, \"name\": \"Action\"}, {\"id\": 12, \"nam...</td>\n",
       "      <td>49529</td>\n",
       "      <td>John Carter</td>\n",
       "      <td>John Carter is a war-weary, former military ca...</td>\n",
       "      <td>[{\"name\": \"Walt Disney Pictures\", \"id\": 2}]</td>\n",
       "      <td>[{\"iso_3166_1\": \"US\", \"name\": \"United States o...</td>\n",
       "      <td>2012-03-07</td>\n",
       "      <td>6.1</td>\n",
       "      <td>2124</td>\n",
       "    </tr>\n",
       "  </tbody>\n",
       "</table>\n",
       "</div>"
      ],
      "text/plain": [
       "                                              genres      id  \\\n",
       "0  [{\"id\": 28, \"name\": \"Action\"}, {\"id\": 12, \"nam...   19995   \n",
       "1  [{\"id\": 12, \"name\": \"Adventure\"}, {\"id\": 14, \"...     285   \n",
       "2  [{\"id\": 28, \"name\": \"Action\"}, {\"id\": 12, \"nam...  206647   \n",
       "3  [{\"id\": 28, \"name\": \"Action\"}, {\"id\": 80, \"nam...   49026   \n",
       "4  [{\"id\": 28, \"name\": \"Action\"}, {\"id\": 12, \"nam...   49529   \n",
       "\n",
       "                             original_title  \\\n",
       "0                                    Avatar   \n",
       "1  Pirates of the Caribbean: At World's End   \n",
       "2                                   Spectre   \n",
       "3                     The Dark Knight Rises   \n",
       "4                               John Carter   \n",
       "\n",
       "                                            overview  \\\n",
       "0  In the 22nd century, a paraplegic Marine is di...   \n",
       "1  Captain Barbossa, long believed to be dead, ha...   \n",
       "2  A cryptic message from Bond’s past sends him o...   \n",
       "3  Following the death of District Attorney Harve...   \n",
       "4  John Carter is a war-weary, former military ca...   \n",
       "\n",
       "                                production_companies  \\\n",
       "0  [{\"name\": \"Ingenious Film Partners\", \"id\": 289...   \n",
       "1  [{\"name\": \"Walt Disney Pictures\", \"id\": 2}, {\"...   \n",
       "2  [{\"name\": \"Columbia Pictures\", \"id\": 5}, {\"nam...   \n",
       "3  [{\"name\": \"Legendary Pictures\", \"id\": 923}, {\"...   \n",
       "4        [{\"name\": \"Walt Disney Pictures\", \"id\": 2}]   \n",
       "\n",
       "                                production_countries release_date  \\\n",
       "0  [{\"iso_3166_1\": \"US\", \"name\": \"United States o...   2009-12-10   \n",
       "1  [{\"iso_3166_1\": \"US\", \"name\": \"United States o...   2007-05-19   \n",
       "2  [{\"iso_3166_1\": \"GB\", \"name\": \"United Kingdom\"...   2015-10-26   \n",
       "3  [{\"iso_3166_1\": \"US\", \"name\": \"United States o...   2012-07-16   \n",
       "4  [{\"iso_3166_1\": \"US\", \"name\": \"United States o...   2012-03-07   \n",
       "\n",
       "   vote_average  vote_count  \n",
       "0           7.2       11800  \n",
       "1           6.9        4500  \n",
       "2           6.3        4466  \n",
       "3           7.6        9106  \n",
       "4           6.1        2124  "
      ]
     },
     "execution_count": 6,
     "metadata": {},
     "output_type": "execute_result"
    }
   ],
   "source": [
    "df_main.head()"
   ]
  },
  {
   "cell_type": "code",
   "execution_count": 7,
   "id": "63497eaa-a23c-4323-9171-836be5062f5f",
   "metadata": {},
   "outputs": [
    {
     "data": {
      "text/plain": [
       "genres                  0\n",
       "id                      0\n",
       "original_title          0\n",
       "overview                3\n",
       "production_companies    0\n",
       "production_countries    0\n",
       "release_date            1\n",
       "vote_average            0\n",
       "vote_count              0\n",
       "dtype: int64"
      ]
     },
     "execution_count": 7,
     "metadata": {},
     "output_type": "execute_result"
    }
   ],
   "source": [
    "df_main.isna().sum()"
   ]
  },
  {
   "cell_type": "code",
   "execution_count": 8,
   "id": "05a392fe-ca06-4897-8870-902f81f76b99",
   "metadata": {},
   "outputs": [],
   "source": [
    "df_main = df_main.dropna()"
   ]
  },
  {
   "cell_type": "code",
   "execution_count": 9,
   "id": "71d02761-be39-4948-9dea-d37e0fdf4d61",
   "metadata": {},
   "outputs": [],
   "source": [
    "def extract_names(x):\n",
    "    try:\n",
    "        if pd.isna(x) != True:\n",
    "            names = []\n",
    "            data_list = ast.literal_eval(x)\n",
    "            for i in data_list:\n",
    "                names.append(i[\"name\"])\n",
    "            return \",\".join(names)\n",
    "        else:\n",
    "            return np.nan\n",
    "    except:\n",
    "        return np.nan\n",
    "        "
   ]
  },
  {
   "cell_type": "code",
   "execution_count": 10,
   "id": "3d48b2eb-b981-4b2c-8430-0a104316fcf9",
   "metadata": {},
   "outputs": [],
   "source": [
    "df_main[\"genres\"] = df_main[\"genres\"].apply(extract_names) "
   ]
  },
  {
   "cell_type": "code",
   "execution_count": 11,
   "id": "0184ed75-f35f-4d64-8a6b-dbede2bc2cc1",
   "metadata": {},
   "outputs": [],
   "source": [
    "df_main[\"production_companies\"] = df_main[\"production_companies\"].apply(extract_names) "
   ]
  },
  {
   "cell_type": "code",
   "execution_count": 12,
   "id": "e130783d-51b8-416d-87cf-4deb0eac8c13",
   "metadata": {},
   "outputs": [],
   "source": [
    "df_main[\"production_countries\"] = df_main[\"production_countries\"].apply(extract_names) "
   ]
  },
  {
   "cell_type": "code",
   "execution_count": 13,
   "id": "0958b2c4-6b63-41c3-a2f8-d5800a998b8f",
   "metadata": {},
   "outputs": [
    {
     "data": {
      "text/html": [
       "<div>\n",
       "<style scoped>\n",
       "    .dataframe tbody tr th:only-of-type {\n",
       "        vertical-align: middle;\n",
       "    }\n",
       "\n",
       "    .dataframe tbody tr th {\n",
       "        vertical-align: top;\n",
       "    }\n",
       "\n",
       "    .dataframe thead th {\n",
       "        text-align: right;\n",
       "    }\n",
       "</style>\n",
       "<table border=\"1\" class=\"dataframe\">\n",
       "  <thead>\n",
       "    <tr style=\"text-align: right;\">\n",
       "      <th></th>\n",
       "      <th>genres</th>\n",
       "      <th>id</th>\n",
       "      <th>original_title</th>\n",
       "      <th>overview</th>\n",
       "      <th>production_companies</th>\n",
       "      <th>production_countries</th>\n",
       "      <th>release_date</th>\n",
       "      <th>vote_average</th>\n",
       "      <th>vote_count</th>\n",
       "    </tr>\n",
       "  </thead>\n",
       "  <tbody>\n",
       "    <tr>\n",
       "      <th>0</th>\n",
       "      <td>Action,Adventure,Fantasy,Science Fiction</td>\n",
       "      <td>19995</td>\n",
       "      <td>Avatar</td>\n",
       "      <td>In the 22nd century, a paraplegic Marine is di...</td>\n",
       "      <td>Ingenious Film Partners,Twentieth Century Fox ...</td>\n",
       "      <td>United States of America,United Kingdom</td>\n",
       "      <td>2009-12-10</td>\n",
       "      <td>7.2</td>\n",
       "      <td>11800</td>\n",
       "    </tr>\n",
       "    <tr>\n",
       "      <th>1</th>\n",
       "      <td>Adventure,Fantasy,Action</td>\n",
       "      <td>285</td>\n",
       "      <td>Pirates of the Caribbean: At World's End</td>\n",
       "      <td>Captain Barbossa, long believed to be dead, ha...</td>\n",
       "      <td>Walt Disney Pictures,Jerry Bruckheimer Films,S...</td>\n",
       "      <td>United States of America</td>\n",
       "      <td>2007-05-19</td>\n",
       "      <td>6.9</td>\n",
       "      <td>4500</td>\n",
       "    </tr>\n",
       "    <tr>\n",
       "      <th>2</th>\n",
       "      <td>Action,Adventure,Crime</td>\n",
       "      <td>206647</td>\n",
       "      <td>Spectre</td>\n",
       "      <td>A cryptic message from Bond’s past sends him o...</td>\n",
       "      <td>Columbia Pictures,Danjaq,B24</td>\n",
       "      <td>United Kingdom,United States of America</td>\n",
       "      <td>2015-10-26</td>\n",
       "      <td>6.3</td>\n",
       "      <td>4466</td>\n",
       "    </tr>\n",
       "    <tr>\n",
       "      <th>3</th>\n",
       "      <td>Action,Crime,Drama,Thriller</td>\n",
       "      <td>49026</td>\n",
       "      <td>The Dark Knight Rises</td>\n",
       "      <td>Following the death of District Attorney Harve...</td>\n",
       "      <td>Legendary Pictures,Warner Bros.,DC Entertainme...</td>\n",
       "      <td>United States of America</td>\n",
       "      <td>2012-07-16</td>\n",
       "      <td>7.6</td>\n",
       "      <td>9106</td>\n",
       "    </tr>\n",
       "    <tr>\n",
       "      <th>4</th>\n",
       "      <td>Action,Adventure,Science Fiction</td>\n",
       "      <td>49529</td>\n",
       "      <td>John Carter</td>\n",
       "      <td>John Carter is a war-weary, former military ca...</td>\n",
       "      <td>Walt Disney Pictures</td>\n",
       "      <td>United States of America</td>\n",
       "      <td>2012-03-07</td>\n",
       "      <td>6.1</td>\n",
       "      <td>2124</td>\n",
       "    </tr>\n",
       "  </tbody>\n",
       "</table>\n",
       "</div>"
      ],
      "text/plain": [
       "                                     genres      id  \\\n",
       "0  Action,Adventure,Fantasy,Science Fiction   19995   \n",
       "1                  Adventure,Fantasy,Action     285   \n",
       "2                    Action,Adventure,Crime  206647   \n",
       "3               Action,Crime,Drama,Thriller   49026   \n",
       "4          Action,Adventure,Science Fiction   49529   \n",
       "\n",
       "                             original_title  \\\n",
       "0                                    Avatar   \n",
       "1  Pirates of the Caribbean: At World's End   \n",
       "2                                   Spectre   \n",
       "3                     The Dark Knight Rises   \n",
       "4                               John Carter   \n",
       "\n",
       "                                            overview  \\\n",
       "0  In the 22nd century, a paraplegic Marine is di...   \n",
       "1  Captain Barbossa, long believed to be dead, ha...   \n",
       "2  A cryptic message from Bond’s past sends him o...   \n",
       "3  Following the death of District Attorney Harve...   \n",
       "4  John Carter is a war-weary, former military ca...   \n",
       "\n",
       "                                production_companies  \\\n",
       "0  Ingenious Film Partners,Twentieth Century Fox ...   \n",
       "1  Walt Disney Pictures,Jerry Bruckheimer Films,S...   \n",
       "2                       Columbia Pictures,Danjaq,B24   \n",
       "3  Legendary Pictures,Warner Bros.,DC Entertainme...   \n",
       "4                               Walt Disney Pictures   \n",
       "\n",
       "                      production_countries release_date  vote_average  \\\n",
       "0  United States of America,United Kingdom   2009-12-10           7.2   \n",
       "1                 United States of America   2007-05-19           6.9   \n",
       "2  United Kingdom,United States of America   2015-10-26           6.3   \n",
       "3                 United States of America   2012-07-16           7.6   \n",
       "4                 United States of America   2012-03-07           6.1   \n",
       "\n",
       "   vote_count  \n",
       "0       11800  \n",
       "1        4500  \n",
       "2        4466  \n",
       "3        9106  \n",
       "4        2124  "
      ]
     },
     "execution_count": 13,
     "metadata": {},
     "output_type": "execute_result"
    }
   ],
   "source": [
    "df_main.head()"
   ]
  },
  {
   "cell_type": "code",
   "execution_count": 14,
   "id": "c35cdfbf-500d-4aaf-909e-e1de876e915f",
   "metadata": {},
   "outputs": [
    {
     "data": {
      "text/plain": [
       "genres                   object\n",
       "id                        int64\n",
       "original_title           object\n",
       "overview                 object\n",
       "production_companies     object\n",
       "production_countries     object\n",
       "release_date             object\n",
       "vote_average            float64\n",
       "vote_count                int64\n",
       "dtype: object"
      ]
     },
     "execution_count": 14,
     "metadata": {},
     "output_type": "execute_result"
    }
   ],
   "source": [
    "df_main.dtypes"
   ]
  },
  {
   "cell_type": "code",
   "execution_count": 15,
   "id": "9b6b8961-b7a0-4a3f-b5c0-fd5959637eb4",
   "metadata": {},
   "outputs": [],
   "source": [
    "df2 = pd.read_csv(\"datasets/tmdb_5000_credits.csv\")"
   ]
  },
  {
   "cell_type": "code",
   "execution_count": 16,
   "id": "5e869ac8-1578-4eef-9b3b-83ffbf3571eb",
   "metadata": {},
   "outputs": [
    {
     "data": {
      "text/html": [
       "<div>\n",
       "<style scoped>\n",
       "    .dataframe tbody tr th:only-of-type {\n",
       "        vertical-align: middle;\n",
       "    }\n",
       "\n",
       "    .dataframe tbody tr th {\n",
       "        vertical-align: top;\n",
       "    }\n",
       "\n",
       "    .dataframe thead th {\n",
       "        text-align: right;\n",
       "    }\n",
       "</style>\n",
       "<table border=\"1\" class=\"dataframe\">\n",
       "  <thead>\n",
       "    <tr style=\"text-align: right;\">\n",
       "      <th></th>\n",
       "      <th>movie_id</th>\n",
       "      <th>title</th>\n",
       "      <th>cast</th>\n",
       "      <th>crew</th>\n",
       "    </tr>\n",
       "  </thead>\n",
       "  <tbody>\n",
       "    <tr>\n",
       "      <th>0</th>\n",
       "      <td>19995</td>\n",
       "      <td>Avatar</td>\n",
       "      <td>[{\"cast_id\": 242, \"character\": \"Jake Sully\", \"...</td>\n",
       "      <td>[{\"credit_id\": \"52fe48009251416c750aca23\", \"de...</td>\n",
       "    </tr>\n",
       "    <tr>\n",
       "      <th>1</th>\n",
       "      <td>285</td>\n",
       "      <td>Pirates of the Caribbean: At World's End</td>\n",
       "      <td>[{\"cast_id\": 4, \"character\": \"Captain Jack Spa...</td>\n",
       "      <td>[{\"credit_id\": \"52fe4232c3a36847f800b579\", \"de...</td>\n",
       "    </tr>\n",
       "    <tr>\n",
       "      <th>2</th>\n",
       "      <td>206647</td>\n",
       "      <td>Spectre</td>\n",
       "      <td>[{\"cast_id\": 1, \"character\": \"James Bond\", \"cr...</td>\n",
       "      <td>[{\"credit_id\": \"54805967c3a36829b5002c41\", \"de...</td>\n",
       "    </tr>\n",
       "    <tr>\n",
       "      <th>3</th>\n",
       "      <td>49026</td>\n",
       "      <td>The Dark Knight Rises</td>\n",
       "      <td>[{\"cast_id\": 2, \"character\": \"Bruce Wayne / Ba...</td>\n",
       "      <td>[{\"credit_id\": \"52fe4781c3a36847f81398c3\", \"de...</td>\n",
       "    </tr>\n",
       "    <tr>\n",
       "      <th>4</th>\n",
       "      <td>49529</td>\n",
       "      <td>John Carter</td>\n",
       "      <td>[{\"cast_id\": 5, \"character\": \"John Carter\", \"c...</td>\n",
       "      <td>[{\"credit_id\": \"52fe479ac3a36847f813eaa3\", \"de...</td>\n",
       "    </tr>\n",
       "  </tbody>\n",
       "</table>\n",
       "</div>"
      ],
      "text/plain": [
       "   movie_id                                     title  \\\n",
       "0     19995                                    Avatar   \n",
       "1       285  Pirates of the Caribbean: At World's End   \n",
       "2    206647                                   Spectre   \n",
       "3     49026                     The Dark Knight Rises   \n",
       "4     49529                               John Carter   \n",
       "\n",
       "                                                cast  \\\n",
       "0  [{\"cast_id\": 242, \"character\": \"Jake Sully\", \"...   \n",
       "1  [{\"cast_id\": 4, \"character\": \"Captain Jack Spa...   \n",
       "2  [{\"cast_id\": 1, \"character\": \"James Bond\", \"cr...   \n",
       "3  [{\"cast_id\": 2, \"character\": \"Bruce Wayne / Ba...   \n",
       "4  [{\"cast_id\": 5, \"character\": \"John Carter\", \"c...   \n",
       "\n",
       "                                                crew  \n",
       "0  [{\"credit_id\": \"52fe48009251416c750aca23\", \"de...  \n",
       "1  [{\"credit_id\": \"52fe4232c3a36847f800b579\", \"de...  \n",
       "2  [{\"credit_id\": \"54805967c3a36829b5002c41\", \"de...  \n",
       "3  [{\"credit_id\": \"52fe4781c3a36847f81398c3\", \"de...  \n",
       "4  [{\"credit_id\": \"52fe479ac3a36847f813eaa3\", \"de...  "
      ]
     },
     "execution_count": 16,
     "metadata": {},
     "output_type": "execute_result"
    }
   ],
   "source": [
    "df2.head()"
   ]
  },
  {
   "cell_type": "code",
   "execution_count": 17,
   "id": "a8695b89-6b76-402e-a390-452e155ee2f7",
   "metadata": {},
   "outputs": [
    {
     "data": {
      "text/plain": [
       "movie_id    0\n",
       "title       0\n",
       "cast        0\n",
       "crew        0\n",
       "dtype: int64"
      ]
     },
     "execution_count": 17,
     "metadata": {},
     "output_type": "execute_result"
    }
   ],
   "source": [
    "df2.isna().sum()"
   ]
  },
  {
   "cell_type": "code",
   "execution_count": 18,
   "id": "d6c8a21a-92fd-4749-b740-9adc757aeea5",
   "metadata": {},
   "outputs": [],
   "source": [
    "def cast(x):\n",
    "    names = []\n",
    "    data_list = ast.literal_eval(x)\n",
    "    for i in data_list:\n",
    "        names.append(i[\"name\"])\n",
    "    return \",\".join(names)"
   ]
  },
  {
   "cell_type": "code",
   "execution_count": 19,
   "id": "4c97fba5-010e-4b55-a3f5-0122c78bae15",
   "metadata": {},
   "outputs": [],
   "source": [
    "df2[\"cast_names\"] = df2[\"cast\"].apply(cast)"
   ]
  },
  {
   "cell_type": "code",
   "execution_count": 20,
   "id": "9e2a4a7b-649a-4977-b75a-dfff9e8fd372",
   "metadata": {},
   "outputs": [],
   "source": [
    "def crew(x):\n",
    "    names = []\n",
    "    data_list = ast.literal_eval(x)\n",
    "    crew_mem = [\"Producer\", \"Director\", \"Writer\", \"Novel\", \"Screenplay\"]\n",
    "    for i in data_list:\n",
    "        if i[\"job\"] in crew_mem:\n",
    "            if i[\"name\"] not in names:\n",
    "                names.append(i[\"name\"])\n",
    "    return \",\".join(names)"
   ]
  },
  {
   "cell_type": "code",
   "execution_count": 21,
   "id": "99959c92-dae5-4d2f-9503-bb8c133392c3",
   "metadata": {},
   "outputs": [],
   "source": [
    "df2[\"crew_names\"] = df2[\"crew\"].apply(crew)"
   ]
  },
  {
   "cell_type": "code",
   "execution_count": 22,
   "id": "09aaa2ff-38b7-485c-967f-1d3c07667fff",
   "metadata": {},
   "outputs": [
    {
     "data": {
      "text/html": [
       "<div>\n",
       "<style scoped>\n",
       "    .dataframe tbody tr th:only-of-type {\n",
       "        vertical-align: middle;\n",
       "    }\n",
       "\n",
       "    .dataframe tbody tr th {\n",
       "        vertical-align: top;\n",
       "    }\n",
       "\n",
       "    .dataframe thead th {\n",
       "        text-align: right;\n",
       "    }\n",
       "</style>\n",
       "<table border=\"1\" class=\"dataframe\">\n",
       "  <thead>\n",
       "    <tr style=\"text-align: right;\">\n",
       "      <th></th>\n",
       "      <th>movie_id</th>\n",
       "      <th>title</th>\n",
       "      <th>cast</th>\n",
       "      <th>crew</th>\n",
       "      <th>cast_names</th>\n",
       "      <th>crew_names</th>\n",
       "    </tr>\n",
       "  </thead>\n",
       "  <tbody>\n",
       "    <tr>\n",
       "      <th>0</th>\n",
       "      <td>19995</td>\n",
       "      <td>Avatar</td>\n",
       "      <td>[{\"cast_id\": 242, \"character\": \"Jake Sully\", \"...</td>\n",
       "      <td>[{\"credit_id\": \"52fe48009251416c750aca23\", \"de...</td>\n",
       "      <td>Sam Worthington,Zoe Saldana,Sigourney Weaver,S...</td>\n",
       "      <td>James Cameron,Jon Landau</td>\n",
       "    </tr>\n",
       "    <tr>\n",
       "      <th>1</th>\n",
       "      <td>285</td>\n",
       "      <td>Pirates of the Caribbean: At World's End</td>\n",
       "      <td>[{\"cast_id\": 4, \"character\": \"Captain Jack Spa...</td>\n",
       "      <td>[{\"credit_id\": \"52fe4232c3a36847f800b579\", \"de...</td>\n",
       "      <td>Johnny Depp,Orlando Bloom,Keira Knightley,Stel...</td>\n",
       "      <td>Gore Verbinski,Jerry Bruckheimer,Ted Elliott,T...</td>\n",
       "    </tr>\n",
       "    <tr>\n",
       "      <th>2</th>\n",
       "      <td>206647</td>\n",
       "      <td>Spectre</td>\n",
       "      <td>[{\"cast_id\": 1, \"character\": \"James Bond\", \"cr...</td>\n",
       "      <td>[{\"credit_id\": \"54805967c3a36829b5002c41\", \"de...</td>\n",
       "      <td>Daniel Craig,Christoph Waltz,Léa Seydoux,Ralph...</td>\n",
       "      <td>Sam Mendes,John Logan,Barbara Broccoli,Robert ...</td>\n",
       "    </tr>\n",
       "    <tr>\n",
       "      <th>3</th>\n",
       "      <td>49026</td>\n",
       "      <td>The Dark Knight Rises</td>\n",
       "      <td>[{\"cast_id\": 2, \"character\": \"Bruce Wayne / Ba...</td>\n",
       "      <td>[{\"credit_id\": \"52fe4781c3a36847f81398c3\", \"de...</td>\n",
       "      <td>Christian Bale,Michael Caine,Gary Oldman,Anne ...</td>\n",
       "      <td>Charles Roven,Christopher Nolan,Jonathan Nolan...</td>\n",
       "    </tr>\n",
       "    <tr>\n",
       "      <th>4</th>\n",
       "      <td>49529</td>\n",
       "      <td>John Carter</td>\n",
       "      <td>[{\"cast_id\": 5, \"character\": \"John Carter\", \"c...</td>\n",
       "      <td>[{\"credit_id\": \"52fe479ac3a36847f813eaa3\", \"de...</td>\n",
       "      <td>Taylor Kitsch,Lynn Collins,Samantha Morton,Wil...</td>\n",
       "      <td>Andrew Stanton,Colin Wilson,Jim Morris,Lindsey...</td>\n",
       "    </tr>\n",
       "  </tbody>\n",
       "</table>\n",
       "</div>"
      ],
      "text/plain": [
       "   movie_id                                     title  \\\n",
       "0     19995                                    Avatar   \n",
       "1       285  Pirates of the Caribbean: At World's End   \n",
       "2    206647                                   Spectre   \n",
       "3     49026                     The Dark Knight Rises   \n",
       "4     49529                               John Carter   \n",
       "\n",
       "                                                cast  \\\n",
       "0  [{\"cast_id\": 242, \"character\": \"Jake Sully\", \"...   \n",
       "1  [{\"cast_id\": 4, \"character\": \"Captain Jack Spa...   \n",
       "2  [{\"cast_id\": 1, \"character\": \"James Bond\", \"cr...   \n",
       "3  [{\"cast_id\": 2, \"character\": \"Bruce Wayne / Ba...   \n",
       "4  [{\"cast_id\": 5, \"character\": \"John Carter\", \"c...   \n",
       "\n",
       "                                                crew  \\\n",
       "0  [{\"credit_id\": \"52fe48009251416c750aca23\", \"de...   \n",
       "1  [{\"credit_id\": \"52fe4232c3a36847f800b579\", \"de...   \n",
       "2  [{\"credit_id\": \"54805967c3a36829b5002c41\", \"de...   \n",
       "3  [{\"credit_id\": \"52fe4781c3a36847f81398c3\", \"de...   \n",
       "4  [{\"credit_id\": \"52fe479ac3a36847f813eaa3\", \"de...   \n",
       "\n",
       "                                          cast_names  \\\n",
       "0  Sam Worthington,Zoe Saldana,Sigourney Weaver,S...   \n",
       "1  Johnny Depp,Orlando Bloom,Keira Knightley,Stel...   \n",
       "2  Daniel Craig,Christoph Waltz,Léa Seydoux,Ralph...   \n",
       "3  Christian Bale,Michael Caine,Gary Oldman,Anne ...   \n",
       "4  Taylor Kitsch,Lynn Collins,Samantha Morton,Wil...   \n",
       "\n",
       "                                          crew_names  \n",
       "0                           James Cameron,Jon Landau  \n",
       "1  Gore Verbinski,Jerry Bruckheimer,Ted Elliott,T...  \n",
       "2  Sam Mendes,John Logan,Barbara Broccoli,Robert ...  \n",
       "3  Charles Roven,Christopher Nolan,Jonathan Nolan...  \n",
       "4  Andrew Stanton,Colin Wilson,Jim Morris,Lindsey...  "
      ]
     },
     "execution_count": 22,
     "metadata": {},
     "output_type": "execute_result"
    }
   ],
   "source": [
    "df2.head()"
   ]
  },
  {
   "cell_type": "code",
   "execution_count": 23,
   "id": "3aaa7e62-43fa-4073-bdea-b14c0c78c92d",
   "metadata": {},
   "outputs": [],
   "source": [
    "df2_main = df2[[\"movie_id\", \"cast_names\", \"crew_names\"]]"
   ]
  },
  {
   "cell_type": "code",
   "execution_count": 24,
   "id": "e4478c37-a868-434f-af50-6e75aaa52001",
   "metadata": {},
   "outputs": [
    {
     "data": {
      "text/plain": [
       "movie_id       int64\n",
       "cast_names    object\n",
       "crew_names    object\n",
       "dtype: object"
      ]
     },
     "execution_count": 24,
     "metadata": {},
     "output_type": "execute_result"
    }
   ],
   "source": [
    "df2_main.dtypes"
   ]
  },
  {
   "cell_type": "code",
   "execution_count": 25,
   "id": "138d820c-1b66-47c9-bcc7-3018e4d744b1",
   "metadata": {},
   "outputs": [
    {
     "name": "stderr",
     "output_type": "stream",
     "text": [
      "C:\\Users\\alain\\AppData\\Local\\Temp\\ipykernel_28316\\3057690192.py:1: SettingWithCopyWarning: \n",
      "A value is trying to be set on a copy of a slice from a DataFrame\n",
      "\n",
      "See the caveats in the documentation: https://pandas.pydata.org/pandas-docs/stable/user_guide/indexing.html#returning-a-view-versus-a-copy\n",
      "  df2_main.rename(columns={\"movie_id\": \"id\"}, inplace = True)\n"
     ]
    }
   ],
   "source": [
    "df2_main.rename(columns={\"movie_id\": \"id\"}, inplace = True)"
   ]
  },
  {
   "cell_type": "code",
   "execution_count": 26,
   "id": "724f0e18-ca27-4024-9bdb-ed25bfac3739",
   "metadata": {},
   "outputs": [
    {
     "data": {
      "text/html": [
       "<div>\n",
       "<style scoped>\n",
       "    .dataframe tbody tr th:only-of-type {\n",
       "        vertical-align: middle;\n",
       "    }\n",
       "\n",
       "    .dataframe tbody tr th {\n",
       "        vertical-align: top;\n",
       "    }\n",
       "\n",
       "    .dataframe thead th {\n",
       "        text-align: right;\n",
       "    }\n",
       "</style>\n",
       "<table border=\"1\" class=\"dataframe\">\n",
       "  <thead>\n",
       "    <tr style=\"text-align: right;\">\n",
       "      <th></th>\n",
       "      <th>id</th>\n",
       "      <th>cast_names</th>\n",
       "      <th>crew_names</th>\n",
       "    </tr>\n",
       "  </thead>\n",
       "  <tbody>\n",
       "    <tr>\n",
       "      <th>0</th>\n",
       "      <td>19995</td>\n",
       "      <td>Sam Worthington,Zoe Saldana,Sigourney Weaver,S...</td>\n",
       "      <td>James Cameron,Jon Landau</td>\n",
       "    </tr>\n",
       "    <tr>\n",
       "      <th>1</th>\n",
       "      <td>285</td>\n",
       "      <td>Johnny Depp,Orlando Bloom,Keira Knightley,Stel...</td>\n",
       "      <td>Gore Verbinski,Jerry Bruckheimer,Ted Elliott,T...</td>\n",
       "    </tr>\n",
       "    <tr>\n",
       "      <th>2</th>\n",
       "      <td>206647</td>\n",
       "      <td>Daniel Craig,Christoph Waltz,Léa Seydoux,Ralph...</td>\n",
       "      <td>Sam Mendes,John Logan,Barbara Broccoli,Robert ...</td>\n",
       "    </tr>\n",
       "    <tr>\n",
       "      <th>3</th>\n",
       "      <td>49026</td>\n",
       "      <td>Christian Bale,Michael Caine,Gary Oldman,Anne ...</td>\n",
       "      <td>Charles Roven,Christopher Nolan,Jonathan Nolan...</td>\n",
       "    </tr>\n",
       "    <tr>\n",
       "      <th>4</th>\n",
       "      <td>49529</td>\n",
       "      <td>Taylor Kitsch,Lynn Collins,Samantha Morton,Wil...</td>\n",
       "      <td>Andrew Stanton,Colin Wilson,Jim Morris,Lindsey...</td>\n",
       "    </tr>\n",
       "  </tbody>\n",
       "</table>\n",
       "</div>"
      ],
      "text/plain": [
       "       id                                         cast_names  \\\n",
       "0   19995  Sam Worthington,Zoe Saldana,Sigourney Weaver,S...   \n",
       "1     285  Johnny Depp,Orlando Bloom,Keira Knightley,Stel...   \n",
       "2  206647  Daniel Craig,Christoph Waltz,Léa Seydoux,Ralph...   \n",
       "3   49026  Christian Bale,Michael Caine,Gary Oldman,Anne ...   \n",
       "4   49529  Taylor Kitsch,Lynn Collins,Samantha Morton,Wil...   \n",
       "\n",
       "                                          crew_names  \n",
       "0                           James Cameron,Jon Landau  \n",
       "1  Gore Verbinski,Jerry Bruckheimer,Ted Elliott,T...  \n",
       "2  Sam Mendes,John Logan,Barbara Broccoli,Robert ...  \n",
       "3  Charles Roven,Christopher Nolan,Jonathan Nolan...  \n",
       "4  Andrew Stanton,Colin Wilson,Jim Morris,Lindsey...  "
      ]
     },
     "execution_count": 26,
     "metadata": {},
     "output_type": "execute_result"
    }
   ],
   "source": [
    "df2_main.head()"
   ]
  },
  {
   "cell_type": "code",
   "execution_count": 27,
   "id": "3d0e9a24-42b2-4d2c-a0d0-21e7899fdf23",
   "metadata": {},
   "outputs": [],
   "source": [
    "merged_df = pd.merge(df_main, df2_main, on='id', how='inner')"
   ]
  },
  {
   "cell_type": "code",
   "execution_count": 28,
   "id": "a22f46b1-3e2c-4272-9691-3cf5cdc99719",
   "metadata": {},
   "outputs": [
    {
     "data": {
      "text/html": [
       "<div>\n",
       "<style scoped>\n",
       "    .dataframe tbody tr th:only-of-type {\n",
       "        vertical-align: middle;\n",
       "    }\n",
       "\n",
       "    .dataframe tbody tr th {\n",
       "        vertical-align: top;\n",
       "    }\n",
       "\n",
       "    .dataframe thead th {\n",
       "        text-align: right;\n",
       "    }\n",
       "</style>\n",
       "<table border=\"1\" class=\"dataframe\">\n",
       "  <thead>\n",
       "    <tr style=\"text-align: right;\">\n",
       "      <th></th>\n",
       "      <th>genres</th>\n",
       "      <th>id</th>\n",
       "      <th>original_title</th>\n",
       "      <th>overview</th>\n",
       "      <th>production_companies</th>\n",
       "      <th>production_countries</th>\n",
       "      <th>release_date</th>\n",
       "      <th>vote_average</th>\n",
       "      <th>vote_count</th>\n",
       "      <th>cast_names</th>\n",
       "      <th>crew_names</th>\n",
       "    </tr>\n",
       "  </thead>\n",
       "  <tbody>\n",
       "    <tr>\n",
       "      <th>0</th>\n",
       "      <td>Action,Adventure,Fantasy,Science Fiction</td>\n",
       "      <td>19995</td>\n",
       "      <td>Avatar</td>\n",
       "      <td>In the 22nd century, a paraplegic Marine is di...</td>\n",
       "      <td>Ingenious Film Partners,Twentieth Century Fox ...</td>\n",
       "      <td>United States of America,United Kingdom</td>\n",
       "      <td>2009-12-10</td>\n",
       "      <td>7.2</td>\n",
       "      <td>11800</td>\n",
       "      <td>Sam Worthington,Zoe Saldana,Sigourney Weaver,S...</td>\n",
       "      <td>James Cameron,Jon Landau</td>\n",
       "    </tr>\n",
       "    <tr>\n",
       "      <th>1</th>\n",
       "      <td>Adventure,Fantasy,Action</td>\n",
       "      <td>285</td>\n",
       "      <td>Pirates of the Caribbean: At World's End</td>\n",
       "      <td>Captain Barbossa, long believed to be dead, ha...</td>\n",
       "      <td>Walt Disney Pictures,Jerry Bruckheimer Films,S...</td>\n",
       "      <td>United States of America</td>\n",
       "      <td>2007-05-19</td>\n",
       "      <td>6.9</td>\n",
       "      <td>4500</td>\n",
       "      <td>Johnny Depp,Orlando Bloom,Keira Knightley,Stel...</td>\n",
       "      <td>Gore Verbinski,Jerry Bruckheimer,Ted Elliott,T...</td>\n",
       "    </tr>\n",
       "    <tr>\n",
       "      <th>2</th>\n",
       "      <td>Action,Adventure,Crime</td>\n",
       "      <td>206647</td>\n",
       "      <td>Spectre</td>\n",
       "      <td>A cryptic message from Bond’s past sends him o...</td>\n",
       "      <td>Columbia Pictures,Danjaq,B24</td>\n",
       "      <td>United Kingdom,United States of America</td>\n",
       "      <td>2015-10-26</td>\n",
       "      <td>6.3</td>\n",
       "      <td>4466</td>\n",
       "      <td>Daniel Craig,Christoph Waltz,Léa Seydoux,Ralph...</td>\n",
       "      <td>Sam Mendes,John Logan,Barbara Broccoli,Robert ...</td>\n",
       "    </tr>\n",
       "    <tr>\n",
       "      <th>3</th>\n",
       "      <td>Action,Crime,Drama,Thriller</td>\n",
       "      <td>49026</td>\n",
       "      <td>The Dark Knight Rises</td>\n",
       "      <td>Following the death of District Attorney Harve...</td>\n",
       "      <td>Legendary Pictures,Warner Bros.,DC Entertainme...</td>\n",
       "      <td>United States of America</td>\n",
       "      <td>2012-07-16</td>\n",
       "      <td>7.6</td>\n",
       "      <td>9106</td>\n",
       "      <td>Christian Bale,Michael Caine,Gary Oldman,Anne ...</td>\n",
       "      <td>Charles Roven,Christopher Nolan,Jonathan Nolan...</td>\n",
       "    </tr>\n",
       "    <tr>\n",
       "      <th>4</th>\n",
       "      <td>Action,Adventure,Science Fiction</td>\n",
       "      <td>49529</td>\n",
       "      <td>John Carter</td>\n",
       "      <td>John Carter is a war-weary, former military ca...</td>\n",
       "      <td>Walt Disney Pictures</td>\n",
       "      <td>United States of America</td>\n",
       "      <td>2012-03-07</td>\n",
       "      <td>6.1</td>\n",
       "      <td>2124</td>\n",
       "      <td>Taylor Kitsch,Lynn Collins,Samantha Morton,Wil...</td>\n",
       "      <td>Andrew Stanton,Colin Wilson,Jim Morris,Lindsey...</td>\n",
       "    </tr>\n",
       "  </tbody>\n",
       "</table>\n",
       "</div>"
      ],
      "text/plain": [
       "                                     genres      id  \\\n",
       "0  Action,Adventure,Fantasy,Science Fiction   19995   \n",
       "1                  Adventure,Fantasy,Action     285   \n",
       "2                    Action,Adventure,Crime  206647   \n",
       "3               Action,Crime,Drama,Thriller   49026   \n",
       "4          Action,Adventure,Science Fiction   49529   \n",
       "\n",
       "                             original_title  \\\n",
       "0                                    Avatar   \n",
       "1  Pirates of the Caribbean: At World's End   \n",
       "2                                   Spectre   \n",
       "3                     The Dark Knight Rises   \n",
       "4                               John Carter   \n",
       "\n",
       "                                            overview  \\\n",
       "0  In the 22nd century, a paraplegic Marine is di...   \n",
       "1  Captain Barbossa, long believed to be dead, ha...   \n",
       "2  A cryptic message from Bond’s past sends him o...   \n",
       "3  Following the death of District Attorney Harve...   \n",
       "4  John Carter is a war-weary, former military ca...   \n",
       "\n",
       "                                production_companies  \\\n",
       "0  Ingenious Film Partners,Twentieth Century Fox ...   \n",
       "1  Walt Disney Pictures,Jerry Bruckheimer Films,S...   \n",
       "2                       Columbia Pictures,Danjaq,B24   \n",
       "3  Legendary Pictures,Warner Bros.,DC Entertainme...   \n",
       "4                               Walt Disney Pictures   \n",
       "\n",
       "                      production_countries release_date  vote_average  \\\n",
       "0  United States of America,United Kingdom   2009-12-10           7.2   \n",
       "1                 United States of America   2007-05-19           6.9   \n",
       "2  United Kingdom,United States of America   2015-10-26           6.3   \n",
       "3                 United States of America   2012-07-16           7.6   \n",
       "4                 United States of America   2012-03-07           6.1   \n",
       "\n",
       "   vote_count                                         cast_names  \\\n",
       "0       11800  Sam Worthington,Zoe Saldana,Sigourney Weaver,S...   \n",
       "1        4500  Johnny Depp,Orlando Bloom,Keira Knightley,Stel...   \n",
       "2        4466  Daniel Craig,Christoph Waltz,Léa Seydoux,Ralph...   \n",
       "3        9106  Christian Bale,Michael Caine,Gary Oldman,Anne ...   \n",
       "4        2124  Taylor Kitsch,Lynn Collins,Samantha Morton,Wil...   \n",
       "\n",
       "                                          crew_names  \n",
       "0                           James Cameron,Jon Landau  \n",
       "1  Gore Verbinski,Jerry Bruckheimer,Ted Elliott,T...  \n",
       "2  Sam Mendes,John Logan,Barbara Broccoli,Robert ...  \n",
       "3  Charles Roven,Christopher Nolan,Jonathan Nolan...  \n",
       "4  Andrew Stanton,Colin Wilson,Jim Morris,Lindsey...  "
      ]
     },
     "execution_count": 28,
     "metadata": {},
     "output_type": "execute_result"
    }
   ],
   "source": [
    "merged_df.head()"
   ]
  },
  {
   "cell_type": "code",
   "execution_count": 29,
   "id": "1b4cb264-c0f5-4c1a-af45-69fdc9a7774a",
   "metadata": {},
   "outputs": [
    {
     "data": {
      "text/plain": [
       "genres                  0\n",
       "id                      0\n",
       "original_title          0\n",
       "overview                0\n",
       "production_companies    0\n",
       "production_countries    0\n",
       "release_date            0\n",
       "vote_average            0\n",
       "vote_count              0\n",
       "cast_names              0\n",
       "crew_names              0\n",
       "dtype: int64"
      ]
     },
     "execution_count": 29,
     "metadata": {},
     "output_type": "execute_result"
    }
   ],
   "source": [
    "merged_df.isna().sum()"
   ]
  },
  {
   "cell_type": "code",
   "execution_count": 30,
   "id": "b9d7de48-543f-460d-b06f-53878849b24f",
   "metadata": {},
   "outputs": [
    {
     "data": {
      "text/plain": [
       "(4799, 11)"
      ]
     },
     "execution_count": 30,
     "metadata": {},
     "output_type": "execute_result"
    }
   ],
   "source": [
    "merged_df.shape"
   ]
  },
  {
   "cell_type": "code",
   "execution_count": 31,
   "id": "4fede974-c904-456b-8ea5-4b0ccd62fd05",
   "metadata": {},
   "outputs": [],
   "source": [
    "# merged_df.to_csv(\"datasets/model_data.csv\", index = False)"
   ]
  },
  {
   "cell_type": "code",
   "execution_count": 33,
   "id": "b607fef7-adb0-4e40-9050-e77de0f90a8a",
   "metadata": {},
   "outputs": [
    {
     "name": "stderr",
     "output_type": "stream",
     "text": [
      "[nltk_data] Downloading package stopwords to\n",
      "[nltk_data]     C:\\Users\\alain\\AppData\\Roaming\\nltk_data...\n",
      "[nltk_data]   Package stopwords is already up-to-date!\n",
      "[nltk_data] Downloading package punkt to\n",
      "[nltk_data]     C:\\Users\\alain\\AppData\\Roaming\\nltk_data...\n",
      "[nltk_data]   Package punkt is already up-to-date!\n"
     ]
    },
    {
     "data": {
      "text/plain": [
       "True"
      ]
     },
     "execution_count": 33,
     "metadata": {},
     "output_type": "execute_result"
    }
   ],
   "source": [
    "nltk.download(\"stopwords\")\n",
    "nltk.download(\"punkt\")"
   ]
  },
  {
   "cell_type": "code",
   "execution_count": 34,
   "id": "9bf85fb8-8152-4b3f-99fc-81cf1157e0a4",
   "metadata": {},
   "outputs": [],
   "source": [
    "### content based"
   ]
  },
  {
   "cell_type": "code",
   "execution_count": 69,
   "id": "6cdd0241-44eb-4503-8c71-054fef48a1a7",
   "metadata": {},
   "outputs": [],
   "source": [
    "data1 = merged_df[[\"genres\", \"original_title\", \"overview\", \"production_companies\", \"production_countries\", \"cast_names\", \"crew_names\"]]"
   ]
  },
  {
   "cell_type": "code",
   "execution_count": 71,
   "id": "a5b2b71c-3bbc-48a4-829d-3fa35cfbf758",
   "metadata": {},
   "outputs": [],
   "source": [
    "def convert(x):\n",
    "    if pd.isna(x) == False:\n",
    "        return str(x).lower().split(\",\")\n",
    "    else:\n",
    "        return \"\""
   ]
  },
  {
   "cell_type": "code",
   "execution_count": 73,
   "id": "02477087-5786-428e-a27d-2133768d24ba",
   "metadata": {},
   "outputs": [
    {
     "name": "stderr",
     "output_type": "stream",
     "text": [
      "C:\\Users\\alain\\AppData\\Local\\Temp\\ipykernel_28316\\3432001044.py:1: SettingWithCopyWarning: \n",
      "A value is trying to be set on a copy of a slice from a DataFrame.\n",
      "Try using .loc[row_indexer,col_indexer] = value instead\n",
      "\n",
      "See the caveats in the documentation: https://pandas.pydata.org/pandas-docs/stable/user_guide/indexing.html#returning-a-view-versus-a-copy\n",
      "  data1[\"genres\"] = data1[\"genres\"].apply(convert)\n"
     ]
    }
   ],
   "source": [
    "data1[\"genres\"] = data1[\"genres\"].apply(convert)"
   ]
  },
  {
   "cell_type": "code",
   "execution_count": 75,
   "id": "36ceed02-d5b5-4a6c-abce-9892f8f8dd49",
   "metadata": {},
   "outputs": [
    {
     "name": "stderr",
     "output_type": "stream",
     "text": [
      "C:\\Users\\alain\\AppData\\Local\\Temp\\ipykernel_28316\\1709033294.py:1: SettingWithCopyWarning: \n",
      "A value is trying to be set on a copy of a slice from a DataFrame.\n",
      "Try using .loc[row_indexer,col_indexer] = value instead\n",
      "\n",
      "See the caveats in the documentation: https://pandas.pydata.org/pandas-docs/stable/user_guide/indexing.html#returning-a-view-versus-a-copy\n",
      "  data1[\"overview\"] = data1[\"overview\"].apply(convert)\n"
     ]
    }
   ],
   "source": [
    "data1[\"overview\"] = data1[\"overview\"].apply(convert)"
   ]
  },
  {
   "cell_type": "code",
   "execution_count": 77,
   "id": "7789d768-a72a-4745-9e6c-09faa3e507c7",
   "metadata": {},
   "outputs": [
    {
     "name": "stderr",
     "output_type": "stream",
     "text": [
      "C:\\Users\\alain\\AppData\\Local\\Temp\\ipykernel_28316\\3119289111.py:1: SettingWithCopyWarning: \n",
      "A value is trying to be set on a copy of a slice from a DataFrame.\n",
      "Try using .loc[row_indexer,col_indexer] = value instead\n",
      "\n",
      "See the caveats in the documentation: https://pandas.pydata.org/pandas-docs/stable/user_guide/indexing.html#returning-a-view-versus-a-copy\n",
      "  data1[\"production_companies\"] = data1[\"production_companies\"].apply(convert)\n"
     ]
    }
   ],
   "source": [
    "data1[\"production_companies\"] = data1[\"production_companies\"].apply(convert)"
   ]
  },
  {
   "cell_type": "code",
   "execution_count": 79,
   "id": "f7afee96-b2c0-450f-80e9-6233954fe45e",
   "metadata": {},
   "outputs": [
    {
     "name": "stderr",
     "output_type": "stream",
     "text": [
      "C:\\Users\\alain\\AppData\\Local\\Temp\\ipykernel_28316\\637867445.py:1: SettingWithCopyWarning: \n",
      "A value is trying to be set on a copy of a slice from a DataFrame.\n",
      "Try using .loc[row_indexer,col_indexer] = value instead\n",
      "\n",
      "See the caveats in the documentation: https://pandas.pydata.org/pandas-docs/stable/user_guide/indexing.html#returning-a-view-versus-a-copy\n",
      "  data1[\"production_countries\"] = data1[\"production_countries\"].apply(convert)\n"
     ]
    }
   ],
   "source": [
    "data1[\"production_countries\"] = data1[\"production_countries\"].apply(convert)"
   ]
  },
  {
   "cell_type": "code",
   "execution_count": 81,
   "id": "cf789e24-bd17-4a17-b09b-0770191f50bf",
   "metadata": {},
   "outputs": [
    {
     "name": "stderr",
     "output_type": "stream",
     "text": [
      "C:\\Users\\alain\\AppData\\Local\\Temp\\ipykernel_28316\\3964670989.py:1: SettingWithCopyWarning: \n",
      "A value is trying to be set on a copy of a slice from a DataFrame.\n",
      "Try using .loc[row_indexer,col_indexer] = value instead\n",
      "\n",
      "See the caveats in the documentation: https://pandas.pydata.org/pandas-docs/stable/user_guide/indexing.html#returning-a-view-versus-a-copy\n",
      "  data1[\"cast_names\"] = data1[\"cast_names\"].apply(convert)\n"
     ]
    }
   ],
   "source": [
    "data1[\"cast_names\"] = data1[\"cast_names\"].apply(convert)"
   ]
  },
  {
   "cell_type": "code",
   "execution_count": 83,
   "id": "41552af7-ae40-484d-8265-fca1bfa7600e",
   "metadata": {},
   "outputs": [
    {
     "name": "stderr",
     "output_type": "stream",
     "text": [
      "C:\\Users\\alain\\AppData\\Local\\Temp\\ipykernel_28316\\1711649332.py:1: SettingWithCopyWarning: \n",
      "A value is trying to be set on a copy of a slice from a DataFrame.\n",
      "Try using .loc[row_indexer,col_indexer] = value instead\n",
      "\n",
      "See the caveats in the documentation: https://pandas.pydata.org/pandas-docs/stable/user_guide/indexing.html#returning-a-view-versus-a-copy\n",
      "  data1[\"crew_names\"] = data1[\"crew_names\"].apply(convert)\n"
     ]
    }
   ],
   "source": [
    "data1[\"crew_names\"] = data1[\"crew_names\"].apply(convert)"
   ]
  },
  {
   "cell_type": "code",
   "execution_count": 85,
   "id": "5d3b5f70-496f-4e0b-adb7-c222cae8f109",
   "metadata": {},
   "outputs": [
    {
     "data": {
      "text/html": [
       "<div>\n",
       "<style scoped>\n",
       "    .dataframe tbody tr th:only-of-type {\n",
       "        vertical-align: middle;\n",
       "    }\n",
       "\n",
       "    .dataframe tbody tr th {\n",
       "        vertical-align: top;\n",
       "    }\n",
       "\n",
       "    .dataframe thead th {\n",
       "        text-align: right;\n",
       "    }\n",
       "</style>\n",
       "<table border=\"1\" class=\"dataframe\">\n",
       "  <thead>\n",
       "    <tr style=\"text-align: right;\">\n",
       "      <th></th>\n",
       "      <th>genres</th>\n",
       "      <th>original_title</th>\n",
       "      <th>overview</th>\n",
       "      <th>production_companies</th>\n",
       "      <th>production_countries</th>\n",
       "      <th>cast_names</th>\n",
       "      <th>crew_names</th>\n",
       "    </tr>\n",
       "  </thead>\n",
       "  <tbody>\n",
       "    <tr>\n",
       "      <th>0</th>\n",
       "      <td>[action, adventure, fantasy, science fiction]</td>\n",
       "      <td>Avatar</td>\n",
       "      <td>[in the 22nd century,  a paraplegic marine is ...</td>\n",
       "      <td>[ingenious film partners, twentieth century fo...</td>\n",
       "      <td>[united states of america, united kingdom]</td>\n",
       "      <td>[sam worthington, zoe saldana, sigourney weave...</td>\n",
       "      <td>[james cameron, jon landau]</td>\n",
       "    </tr>\n",
       "    <tr>\n",
       "      <th>1</th>\n",
       "      <td>[adventure, fantasy, action]</td>\n",
       "      <td>Pirates of the Caribbean: At World's End</td>\n",
       "      <td>[captain barbossa,  long believed to be dead, ...</td>\n",
       "      <td>[walt disney pictures, jerry bruckheimer films...</td>\n",
       "      <td>[united states of america]</td>\n",
       "      <td>[johnny depp, orlando bloom, keira knightley, ...</td>\n",
       "      <td>[gore verbinski, jerry bruckheimer, ted elliot...</td>\n",
       "    </tr>\n",
       "    <tr>\n",
       "      <th>2</th>\n",
       "      <td>[action, adventure, crime]</td>\n",
       "      <td>Spectre</td>\n",
       "      <td>[a cryptic message from bond’s past sends him ...</td>\n",
       "      <td>[columbia pictures, danjaq, b24]</td>\n",
       "      <td>[united kingdom, united states of america]</td>\n",
       "      <td>[daniel craig, christoph waltz, léa seydoux, r...</td>\n",
       "      <td>[sam mendes, john logan, barbara broccoli, rob...</td>\n",
       "    </tr>\n",
       "    <tr>\n",
       "      <th>3</th>\n",
       "      <td>[action, crime, drama, thriller]</td>\n",
       "      <td>The Dark Knight Rises</td>\n",
       "      <td>[following the death of district attorney harv...</td>\n",
       "      <td>[legendary pictures, warner bros., dc entertai...</td>\n",
       "      <td>[united states of america]</td>\n",
       "      <td>[christian bale, michael caine, gary oldman, a...</td>\n",
       "      <td>[charles roven, christopher nolan, jonathan no...</td>\n",
       "    </tr>\n",
       "    <tr>\n",
       "      <th>4</th>\n",
       "      <td>[action, adventure, science fiction]</td>\n",
       "      <td>John Carter</td>\n",
       "      <td>[john carter is a war-weary,  former military ...</td>\n",
       "      <td>[walt disney pictures]</td>\n",
       "      <td>[united states of america]</td>\n",
       "      <td>[taylor kitsch, lynn collins, samantha morton,...</td>\n",
       "      <td>[andrew stanton, colin wilson, jim morris, lin...</td>\n",
       "    </tr>\n",
       "  </tbody>\n",
       "</table>\n",
       "</div>"
      ],
      "text/plain": [
       "                                          genres  \\\n",
       "0  [action, adventure, fantasy, science fiction]   \n",
       "1                   [adventure, fantasy, action]   \n",
       "2                     [action, adventure, crime]   \n",
       "3               [action, crime, drama, thriller]   \n",
       "4           [action, adventure, science fiction]   \n",
       "\n",
       "                             original_title  \\\n",
       "0                                    Avatar   \n",
       "1  Pirates of the Caribbean: At World's End   \n",
       "2                                   Spectre   \n",
       "3                     The Dark Knight Rises   \n",
       "4                               John Carter   \n",
       "\n",
       "                                            overview  \\\n",
       "0  [in the 22nd century,  a paraplegic marine is ...   \n",
       "1  [captain barbossa,  long believed to be dead, ...   \n",
       "2  [a cryptic message from bond’s past sends him ...   \n",
       "3  [following the death of district attorney harv...   \n",
       "4  [john carter is a war-weary,  former military ...   \n",
       "\n",
       "                                production_companies  \\\n",
       "0  [ingenious film partners, twentieth century fo...   \n",
       "1  [walt disney pictures, jerry bruckheimer films...   \n",
       "2                   [columbia pictures, danjaq, b24]   \n",
       "3  [legendary pictures, warner bros., dc entertai...   \n",
       "4                             [walt disney pictures]   \n",
       "\n",
       "                         production_countries  \\\n",
       "0  [united states of america, united kingdom]   \n",
       "1                  [united states of america]   \n",
       "2  [united kingdom, united states of america]   \n",
       "3                  [united states of america]   \n",
       "4                  [united states of america]   \n",
       "\n",
       "                                          cast_names  \\\n",
       "0  [sam worthington, zoe saldana, sigourney weave...   \n",
       "1  [johnny depp, orlando bloom, keira knightley, ...   \n",
       "2  [daniel craig, christoph waltz, léa seydoux, r...   \n",
       "3  [christian bale, michael caine, gary oldman, a...   \n",
       "4  [taylor kitsch, lynn collins, samantha morton,...   \n",
       "\n",
       "                                          crew_names  \n",
       "0                        [james cameron, jon landau]  \n",
       "1  [gore verbinski, jerry bruckheimer, ted elliot...  \n",
       "2  [sam mendes, john logan, barbara broccoli, rob...  \n",
       "3  [charles roven, christopher nolan, jonathan no...  \n",
       "4  [andrew stanton, colin wilson, jim morris, lin...  "
      ]
     },
     "execution_count": 85,
     "metadata": {},
     "output_type": "execute_result"
    }
   ],
   "source": [
    "data1.head()"
   ]
  },
  {
   "cell_type": "code",
   "execution_count": 87,
   "id": "8f2d8e34-de9f-41d0-af9b-f3da2e72775f",
   "metadata": {},
   "outputs": [],
   "source": [
    "def join_names(x):\n",
    "    return [name.replace(\" \", \"\") for name in x]"
   ]
  },
  {
   "cell_type": "code",
   "execution_count": 89,
   "id": "a69e1c1a-b44b-456e-bc20-8a70b8f6dcf5",
   "metadata": {},
   "outputs": [
    {
     "name": "stderr",
     "output_type": "stream",
     "text": [
      "C:\\Users\\alain\\AppData\\Local\\Temp\\ipykernel_28316\\3819760842.py:1: SettingWithCopyWarning: \n",
      "A value is trying to be set on a copy of a slice from a DataFrame.\n",
      "Try using .loc[row_indexer,col_indexer] = value instead\n",
      "\n",
      "See the caveats in the documentation: https://pandas.pydata.org/pandas-docs/stable/user_guide/indexing.html#returning-a-view-versus-a-copy\n",
      "  data1[\"cast_names\"] = data1[\"cast_names\"].apply(join_names)\n"
     ]
    }
   ],
   "source": [
    "data1[\"cast_names\"] = data1[\"cast_names\"].apply(join_names)"
   ]
  },
  {
   "cell_type": "code",
   "execution_count": 91,
   "id": "dcaee607-20c5-4caf-910b-2be546b71c14",
   "metadata": {},
   "outputs": [
    {
     "name": "stderr",
     "output_type": "stream",
     "text": [
      "C:\\Users\\alain\\AppData\\Local\\Temp\\ipykernel_28316\\2455027506.py:1: SettingWithCopyWarning: \n",
      "A value is trying to be set on a copy of a slice from a DataFrame.\n",
      "Try using .loc[row_indexer,col_indexer] = value instead\n",
      "\n",
      "See the caveats in the documentation: https://pandas.pydata.org/pandas-docs/stable/user_guide/indexing.html#returning-a-view-versus-a-copy\n",
      "  data1[\"crew_names\"] = data1[\"crew_names\"].apply(join_names)\n"
     ]
    }
   ],
   "source": [
    "data1[\"crew_names\"] = data1[\"crew_names\"].apply(join_names)"
   ]
  },
  {
   "cell_type": "code",
   "execution_count": 93,
   "id": "e71586e2-018f-4974-9db0-46f3085fbfb4",
   "metadata": {},
   "outputs": [
    {
     "name": "stderr",
     "output_type": "stream",
     "text": [
      "C:\\Users\\alain\\AppData\\Local\\Temp\\ipykernel_28316\\3995409750.py:1: SettingWithCopyWarning: \n",
      "A value is trying to be set on a copy of a slice from a DataFrame.\n",
      "Try using .loc[row_indexer,col_indexer] = value instead\n",
      "\n",
      "See the caveats in the documentation: https://pandas.pydata.org/pandas-docs/stable/user_guide/indexing.html#returning-a-view-versus-a-copy\n",
      "  data1[\"production_companies\"] = data1[\"production_companies\"].apply(join_names)\n"
     ]
    }
   ],
   "source": [
    "data1[\"production_companies\"] = data1[\"production_companies\"].apply(join_names)"
   ]
  },
  {
   "cell_type": "code",
   "execution_count": 95,
   "id": "7b547a13-095e-485a-99d5-32b6561aac7f",
   "metadata": {},
   "outputs": [
    {
     "name": "stderr",
     "output_type": "stream",
     "text": [
      "C:\\Users\\alain\\AppData\\Local\\Temp\\ipykernel_28316\\1829858849.py:1: SettingWithCopyWarning: \n",
      "A value is trying to be set on a copy of a slice from a DataFrame.\n",
      "Try using .loc[row_indexer,col_indexer] = value instead\n",
      "\n",
      "See the caveats in the documentation: https://pandas.pydata.org/pandas-docs/stable/user_guide/indexing.html#returning-a-view-versus-a-copy\n",
      "  data1[\"production_countries\"] = data1[\"production_countries\"].apply(join_names)\n"
     ]
    }
   ],
   "source": [
    "data1[\"production_countries\"] = data1[\"production_countries\"].apply(join_names)"
   ]
  },
  {
   "cell_type": "code",
   "execution_count": 97,
   "id": "3b211d2b-e39b-4af3-87c0-5c216d1ed196",
   "metadata": {},
   "outputs": [],
   "source": [
    "def key_words(x):\n",
    "    r = Rake()\n",
    "    r.extract_keywords_from_text(x[0])\n",
    "    key_words_scores = r.get_word_degrees()\n",
    "    return list(key_words_scores.keys())"
   ]
  },
  {
   "cell_type": "code",
   "execution_count": 99,
   "id": "9e5c1905-9b5d-41fb-9aa8-4be26052b8de",
   "metadata": {},
   "outputs": [
    {
     "name": "stderr",
     "output_type": "stream",
     "text": [
      "C:\\Users\\alain\\AppData\\Local\\Temp\\ipykernel_28316\\1243523397.py:1: SettingWithCopyWarning: \n",
      "A value is trying to be set on a copy of a slice from a DataFrame.\n",
      "Try using .loc[row_indexer,col_indexer] = value instead\n",
      "\n",
      "See the caveats in the documentation: https://pandas.pydata.org/pandas-docs/stable/user_guide/indexing.html#returning-a-view-versus-a-copy\n",
      "  data1[\"overview\"] = data1[\"overview\"].apply(key_words)\n"
     ]
    }
   ],
   "source": [
    "data1[\"overview\"] = data1[\"overview\"].apply(key_words)"
   ]
  },
  {
   "cell_type": "code",
   "execution_count": 100,
   "id": "294f4b69-c427-43a5-86c9-affc3b065720",
   "metadata": {},
   "outputs": [],
   "source": [
    "data1.set_index('original_title', inplace=True)"
   ]
  },
  {
   "cell_type": "code",
   "execution_count": 103,
   "id": "440e8b48-21d6-4b88-865b-88214b967952",
   "metadata": {},
   "outputs": [
    {
     "name": "stderr",
     "output_type": "stream",
     "text": [
      "C:\\Users\\alain\\AppData\\Local\\Temp\\ipykernel_28316\\469440472.py:1: SettingWithCopyWarning: \n",
      "A value is trying to be set on a copy of a slice from a DataFrame.\n",
      "Try using .loc[row_indexer,col_indexer] = value instead\n",
      "\n",
      "See the caveats in the documentation: https://pandas.pydata.org/pandas-docs/stable/user_guide/indexing.html#returning-a-view-versus-a-copy\n",
      "  data1[\"combined_data\"] = data1.apply(lambda row: [item for sublist in row for item in sublist], axis=1)\n"
     ]
    }
   ],
   "source": [
    "data1[\"combined_data\"] = data1.apply(lambda row: [item for sublist in row for item in sublist], axis=1)"
   ]
  },
  {
   "cell_type": "code",
   "execution_count": 105,
   "id": "ca368ef1-edda-41ea-9f17-ef63343de0e5",
   "metadata": {},
   "outputs": [
    {
     "name": "stderr",
     "output_type": "stream",
     "text": [
      "C:\\Users\\alain\\AppData\\Local\\Temp\\ipykernel_28316\\3782013469.py:1: SettingWithCopyWarning: \n",
      "A value is trying to be set on a copy of a slice from a DataFrame.\n",
      "Try using .loc[row_indexer,col_indexer] = value instead\n",
      "\n",
      "See the caveats in the documentation: https://pandas.pydata.org/pandas-docs/stable/user_guide/indexing.html#returning-a-view-versus-a-copy\n",
      "  data1[\"combined_data\"] = data1[\"combined_data\"].apply(lambda x: \" \".join(x))\n"
     ]
    }
   ],
   "source": [
    "data1[\"combined_data\"] = data1[\"combined_data\"].apply(lambda x: \" \".join(x))"
   ]
  },
  {
   "cell_type": "code",
   "execution_count": 107,
   "id": "6a41cafc-5e93-4f3d-ad82-90305a6fb4b8",
   "metadata": {},
   "outputs": [],
   "source": [
    "data1_main = data1[\"combined_data\"]"
   ]
  },
  {
   "cell_type": "code",
   "execution_count": 109,
   "id": "e5fc5568-ab44-4cda-92eb-c5c06651b271",
   "metadata": {},
   "outputs": [],
   "source": [
    "data1_main = pd.DataFrame(data1_main)"
   ]
  },
  {
   "cell_type": "code",
   "execution_count": 111,
   "id": "66cf33a9-5a79-4c59-843f-004722572310",
   "metadata": {},
   "outputs": [
    {
     "data": {
      "text/html": [
       "<div>\n",
       "<style scoped>\n",
       "    .dataframe tbody tr th:only-of-type {\n",
       "        vertical-align: middle;\n",
       "    }\n",
       "\n",
       "    .dataframe tbody tr th {\n",
       "        vertical-align: top;\n",
       "    }\n",
       "\n",
       "    .dataframe thead th {\n",
       "        text-align: right;\n",
       "    }\n",
       "</style>\n",
       "<table border=\"1\" class=\"dataframe\">\n",
       "  <thead>\n",
       "    <tr style=\"text-align: right;\">\n",
       "      <th></th>\n",
       "      <th>combined_data</th>\n",
       "    </tr>\n",
       "    <tr>\n",
       "      <th>original_title</th>\n",
       "      <th></th>\n",
       "    </tr>\n",
       "  </thead>\n",
       "  <tbody>\n",
       "    <tr>\n",
       "      <th>Avatar</th>\n",
       "      <td>action adventure fantasy science fiction 22nd ...</td>\n",
       "    </tr>\n",
       "    <tr>\n",
       "      <th>Pirates of the Caribbean: At World's End</th>\n",
       "      <td>adventure fantasy action captain barbossa walt...</td>\n",
       "    </tr>\n",
       "    <tr>\n",
       "      <th>Spectre</th>\n",
       "      <td>action adventure crime cryptic message bond ’ ...</td>\n",
       "    </tr>\n",
       "    <tr>\n",
       "      <th>The Dark Knight Rises</th>\n",
       "      <td>action crime drama thriller following death di...</td>\n",
       "    </tr>\n",
       "    <tr>\n",
       "      <th>John Carter</th>\n",
       "      <td>action adventure science fiction john carter w...</td>\n",
       "    </tr>\n",
       "  </tbody>\n",
       "</table>\n",
       "</div>"
      ],
      "text/plain": [
       "                                                                              combined_data\n",
       "original_title                                                                             \n",
       "Avatar                                    action adventure fantasy science fiction 22nd ...\n",
       "Pirates of the Caribbean: At World's End  adventure fantasy action captain barbossa walt...\n",
       "Spectre                                   action adventure crime cryptic message bond ’ ...\n",
       "The Dark Knight Rises                     action crime drama thriller following death di...\n",
       "John Carter                               action adventure science fiction john carter w..."
      ]
     },
     "execution_count": 111,
     "metadata": {},
     "output_type": "execute_result"
    }
   ],
   "source": [
    "data1_main.head()"
   ]
  },
  {
   "cell_type": "code",
   "execution_count": 113,
   "id": "f2edf19d-51af-4759-937b-b08ca7e1d2af",
   "metadata": {},
   "outputs": [],
   "source": [
    "count = CountVectorizer()"
   ]
  },
  {
   "cell_type": "code",
   "execution_count": 115,
   "id": "a836774d-305d-4e92-b449-33f7b9d37fa0",
   "metadata": {},
   "outputs": [],
   "source": [
    "count_matrix = count.fit_transform(data1_main[\"combined_data\"])"
   ]
  },
  {
   "cell_type": "code",
   "execution_count": 117,
   "id": "7feb7652-0438-4c96-8638-094ad2291979",
   "metadata": {},
   "outputs": [],
   "source": [
    "cosine_sim = cosine_similarity(count_matrix,count_matrix)"
   ]
  },
  {
   "cell_type": "code",
   "execution_count": 119,
   "id": "70cda968-92f1-4cda-8875-d576662e4328",
   "metadata": {},
   "outputs": [],
   "source": [
    "with open('models/cosine_sim.pkl', 'wb') as file:\n",
    "    pickle.dump(cosine_sim, file)"
   ]
  },
  {
   "cell_type": "code",
   "execution_count": 121,
   "id": "a61e4339-1126-4545-b24e-8ca9681a50d4",
   "metadata": {},
   "outputs": [],
   "source": [
    "indices = pd.Series(data1_main.index)"
   ]
  },
  {
   "cell_type": "code",
   "execution_count": 123,
   "id": "c774c225-87f9-4f5a-86f0-f2f423bc8d45",
   "metadata": {},
   "outputs": [],
   "source": [
    "ndf = df[[\"id\", \"original_title\"]]"
   ]
  },
  {
   "cell_type": "code",
   "execution_count": 127,
   "id": "297749bf-9798-48d5-ba30-447326c47eda",
   "metadata": {},
   "outputs": [],
   "source": [
    "def recommendation(title, cosine_sim = cosine_sim):\n",
    "    recommended_movies = []\n",
    "\n",
    "    idx = indices[indices == title].index[0]\n",
    "    scores = pd.Series(cosine_sim[idx]).sort_values(ascending = False)\n",
    "    top_10_idx = list(scores.iloc[1:11].index)\n",
    "    for i in top_10_idx:\n",
    "        recommended_movies.append(data1_main.index[i])\n",
    "    return recommended_movies, "
   ]
  },
  {
   "cell_type": "code",
   "execution_count": 129,
   "id": "80bfb8ac-c4a3-4fa1-a111-2a26dd6936a0",
   "metadata": {},
   "outputs": [
    {
     "data": {
      "text/plain": [
       "([\"Amidst the Devil's Wings\",\n",
       "  'The Mighty Macs',\n",
       "  'This Thing of Ours',\n",
       "  'The Way of the Gun',\n",
       "  'The Hunted',\n",
       "  'Kiss of Death',\n",
       "  'We Own the Night',\n",
       "  'Jimmy and Judy',\n",
       "  'Contraband',\n",
       "  'Shooter'],)"
      ]
     },
     "execution_count": 129,
     "metadata": {},
     "output_type": "execute_result"
    }
   ],
   "source": [
    "recommendation(\"The Yards\")"
   ]
  },
  {
   "cell_type": "code",
   "execution_count": 131,
   "id": "fac209e5-1fa3-4890-8f6b-984081b2a024",
   "metadata": {},
   "outputs": [],
   "source": [
    "#Based on production companies"
   ]
  },
  {
   "cell_type": "code",
   "execution_count": 133,
   "id": "fa515c64-bdf1-4e6a-89db-9f1518c44791",
   "metadata": {},
   "outputs": [],
   "source": [
    "df2 = merged_df[[\"original_title\", \"id\", \"production_companies\", \"vote_average\", \"vote_count\"]]"
   ]
  },
  {
   "cell_type": "code",
   "execution_count": 135,
   "id": "0d8b4d92-0892-45df-84d1-3de427f5ab94",
   "metadata": {},
   "outputs": [],
   "source": [
    "def join_names(x):\n",
    "    if pd.isna(x):\n",
    "        return \"\"\n",
    "    else:\n",
    "        n = x.split(\",\")\n",
    "        n = [name.replace(\" \", \"\") for name in n]\n",
    "        return \" \".join(n)"
   ]
  },
  {
   "cell_type": "code",
   "execution_count": 137,
   "id": "86fb238b-d776-4ae4-b6d8-7cf1524e83e4",
   "metadata": {},
   "outputs": [
    {
     "name": "stderr",
     "output_type": "stream",
     "text": [
      "C:\\Users\\alain\\AppData\\Local\\Temp\\ipykernel_28316\\215219623.py:1: SettingWithCopyWarning: \n",
      "A value is trying to be set on a copy of a slice from a DataFrame.\n",
      "Try using .loc[row_indexer,col_indexer] = value instead\n",
      "\n",
      "See the caveats in the documentation: https://pandas.pydata.org/pandas-docs/stable/user_guide/indexing.html#returning-a-view-versus-a-copy\n",
      "  df2[\"production_companies\"] = df2[\"production_companies\"].apply(join_names)\n"
     ]
    }
   ],
   "source": [
    "df2[\"production_companies\"] = df2[\"production_companies\"].apply(join_names)"
   ]
  },
  {
   "cell_type": "code",
   "execution_count": 139,
   "id": "0085d46f-7ad1-48e4-bd42-e1e722a561a5",
   "metadata": {},
   "outputs": [
    {
     "data": {
      "text/html": [
       "<div>\n",
       "<style scoped>\n",
       "    .dataframe tbody tr th:only-of-type {\n",
       "        vertical-align: middle;\n",
       "    }\n",
       "\n",
       "    .dataframe tbody tr th {\n",
       "        vertical-align: top;\n",
       "    }\n",
       "\n",
       "    .dataframe thead th {\n",
       "        text-align: right;\n",
       "    }\n",
       "</style>\n",
       "<table border=\"1\" class=\"dataframe\">\n",
       "  <thead>\n",
       "    <tr style=\"text-align: right;\">\n",
       "      <th></th>\n",
       "      <th>original_title</th>\n",
       "      <th>id</th>\n",
       "      <th>production_companies</th>\n",
       "      <th>vote_average</th>\n",
       "      <th>vote_count</th>\n",
       "    </tr>\n",
       "  </thead>\n",
       "  <tbody>\n",
       "    <tr>\n",
       "      <th>0</th>\n",
       "      <td>Avatar</td>\n",
       "      <td>19995</td>\n",
       "      <td>IngeniousFilmPartners TwentiethCenturyFoxFilmC...</td>\n",
       "      <td>7.2</td>\n",
       "      <td>11800</td>\n",
       "    </tr>\n",
       "    <tr>\n",
       "      <th>1</th>\n",
       "      <td>Pirates of the Caribbean: At World's End</td>\n",
       "      <td>285</td>\n",
       "      <td>WaltDisneyPictures JerryBruckheimerFilms Secon...</td>\n",
       "      <td>6.9</td>\n",
       "      <td>4500</td>\n",
       "    </tr>\n",
       "    <tr>\n",
       "      <th>2</th>\n",
       "      <td>Spectre</td>\n",
       "      <td>206647</td>\n",
       "      <td>ColumbiaPictures Danjaq B24</td>\n",
       "      <td>6.3</td>\n",
       "      <td>4466</td>\n",
       "    </tr>\n",
       "    <tr>\n",
       "      <th>3</th>\n",
       "      <td>The Dark Knight Rises</td>\n",
       "      <td>49026</td>\n",
       "      <td>LegendaryPictures WarnerBros. DCEntertainment ...</td>\n",
       "      <td>7.6</td>\n",
       "      <td>9106</td>\n",
       "    </tr>\n",
       "    <tr>\n",
       "      <th>4</th>\n",
       "      <td>John Carter</td>\n",
       "      <td>49529</td>\n",
       "      <td>WaltDisneyPictures</td>\n",
       "      <td>6.1</td>\n",
       "      <td>2124</td>\n",
       "    </tr>\n",
       "  </tbody>\n",
       "</table>\n",
       "</div>"
      ],
      "text/plain": [
       "                             original_title      id  \\\n",
       "0                                    Avatar   19995   \n",
       "1  Pirates of the Caribbean: At World's End     285   \n",
       "2                                   Spectre  206647   \n",
       "3                     The Dark Knight Rises   49026   \n",
       "4                               John Carter   49529   \n",
       "\n",
       "                                production_companies  vote_average  vote_count  \n",
       "0  IngeniousFilmPartners TwentiethCenturyFoxFilmC...           7.2       11800  \n",
       "1  WaltDisneyPictures JerryBruckheimerFilms Secon...           6.9        4500  \n",
       "2                        ColumbiaPictures Danjaq B24           6.3        4466  \n",
       "3  LegendaryPictures WarnerBros. DCEntertainment ...           7.6        9106  \n",
       "4                                 WaltDisneyPictures           6.1        2124  "
      ]
     },
     "execution_count": 139,
     "metadata": {},
     "output_type": "execute_result"
    }
   ],
   "source": [
    "df2.head()"
   ]
  },
  {
   "cell_type": "code",
   "execution_count": 141,
   "id": "7636652f-4fb7-45a8-8d63-5681cc419c45",
   "metadata": {},
   "outputs": [],
   "source": [
    "C = df2['vote_average'].mean()\n",
    "m = df2['vote_count'].quantile(0.75)"
   ]
  },
  {
   "cell_type": "code",
   "execution_count": 143,
   "id": "f529f88a-a78d-4aea-a85d-5d0e70b13b40",
   "metadata": {},
   "outputs": [],
   "source": [
    "def weighted_rating(x, m=m, C=C):\n",
    "    v = x['vote_count']\n",
    "    R = x['vote_average']\n",
    "    return (v/(v+m) * R) + (m/(m+v) * C)"
   ]
  },
  {
   "cell_type": "code",
   "execution_count": 145,
   "id": "033b8a09-d891-4769-865a-7ace88a4618b",
   "metadata": {},
   "outputs": [
    {
     "name": "stderr",
     "output_type": "stream",
     "text": [
      "C:\\Users\\alain\\AppData\\Local\\Temp\\ipykernel_28316\\3647870323.py:1: SettingWithCopyWarning: \n",
      "A value is trying to be set on a copy of a slice from a DataFrame.\n",
      "Try using .loc[row_indexer,col_indexer] = value instead\n",
      "\n",
      "See the caveats in the documentation: https://pandas.pydata.org/pandas-docs/stable/user_guide/indexing.html#returning-a-view-versus-a-copy\n",
      "  df2['weighted_rating'] = df2.apply(weighted_rating, axis=1)\n"
     ]
    }
   ],
   "source": [
    "df2['weighted_rating'] = df2.apply(weighted_rating, axis=1)"
   ]
  },
  {
   "cell_type": "code",
   "execution_count": 147,
   "id": "3f18d808-178c-40b6-b57a-d05b5ef3791c",
   "metadata": {},
   "outputs": [],
   "source": [
    "count_vectorizer = CountVectorizer()\n",
    "count_matrix = count_vectorizer.fit_transform(df2['production_companies'])\n",
    "\n",
    "cosine_sim = cosine_similarity(count_matrix, count_matrix)"
   ]
  },
  {
   "cell_type": "code",
   "execution_count": null,
   "id": "97b14c3d-f509-41f6-980a-6ee70aa4bec1",
   "metadata": {},
   "outputs": [],
   "source": [
    "with open('models/cosine_sim_prod.pkl', 'wb') as file:\n",
    "    pickle.dump(cosine_sim, file)"
   ]
  },
  {
   "cell_type": "code",
   "execution_count": 167,
   "id": "a3702959-b4f3-42a2-b559-06ab44aedd17",
   "metadata": {},
   "outputs": [],
   "source": [
    "df_main = df2[[\"original_title\", \"weighted_rating\"]]"
   ]
  },
  {
   "cell_type": "code",
   "execution_count": 169,
   "id": "ceafeed8-eafc-4a69-83fd-0364d6123a77",
   "metadata": {},
   "outputs": [],
   "source": [
    "content_based_data = ndf.copy()"
   ]
  },
  {
   "cell_type": "code",
   "execution_count": 171,
   "id": "5404a052-4e9e-496e-a6fa-086eabe3f785",
   "metadata": {},
   "outputs": [],
   "source": [
    "merged_df = pd.merge(content_based_data, df_main, on='original_title', how='inner')"
   ]
  },
  {
   "cell_type": "code",
   "execution_count": 173,
   "id": "39e6247c-0d33-45c2-b8f8-808205464b74",
   "metadata": {},
   "outputs": [],
   "source": [
    "merged_df.to_csv(\"datasets/main_df.csv\")"
   ]
  },
  {
   "cell_type": "code",
   "execution_count": 175,
   "id": "cf48fb25-ebdf-49c0-8ab7-9a48b734b9a8",
   "metadata": {},
   "outputs": [
    {
     "data": {
      "text/html": [
       "<div>\n",
       "<style scoped>\n",
       "    .dataframe tbody tr th:only-of-type {\n",
       "        vertical-align: middle;\n",
       "    }\n",
       "\n",
       "    .dataframe tbody tr th {\n",
       "        vertical-align: top;\n",
       "    }\n",
       "\n",
       "    .dataframe thead th {\n",
       "        text-align: right;\n",
       "    }\n",
       "</style>\n",
       "<table border=\"1\" class=\"dataframe\">\n",
       "  <thead>\n",
       "    <tr style=\"text-align: right;\">\n",
       "      <th></th>\n",
       "      <th>id</th>\n",
       "      <th>original_title</th>\n",
       "      <th>weighted_rating</th>\n",
       "    </tr>\n",
       "  </thead>\n",
       "  <tbody>\n",
       "    <tr>\n",
       "      <th>0</th>\n",
       "      <td>19995</td>\n",
       "      <td>Avatar</td>\n",
       "      <td>7.134952</td>\n",
       "    </tr>\n",
       "    <tr>\n",
       "      <th>1</th>\n",
       "      <td>285</td>\n",
       "      <td>Pirates of the Caribbean: At World's End</td>\n",
       "      <td>6.786532</td>\n",
       "    </tr>\n",
       "    <tr>\n",
       "      <th>2</th>\n",
       "      <td>206647</td>\n",
       "      <td>Spectre</td>\n",
       "      <td>6.270830</td>\n",
       "    </tr>\n",
       "    <tr>\n",
       "      <th>3</th>\n",
       "      <td>49026</td>\n",
       "      <td>The Dark Knight Rises</td>\n",
       "      <td>7.487181</td>\n",
       "    </tr>\n",
       "    <tr>\n",
       "      <th>4</th>\n",
       "      <td>49529</td>\n",
       "      <td>John Carter</td>\n",
       "      <td>6.098502</td>\n",
       "    </tr>\n",
       "  </tbody>\n",
       "</table>\n",
       "</div>"
      ],
      "text/plain": [
       "       id                            original_title  weighted_rating\n",
       "0   19995                                    Avatar         7.134952\n",
       "1     285  Pirates of the Caribbean: At World's End         6.786532\n",
       "2  206647                                   Spectre         6.270830\n",
       "3   49026                     The Dark Knight Rises         7.487181\n",
       "4   49529                               John Carter         6.098502"
      ]
     },
     "execution_count": 175,
     "metadata": {},
     "output_type": "execute_result"
    }
   ],
   "source": [
    "merged_df.head()"
   ]
  },
  {
   "cell_type": "code",
   "execution_count": 177,
   "id": "e720dd1d-d05f-4b5a-b4e1-40dfa5f4083d",
   "metadata": {},
   "outputs": [],
   "source": [
    "def get_recommendations(title, cosine_sim=cosine_sim, df=df2):\n",
    "    idx = df2.index[df2['original_title'] == title][0]\n",
    "    sim_scores = list(enumerate(cosine_sim[idx]))\n",
    "    sim_scores = sorted(sim_scores, key=lambda x: x[1], reverse=True)\n",
    "    sim_scores = sim_scores[1:50]  # Get top 50 similar movies\n",
    "\n",
    "    # Adjust scores based on weighted rating\n",
    "    movie_indices = [i[0] for i in sim_scores]\n",
    "    movies = df2.iloc[movie_indices].copy()\n",
    "    movies = movies.sort_values('weighted_rating', ascending=False)\n",
    "\n",
    "    movies = movies[movies[\"original_title\"] != title]\n",
    "    movies = movies[movies[\"weighted_rating\"] > 5.8]\n",
    "    movies = movies[['original_title', \"id\", 'weighted_rating']]\n",
    "    random_movie = df.sample(n=10)\n",
    "    return list(random_movie[\"original_title\"]),list(random_movie[\"id\"])"
   ]
  },
  {
   "cell_type": "code",
   "execution_count": 179,
   "id": "a75b003f-238c-4d46-b74d-d1a9636b7ab4",
   "metadata": {},
   "outputs": [
    {
     "data": {
      "text/plain": [
       "([\"King's Ransom\",\n",
       "  'Western Religion',\n",
       "  'Tango & Cash',\n",
       "  'Bangkok Dangerous',\n",
       "  'Hide and Seek',\n",
       "  'RoboCop',\n",
       "  'Twin Falls Idaho',\n",
       "  'Doctor Dolittle',\n",
       "  'Tycoon',\n",
       "  'Jerry Maguire'],\n",
       " [27360, 376010, 9618, 13184, 11096, 97020, 33430, 3050, 56930, 9390])"
      ]
     },
     "execution_count": 179,
     "metadata": {},
     "output_type": "execute_result"
    }
   ],
   "source": [
    "get_recommendations(\"The Avengers\", df =merged_df )"
   ]
  },
  {
   "cell_type": "code",
   "execution_count": null,
   "id": "6c86e512-b3b8-42a1-9abb-87649675e425",
   "metadata": {},
   "outputs": [],
   "source": []
  }
 ],
 "metadata": {
  "kernelspec": {
   "display_name": "Python 3 (ipykernel)",
   "language": "python",
   "name": "python3"
  },
  "language_info": {
   "codemirror_mode": {
    "name": "ipython",
    "version": 3
   },
   "file_extension": ".py",
   "mimetype": "text/x-python",
   "name": "python",
   "nbconvert_exporter": "python",
   "pygments_lexer": "ipython3",
   "version": "3.11.7"
  }
 },
 "nbformat": 4,
 "nbformat_minor": 5
}
